{
 "metadata": {
  "language_info": {
   "codemirror_mode": {
    "name": "ipython",
    "version": 3
   },
   "file_extension": ".py",
   "mimetype": "text/x-python",
   "name": "python",
   "nbconvert_exporter": "python",
   "pygments_lexer": "ipython3",
   "version": "3.9.0-final"
  },
  "orig_nbformat": 2,
  "kernelspec": {
   "name": "python3",
   "display_name": "Python 3.9.0 64-bit ('lchain': conda)",
   "metadata": {
    "interpreter": {
     "hash": "1403022d2b32c8e6f20e49dd0b70ce78c4230a2b7658bb052cc681d0e61e6286"
    }
   }
  }
 },
 "nbformat": 4,
 "nbformat_minor": 2,
 "cells": [
  {
   "source": [
    "# Self Attention in Transformers"
   ],
   "cell_type": "markdown",
   "metadata": {}
  },
  {
   "cell_type": "code",
   "execution_count": 1,
   "metadata": {},
   "outputs": [],
   "source": [
    "import numpy as np \n",
    "import math \n",
    "\n",
    "\n",
    "L, d_k, d_v = 4, 8, 8\n",
    "q = np.random.randn(L, d_k)\n",
    "k = np.random.randn(L, d_k)\n",
    "v = np.random.randn(L, d_v)"
   ]
  },
  {
   "cell_type": "code",
   "execution_count": 2,
   "metadata": {},
   "outputs": [
    {
     "output_type": "stream",
     "name": "stdout",
     "text": [
      "Q\n [[ 0.42639545 -0.14750816  1.20058398 -0.23310401  1.70336859 -0.00644859\n  -1.94201439  0.62941988]\n [-0.23197754 -0.93558371  1.24550005  0.63333462 -0.39052655 -0.43716867\n   1.27518761 -0.62483366]\n [ 0.28885182  1.14288872 -1.41678133  1.1968535  -1.64383917 -0.75516231\n  -0.31334341 -1.10483139]\n [-1.98028379 -0.77179123  0.59467089  0.15253073  0.85177876  0.50856472\n   0.16502912  0.37288479]]\nK\n [[-0.67472111  1.00395964  0.07499845  3.14504906  0.78688452 -0.19955353\n   0.80037524  0.05360393]\n [ 1.5169396  -0.7661733   1.52156611  0.05756113  1.59052869 -0.0648331\n   1.04913153 -0.73139845]\n [ 1.65246361 -0.08914699 -0.10161615  0.21183951  1.33964287  1.54543946\n  -0.07892107 -0.72544209]\n [ 0.01854859 -0.99078158  0.57808644  0.93955904  0.20507054 -1.00794267\n   1.39476614 -0.53686085]]\nV\n [[-0.15667422 -0.25297533  0.98637787 -1.21052519  0.14008743 -0.11860376\n  -0.91613314 -0.61867318]\n [ 1.27346853 -0.24936136 -0.33065819  0.07115656 -0.00448843  1.02634922\n   2.66971584  1.03188392]\n [ 0.47777995  1.01735913 -2.01384385  0.70010098  1.45077047 -0.40224903\n  -0.38312031 -0.51512854]\n [-1.17706872  0.32181194 -0.73021792 -0.57277547 -0.77283754  0.77115794\n   0.91126906 -1.60940595]]\n"
     ]
    }
   ],
   "source": [
    "print(\"Q\\n\", q)\n",
    "print(\"K\\n\", k)\n",
    "print(\"V\\n\", v)"
   ]
  },
  {
   "source": [
    "## Self attention \n",
    "\n",
    "softmax(Q.K^T / sqrt(d_k) +M). V"
   ],
   "cell_type": "markdown",
   "metadata": {}
  },
  {
   "cell_type": "code",
   "execution_count": 3,
   "metadata": {},
   "outputs": [
    {
     "output_type": "execute_result",
     "data": {
      "text/plain": [
       "array([[-1.25783152,  2.78507256,  2.51497136, -2.06167256],\n",
       "       [ 2.06958522,  3.49853067, -1.13846996,  4.71231092],\n",
       "       [ 3.1575944 , -4.61059461, -1.7700537 , -0.24134559],\n",
       "       [ 1.80644698, -0.27681753, -1.58815544,  0.9070883 ]])"
      ]
     },
     "metadata": {},
     "execution_count": 3
    }
   ],
   "source": [
    "np.matmul(q, k.T)"
   ]
  },
  {
   "cell_type": "code",
   "execution_count": 4,
   "metadata": {},
   "outputs": [
    {
     "output_type": "execute_result",
     "data": {
      "text/plain": [
       "(0.9208095192447721, 0.9164889113306682, 6.0325485438938715)"
      ]
     },
     "metadata": {},
     "execution_count": 4
    }
   ],
   "source": [
    "q.var(), k.var(), np.matmul(q, k.T).var()"
   ]
  },
  {
   "cell_type": "code",
   "execution_count": 5,
   "metadata": {},
   "outputs": [
    {
     "output_type": "execute_result",
     "data": {
      "text/plain": [
       "(0.9208095192447721, 0.9164889113306682, 0.7540685679867338)"
      ]
     },
     "metadata": {},
     "execution_count": 5
    }
   ],
   "source": [
    "scaled = np.matmul(q, k.T) / math.sqrt(d_k)\n",
    "q.var(), k.var(), scaled.var()"
   ]
  },
  {
   "cell_type": "code",
   "execution_count": 6,
   "metadata": {},
   "outputs": [
    {
     "output_type": "execute_result",
     "data": {
      "text/plain": [
       "array([[-0.4447106 ,  0.98467185,  0.88917665, -0.72891132],\n",
       "       [ 0.73170887,  1.23691738, -0.40250991,  1.6660535 ],\n",
       "       [ 1.11637821, -1.63009136, -0.62580849, -0.08532855],\n",
       "       [ 0.63867545, -0.09786978, -0.56149774,  0.32070414]])"
      ]
     },
     "metadata": {},
     "execution_count": 6
    }
   ],
   "source": [
    "scaled"
   ]
  },
  {
   "source": [
    "## Masking\n",
    "\n",
    "* This is to ensure words don't get context from words generated in the future.\n",
    "* Not required in the encoders, but required in the decoders"
   ],
   "cell_type": "markdown",
   "metadata": {}
  },
  {
   "cell_type": "code",
   "execution_count": 7,
   "metadata": {},
   "outputs": [
    {
     "output_type": "execute_result",
     "data": {
      "text/plain": [
       "array([[1., 0., 0., 0.],\n",
       "       [1., 1., 0., 0.],\n",
       "       [1., 1., 1., 0.],\n",
       "       [1., 1., 1., 1.]])"
      ]
     },
     "metadata": {},
     "execution_count": 7
    }
   ],
   "source": [
    "mask = np.tril(np.ones((L,L)))\n",
    "mask"
   ]
  },
  {
   "cell_type": "code",
   "execution_count": 8,
   "metadata": {},
   "outputs": [
    {
     "output_type": "execute_result",
     "data": {
      "text/plain": [
       "array([[  0., -inf, -inf, -inf],\n",
       "       [  0.,   0., -inf, -inf],\n",
       "       [  0.,   0.,   0., -inf],\n",
       "       [  0.,   0.,   0.,   0.]])"
      ]
     },
     "metadata": {},
     "execution_count": 8
    }
   ],
   "source": [
    "mask[mask == 0] = -np.inf\n",
    "mask[mask == 1] = 0\n",
    "mask"
   ]
  },
  {
   "cell_type": "code",
   "execution_count": 9,
   "metadata": {},
   "outputs": [
    {
     "output_type": "execute_result",
     "data": {
      "text/plain": [
       "array([[-0.4447106 ,        -inf,        -inf,        -inf],\n",
       "       [ 0.73170887,  1.23691738,        -inf,        -inf],\n",
       "       [ 1.11637821, -1.63009136, -0.62580849,        -inf],\n",
       "       [ 0.63867545, -0.09786978, -0.56149774,  0.32070414]])"
      ]
     },
     "metadata": {},
     "execution_count": 9
    }
   ],
   "source": [
    "scaled + mask"
   ]
  },
  {
   "cell_type": "code",
   "execution_count": 10,
   "metadata": {},
   "outputs": [],
   "source": [
    "def softmax(x):\n",
    "    return (np.exp(x).T / np.sum(np.exp(x), axis =-1)).T"
   ]
  },
  {
   "cell_type": "code",
   "execution_count": 11,
   "metadata": {},
   "outputs": [
    {
     "output_type": "execute_result",
     "data": {
      "text/plain": [
       "array([[1.        , 0.        , 0.        , 0.        ],\n",
       "       [0.37631743, 0.62368257, 0.        , 0.        ],\n",
       "       [0.80691301, 0.05176666, 0.14132033, 0.        ],\n",
       "       [0.39879869, 0.19093089, 0.12009506, 0.29017536]])"
      ]
     },
     "metadata": {},
     "execution_count": 11
    }
   ],
   "source": [
    "attention = softmax(scaled + mask)\n",
    "attention"
   ]
  },
  {
   "cell_type": "code",
   "execution_count": 12,
   "metadata": {},
   "outputs": [],
   "source": [
    "new_v = np.matmul(attention, v)"
   ]
  },
  {
   "cell_type": "code",
   "execution_count": 13,
   "metadata": {},
   "outputs": [
    {
     "output_type": "execute_result",
     "data": {
      "text/plain": [
       "array([[-0.15667422, -0.25297533,  0.98637787, -1.21052519,  0.14008743,\n",
       "        -0.11860376, -0.91613314, -0.61867318],\n",
       "       [ 0.73528088, -0.25072136,  0.16496544, -0.41116262,  0.04991798,\n",
       "         0.59548345,  1.32029836,  0.41075051],\n",
       "       [ 0.00702077, -0.07326416,  0.49420698, -0.87416648,  0.31782938,\n",
       "        -0.09941821, -0.65518017, -0.51859639],\n",
       "       [-0.10351433,  0.06706468, -0.1235106 , -0.55129654,  0.00498165,\n",
       "         0.32412566,  0.3627955 , -0.57858189]])"
      ]
     },
     "metadata": {},
     "execution_count": 13
    }
   ],
   "source": [
    "new_v"
   ]
  },
  {
   "cell_type": "code",
   "execution_count": 14,
   "metadata": {},
   "outputs": [
    {
     "output_type": "execute_result",
     "data": {
      "text/plain": [
       "array([[-0.15667422, -0.25297533,  0.98637787, -1.21052519,  0.14008743,\n",
       "        -0.11860376, -0.91613314, -0.61867318],\n",
       "       [ 1.27346853, -0.24936136, -0.33065819,  0.07115656, -0.00448843,\n",
       "         1.02634922,  2.66971584,  1.03188392],\n",
       "       [ 0.47777995,  1.01735913, -2.01384385,  0.70010098,  1.45077047,\n",
       "        -0.40224903, -0.38312031, -0.51512854],\n",
       "       [-1.17706872,  0.32181194, -0.73021792, -0.57277547, -0.77283754,\n",
       "         0.77115794,  0.91126906, -1.60940595]])"
      ]
     },
     "metadata": {},
     "execution_count": 14
    }
   ],
   "source": [
    "v"
   ]
  },
  {
   "cell_type": "code",
   "execution_count": 15,
   "metadata": {},
   "outputs": [],
   "source": [
    "def scaled_dot_product_attention(q, k, v, mask=None):\n",
    "    d_k = q.shape[-1]\n",
    "    scaled = np.matmul(q, k.T) / math.sqrt(d_k)\n",
    "    if mask is not None:\n",
    "        scaled = scaled + mask\n",
    "    attention = softmax(scaled)\n",
    "    out = np.matmul(attention, v)\n",
    "    return out, attention"
   ]
  },
  {
   "cell_type": "code",
   "execution_count": 16,
   "metadata": {},
   "outputs": [
    {
     "output_type": "stream",
     "name": "stdout",
     "text": [
      "Q\n [[ 0.42639545 -0.14750816  1.20058398 -0.23310401  1.70336859 -0.00644859\n  -1.94201439  0.62941988]\n [-0.23197754 -0.93558371  1.24550005  0.63333462 -0.39052655 -0.43716867\n   1.27518761 -0.62483366]\n [ 0.28885182  1.14288872 -1.41678133  1.1968535  -1.64383917 -0.75516231\n  -0.31334341 -1.10483139]\n [-1.98028379 -0.77179123  0.59467089  0.15253073  0.85177876  0.50856472\n   0.16502912  0.37288479]]\nK\n [[-0.67472111  1.00395964  0.07499845  3.14504906  0.78688452 -0.19955353\n   0.80037524  0.05360393]\n [ 1.5169396  -0.7661733   1.52156611  0.05756113  1.59052869 -0.0648331\n   1.04913153 -0.73139845]\n [ 1.65246361 -0.08914699 -0.10161615  0.21183951  1.33964287  1.54543946\n  -0.07892107 -0.72544209]\n [ 0.01854859 -0.99078158  0.57808644  0.93955904  0.20507054 -1.00794267\n   1.39476614 -0.53686085]]\nV\n [[-0.15667422 -0.25297533  0.98637787 -1.21052519  0.14008743 -0.11860376\n  -0.91613314 -0.61867318]\n [ 1.27346853 -0.24936136 -0.33065819  0.07115656 -0.00448843  1.02634922\n   2.66971584  1.03188392]\n [ 0.47777995  1.01735913 -2.01384385  0.70010098  1.45077047 -0.40224903\n  -0.38312031 -0.51512854]\n [-1.17706872  0.32181194 -0.73021792 -0.57277547 -0.77283754  0.77115794\n   0.91126906 -1.60940595]]\nNew V\n [[ 0.62616504  0.28891174 -0.88314537  0.13501722  0.51894513  0.33123474\n   0.97326475  0.05388696]\n [-0.16086511  0.08692009 -0.37437162 -0.4209243  -0.24761654  0.61833479\n   1.03264652 -0.57398671]\n [-0.22417358  0.00387474  0.25513711 -0.81531966  0.10487586  0.07056243\n  -0.3493298  -0.73157777]\n [-0.10351433  0.06706468 -0.1235106  -0.55129654  0.00498165  0.32412566\n   0.3627955  -0.57858189]]\nAttention\n [[0.102833   0.42944289 0.3903304  0.07739372]\n [0.18101025 0.29999391 0.05822617 0.46076967]\n [0.64936265 0.04165918 0.11372743 0.19525074]\n [0.39879869 0.19093089 0.12009506 0.29017536]]\n"
     ]
    }
   ],
   "source": [
    "values, attention = scaled_dot_product_attention(q, k, v, mask=None)\n",
    "print(\"Q\\n\", q)\n",
    "print(\"K\\n\", k)\n",
    "print(\"V\\n\", v)\n",
    "print(\"New V\\n\", values)\n",
    "print(\"Attention\\n\", attention)"
   ]
  },
  {
   "cell_type": "code",
   "execution_count": 19,
   "metadata": {},
   "outputs": [
    {
     "output_type": "stream",
     "name": "stdout",
     "text": [
      "Q\n [[ 0.42639545 -0.14750816  1.20058398 -0.23310401  1.70336859 -0.00644859\n  -1.94201439  0.62941988]\n [-0.23197754 -0.93558371  1.24550005  0.63333462 -0.39052655 -0.43716867\n   1.27518761 -0.62483366]\n [ 0.28885182  1.14288872 -1.41678133  1.1968535  -1.64383917 -0.75516231\n  -0.31334341 -1.10483139]\n [-1.98028379 -0.77179123  0.59467089  0.15253073  0.85177876  0.50856472\n   0.16502912  0.37288479]]\nK\n [[-0.67472111  1.00395964  0.07499845  3.14504906  0.78688452 -0.19955353\n   0.80037524  0.05360393]\n [ 1.5169396  -0.7661733   1.52156611  0.05756113  1.59052869 -0.0648331\n   1.04913153 -0.73139845]\n [ 1.65246361 -0.08914699 -0.10161615  0.21183951  1.33964287  1.54543946\n  -0.07892107 -0.72544209]\n [ 0.01854859 -0.99078158  0.57808644  0.93955904  0.20507054 -1.00794267\n   1.39476614 -0.53686085]]\nV\n [[-0.15667422 -0.25297533  0.98637787 -1.21052519  0.14008743 -0.11860376\n  -0.91613314 -0.61867318]\n [ 1.27346853 -0.24936136 -0.33065819  0.07115656 -0.00448843  1.02634922\n   2.66971584  1.03188392]\n [ 0.47777995  1.01735913 -2.01384385  0.70010098  1.45077047 -0.40224903\n  -0.38312031 -0.51512854]\n [-1.17706872  0.32181194 -0.73021792 -0.57277547 -0.77283754  0.77115794\n   0.91126906 -1.60940595]]\nNew V\n [[-0.15667422 -0.25297533  0.98637787 -1.21052519  0.14008743 -0.11860376\n  -0.91613314 -0.61867318]\n [ 0.73528088 -0.25072136  0.16496544 -0.41116262  0.04991798  0.59548345\n   1.32029836  0.41075051]\n [ 0.00702077 -0.07326416  0.49420698 -0.87416648  0.31782938 -0.09941821\n  -0.65518017 -0.51859639]\n [-0.10351433  0.06706468 -0.1235106  -0.55129654  0.00498165  0.32412566\n   0.3627955  -0.57858189]]\nAttention\n [[1.         0.         0.         0.        ]\n [0.37631743 0.62368257 0.         0.        ]\n [0.80691301 0.05176666 0.14132033 0.        ]\n [0.39879869 0.19093089 0.12009506 0.29017536]]\n"
     ]
    }
   ],
   "source": [
    "values, attention = scaled_dot_product_attention(q, k, v, mask=mask)\n",
    "print(\"Q\\n\", q)\n",
    "print(\"K\\n\", k)\n",
    "print(\"V\\n\", v)\n",
    "print(\"New V\\n\", values)\n",
    "print(\"Attention\\n\", attention)"
   ]
  },
  {
   "source": [
    "# Multihead attention"
   ],
   "cell_type": "markdown",
   "metadata": {}
  },
  {
   "cell_type": "code",
   "execution_count": 20,
   "metadata": {},
   "outputs": [],
   "source": [
    "import numpy as np\n",
    "import torch\n",
    "import torch.nn as nn\n",
    "import torch.nn.functional as F"
   ]
  },
  {
   "cell_type": "code",
   "execution_count": 21,
   "metadata": {},
   "outputs": [],
   "source": [
    "sequence_length = 4\n",
    "batch_size = 1\n",
    "input_dim = 512\n",
    "d_model = 512\n",
    "x = torch.randn( (batch_size, sequence_length, input_dim))"
   ]
  },
  {
   "cell_type": "code",
   "execution_count": 22,
   "metadata": {},
   "outputs": [
    {
     "output_type": "execute_result",
     "data": {
      "text/plain": [
       "torch.Size([1, 4, 512])"
      ]
     },
     "metadata": {},
     "execution_count": 22
    }
   ],
   "source": [
    "x.size()"
   ]
  },
  {
   "cell_type": "code",
   "execution_count": 23,
   "metadata": {},
   "outputs": [],
   "source": [
    "qkv_layer = nn.Linear(input_dim, 3*d_model)"
   ]
  },
  {
   "cell_type": "code",
   "execution_count": 24,
   "metadata": {},
   "outputs": [],
   "source": [
    "qkv = qkv_layer(x)"
   ]
  },
  {
   "cell_type": "code",
   "execution_count": 25,
   "metadata": {},
   "outputs": [
    {
     "output_type": "execute_result",
     "data": {
      "text/plain": [
       "torch.Size([1, 4, 1536])"
      ]
     },
     "metadata": {},
     "execution_count": 25
    }
   ],
   "source": [
    "qkv.size()"
   ]
  },
  {
   "cell_type": "code",
   "execution_count": 26,
   "metadata": {},
   "outputs": [
    {
     "output_type": "execute_result",
     "data": {
      "text/plain": [
       "Text(0.5, 1.0, 'qkv distribution')"
      ]
     },
     "metadata": {},
     "execution_count": 26
    },
    {
     "output_type": "display_data",
     "data": {
      "text/plain": "<Figure size 640x480 with 1 Axes>",
      "image/svg+xml": "<?xml version=\"1.0\" encoding=\"utf-8\" standalone=\"no\"?>\n<!DOCTYPE svg PUBLIC \"-//W3C//DTD SVG 1.1//EN\"\n  \"http://www.w3.org/Graphics/SVG/1.1/DTD/svg11.dtd\">\n<svg xmlns:xlink=\"http://www.w3.org/1999/xlink\" width=\"397.6075pt\" height=\"312.30825pt\" viewBox=\"0 0 397.6075 312.30825\" xmlns=\"http://www.w3.org/2000/svg\" version=\"1.1\">\n <metadata>\n  <rdf:RDF xmlns:dc=\"http://purl.org/dc/elements/1.1/\" xmlns:cc=\"http://creativecommons.org/ns#\" xmlns:rdf=\"http://www.w3.org/1999/02/22-rdf-syntax-ns#\">\n   <cc:Work>\n    <dc:type rdf:resource=\"http://purl.org/dc/dcmitype/StillImage\"/>\n    <dc:date>2023-10-31T12:14:50.084050</dc:date>\n    <dc:format>image/svg+xml</dc:format>\n    <dc:creator>\n     <cc:Agent>\n      <dc:title>Matplotlib v3.6.2, https://matplotlib.org/</dc:title>\n     </cc:Agent>\n    </dc:creator>\n   </cc:Work>\n  </rdf:RDF>\n </metadata>\n <defs>\n  <style type=\"text/css\">*{stroke-linejoin: round; stroke-linecap: butt}</style>\n </defs>\n <g id=\"figure_1\">\n  <g id=\"patch_1\">\n   <path d=\"M 0 312.30825 \nL 397.6075 312.30825 \nL 397.6075 0 \nL 0 0 \nz\n\" style=\"fill: #ffffff\"/>\n  </g>\n  <g id=\"axes_1\">\n   <g id=\"patch_2\">\n    <path d=\"M 33.2875 288.430125 \nL 390.4075 288.430125 \nL 390.4075 22.318125 \nL 33.2875 22.318125 \nz\n\" style=\"fill: #ffffff\"/>\n   </g>\n   <g id=\"patch_3\">\n    <path d=\"M 49.520227 288.430125 \nL 87.884132 288.430125 \nL 87.884132 288.430125 \nL 49.520227 288.430125 \nz\n\" clip-path=\"url(#p3c9fd10ac7)\" style=\"fill: #228b22\"/>\n   </g>\n   <g id=\"patch_4\">\n    <path d=\"M 50.958874 288.430125 \nL 89.322779 288.430125 \nL 89.322779 288.430125 \nL 50.958874 288.430125 \nz\n\" clip-path=\"url(#p3c9fd10ac7)\" style=\"fill: #228b22\"/>\n   </g>\n   <g id=\"patch_5\">\n    <path d=\"M 52.39752 288.430125 \nL 90.761425 288.430125 \nL 90.761425 288.430125 \nL 52.39752 288.430125 \nz\n\" clip-path=\"url(#p3c9fd10ac7)\" style=\"fill: #228b22\"/>\n   </g>\n   <g id=\"patch_6\">\n    <path d=\"M 53.836167 288.430125 \nL 92.200072 288.430125 \nL 92.200072 288.430125 \nL 53.836167 288.430125 \nz\n\" clip-path=\"url(#p3c9fd10ac7)\" style=\"fill: #228b22\"/>\n   </g>\n   <g id=\"patch_7\">\n    <path d=\"M 55.274813 288.430125 \nL 93.638718 288.430125 \nL 93.638718 288.430125 \nL 55.274813 288.430125 \nz\n\" clip-path=\"url(#p3c9fd10ac7)\" style=\"fill: #228b22\"/>\n   </g>\n   <g id=\"patch_8\">\n    <path d=\"M 56.713459 288.430125 \nL 95.077364 288.430125 \nL 95.077364 288.430125 \nL 56.713459 288.430125 \nz\n\" clip-path=\"url(#p3c9fd10ac7)\" style=\"fill: #228b22\"/>\n   </g>\n   <g id=\"patch_9\">\n    <path d=\"M 58.152106 288.430125 \nL 96.516011 288.430125 \nL 96.516011 288.430125 \nL 58.152106 288.430125 \nz\n\" clip-path=\"url(#p3c9fd10ac7)\" style=\"fill: #228b22\"/>\n   </g>\n   <g id=\"patch_10\">\n    <path d=\"M 59.590752 288.430125 \nL 97.954657 288.430125 \nL 97.954657 288.430125 \nL 59.590752 288.430125 \nz\n\" clip-path=\"url(#p3c9fd10ac7)\" style=\"fill: #228b22\"/>\n   </g>\n   <g id=\"patch_11\">\n    <path d=\"M 61.029399 288.430125 \nL 99.393304 288.430125 \nL 99.393304 288.430125 \nL 61.029399 288.430125 \nz\n\" clip-path=\"url(#p3c9fd10ac7)\" style=\"fill: #228b22\"/>\n   </g>\n   <g id=\"patch_12\">\n    <path d=\"M 62.468045 288.430125 \nL 100.83195 288.430125 \nL 100.83195 288.430125 \nL 62.468045 288.430125 \nz\n\" clip-path=\"url(#p3c9fd10ac7)\" style=\"fill: #228b22\"/>\n   </g>\n   <g id=\"patch_13\">\n    <path d=\"M 63.906692 288.430125 \nL 102.270597 288.430125 \nL 102.270597 288.430125 \nL 63.906692 288.430125 \nz\n\" clip-path=\"url(#p3c9fd10ac7)\" style=\"fill: #228b22\"/>\n   </g>\n   <g id=\"patch_14\">\n    <path d=\"M 65.345338 288.430125 \nL 103.709243 288.430125 \nL 103.709243 288.430125 \nL 65.345338 288.430125 \nz\n\" clip-path=\"url(#p3c9fd10ac7)\" style=\"fill: #228b22\"/>\n   </g>\n   <g id=\"patch_15\">\n    <path d=\"M 66.783984 288.430125 \nL 105.147889 288.430125 \nL 105.147889 288.430125 \nL 66.783984 288.430125 \nz\n\" clip-path=\"url(#p3c9fd10ac7)\" style=\"fill: #228b22\"/>\n   </g>\n   <g id=\"patch_16\">\n    <path d=\"M 68.222631 288.430125 \nL 106.586536 288.430125 \nL 106.586536 288.430125 \nL 68.222631 288.430125 \nz\n\" clip-path=\"url(#p3c9fd10ac7)\" style=\"fill: #228b22\"/>\n   </g>\n   <g id=\"patch_17\">\n    <path d=\"M 69.661277 288.430125 \nL 108.025182 288.430125 \nL 108.025182 288.430125 \nL 69.661277 288.430125 \nz\n\" clip-path=\"url(#p3c9fd10ac7)\" style=\"fill: #228b22\"/>\n   </g>\n   <g id=\"patch_18\">\n    <path d=\"M 71.099924 288.430125 \nL 109.463829 288.430125 \nL 109.463829 288.430125 \nL 71.099924 288.430125 \nz\n\" clip-path=\"url(#p3c9fd10ac7)\" style=\"fill: #228b22\"/>\n   </g>\n   <g id=\"patch_19\">\n    <path d=\"M 72.53857 288.430125 \nL 110.902475 288.430125 \nL 110.902475 288.430125 \nL 72.53857 288.430125 \nz\n\" clip-path=\"url(#p3c9fd10ac7)\" style=\"fill: #228b22\"/>\n   </g>\n   <g id=\"patch_20\">\n    <path d=\"M 73.977217 288.430125 \nL 112.341122 288.430125 \nL 112.341122 288.430125 \nL 73.977217 288.430125 \nz\n\" clip-path=\"url(#p3c9fd10ac7)\" style=\"fill: #228b22\"/>\n   </g>\n   <g id=\"patch_21\">\n    <path d=\"M 75.415863 288.430125 \nL 113.779768 288.430125 \nL 113.779768 288.430125 \nL 75.415863 288.430125 \nz\n\" clip-path=\"url(#p3c9fd10ac7)\" style=\"fill: #228b22\"/>\n   </g>\n   <g id=\"patch_22\">\n    <path d=\"M 76.85451 288.430125 \nL 115.218414 288.430125 \nL 115.218414 288.430125 \nL 76.85451 288.430125 \nz\n\" clip-path=\"url(#p3c9fd10ac7)\" style=\"fill: #228b22\"/>\n   </g>\n   <g id=\"patch_23\">\n    <path d=\"M 78.293156 288.430125 \nL 116.657061 288.430125 \nL 116.657061 288.430125 \nL 78.293156 288.430125 \nz\n\" clip-path=\"url(#p3c9fd10ac7)\" style=\"fill: #228b22\"/>\n   </g>\n   <g id=\"patch_24\">\n    <path d=\"M 79.731802 288.430125 \nL 118.095707 288.430125 \nL 118.095707 288.430125 \nL 79.731802 288.430125 \nz\n\" clip-path=\"url(#p3c9fd10ac7)\" style=\"fill: #228b22\"/>\n   </g>\n   <g id=\"patch_25\">\n    <path d=\"M 81.170449 288.430125 \nL 119.534354 288.430125 \nL 119.534354 286.657817 \nL 81.170449 286.657817 \nz\n\" clip-path=\"url(#p3c9fd10ac7)\" style=\"fill: #228b22\"/>\n   </g>\n   <g id=\"patch_26\">\n    <path d=\"M 82.609095 288.430125 \nL 120.973 288.430125 \nL 120.973 288.430125 \nL 82.609095 288.430125 \nz\n\" clip-path=\"url(#p3c9fd10ac7)\" style=\"fill: #228b22\"/>\n   </g>\n   <g id=\"patch_27\">\n    <path d=\"M 84.047742 288.430125 \nL 122.411647 288.430125 \nL 122.411647 288.430125 \nL 84.047742 288.430125 \nz\n\" clip-path=\"url(#p3c9fd10ac7)\" style=\"fill: #228b22\"/>\n   </g>\n   <g id=\"patch_28\">\n    <path d=\"M 85.486388 288.430125 \nL 123.850293 288.430125 \nL 123.850293 288.430125 \nL 85.486388 288.430125 \nz\n\" clip-path=\"url(#p3c9fd10ac7)\" style=\"fill: #228b22\"/>\n   </g>\n   <g id=\"patch_29\">\n    <path d=\"M 86.925035 288.430125 \nL 125.28894 288.430125 \nL 125.28894 288.430125 \nL 86.925035 288.430125 \nz\n\" clip-path=\"url(#p3c9fd10ac7)\" style=\"fill: #228b22\"/>\n   </g>\n   <g id=\"patch_30\">\n    <path d=\"M 88.363681 288.430125 \nL 126.727586 288.430125 \nL 126.727586 288.430125 \nL 88.363681 288.430125 \nz\n\" clip-path=\"url(#p3c9fd10ac7)\" style=\"fill: #228b22\"/>\n   </g>\n   <g id=\"patch_31\">\n    <path d=\"M 89.802327 288.430125 \nL 128.166232 288.430125 \nL 128.166232 288.430125 \nL 89.802327 288.430125 \nz\n\" clip-path=\"url(#p3c9fd10ac7)\" style=\"fill: #228b22\"/>\n   </g>\n   <g id=\"patch_32\">\n    <path d=\"M 91.240974 288.430125 \nL 129.604879 288.430125 \nL 129.604879 288.430125 \nL 91.240974 288.430125 \nz\n\" clip-path=\"url(#p3c9fd10ac7)\" style=\"fill: #228b22\"/>\n   </g>\n   <g id=\"patch_33\">\n    <path d=\"M 92.67962 288.430125 \nL 131.043525 288.430125 \nL 131.043525 288.430125 \nL 92.67962 288.430125 \nz\n\" clip-path=\"url(#p3c9fd10ac7)\" style=\"fill: #228b22\"/>\n   </g>\n   <g id=\"patch_34\">\n    <path d=\"M 94.118267 288.430125 \nL 132.482172 288.430125 \nL 132.482172 288.430125 \nL 94.118267 288.430125 \nz\n\" clip-path=\"url(#p3c9fd10ac7)\" style=\"fill: #228b22\"/>\n   </g>\n   <g id=\"patch_35\">\n    <path d=\"M 95.556913 288.430125 \nL 133.920818 288.430125 \nL 133.920818 286.657817 \nL 95.556913 286.657817 \nz\n\" clip-path=\"url(#p3c9fd10ac7)\" style=\"fill: #228b22\"/>\n   </g>\n   <g id=\"patch_36\">\n    <path d=\"M 96.99556 288.430125 \nL 135.359465 288.430125 \nL 135.359465 288.430125 \nL 96.99556 288.430125 \nz\n\" clip-path=\"url(#p3c9fd10ac7)\" style=\"fill: #228b22\"/>\n   </g>\n   <g id=\"patch_37\">\n    <path d=\"M 98.434206 288.430125 \nL 136.798111 288.430125 \nL 136.798111 288.430125 \nL 98.434206 288.430125 \nz\n\" clip-path=\"url(#p3c9fd10ac7)\" style=\"fill: #228b22\"/>\n   </g>\n   <g id=\"patch_38\">\n    <path d=\"M 99.872852 288.430125 \nL 138.236757 288.430125 \nL 138.236757 288.430125 \nL 99.872852 288.430125 \nz\n\" clip-path=\"url(#p3c9fd10ac7)\" style=\"fill: #228b22\"/>\n   </g>\n   <g id=\"patch_39\">\n    <path d=\"M 101.311499 288.430125 \nL 139.675404 288.430125 \nL 139.675404 288.430125 \nL 101.311499 288.430125 \nz\n\" clip-path=\"url(#p3c9fd10ac7)\" style=\"fill: #228b22\"/>\n   </g>\n   <g id=\"patch_40\">\n    <path d=\"M 102.750145 288.430125 \nL 141.11405 288.430125 \nL 141.11405 286.657817 \nL 102.750145 286.657817 \nz\n\" clip-path=\"url(#p3c9fd10ac7)\" style=\"fill: #228b22\"/>\n   </g>\n   <g id=\"patch_41\">\n    <path d=\"M 104.188792 288.430125 \nL 142.552697 288.430125 \nL 142.552697 288.430125 \nL 104.188792 288.430125 \nz\n\" clip-path=\"url(#p3c9fd10ac7)\" style=\"fill: #228b22\"/>\n   </g>\n   <g id=\"patch_42\">\n    <path d=\"M 105.627438 288.430125 \nL 143.991343 288.430125 \nL 143.991343 288.430125 \nL 105.627438 288.430125 \nz\n\" clip-path=\"url(#p3c9fd10ac7)\" style=\"fill: #228b22\"/>\n   </g>\n   <g id=\"patch_43\">\n    <path d=\"M 107.066085 288.430125 \nL 145.42999 288.430125 \nL 145.42999 288.430125 \nL 107.066085 288.430125 \nz\n\" clip-path=\"url(#p3c9fd10ac7)\" style=\"fill: #228b22\"/>\n   </g>\n   <g id=\"patch_44\">\n    <path d=\"M 108.504731 288.430125 \nL 146.868636 288.430125 \nL 146.868636 286.657817 \nL 108.504731 286.657817 \nz\n\" clip-path=\"url(#p3c9fd10ac7)\" style=\"fill: #228b22\"/>\n   </g>\n   <g id=\"patch_45\">\n    <path d=\"M 109.943378 288.430125 \nL 148.307282 288.430125 \nL 148.307282 288.430125 \nL 109.943378 288.430125 \nz\n\" clip-path=\"url(#p3c9fd10ac7)\" style=\"fill: #228b22\"/>\n   </g>\n   <g id=\"patch_46\">\n    <path d=\"M 111.382024 288.430125 \nL 149.745929 288.430125 \nL 149.745929 288.430125 \nL 111.382024 288.430125 \nz\n\" clip-path=\"url(#p3c9fd10ac7)\" style=\"fill: #228b22\"/>\n   </g>\n   <g id=\"patch_47\">\n    <path d=\"M 112.82067 288.430125 \nL 151.184575 288.430125 \nL 151.184575 286.657817 \nL 112.82067 286.657817 \nz\n\" clip-path=\"url(#p3c9fd10ac7)\" style=\"fill: #228b22\"/>\n   </g>\n   <g id=\"patch_48\">\n    <path d=\"M 114.259317 288.430125 \nL 152.623222 288.430125 \nL 152.623222 286.657817 \nL 114.259317 286.657817 \nz\n\" clip-path=\"url(#p3c9fd10ac7)\" style=\"fill: #228b22\"/>\n   </g>\n   <g id=\"patch_49\">\n    <path d=\"M 115.697963 288.430125 \nL 154.061868 288.430125 \nL 154.061868 279.568587 \nL 115.697963 279.568587 \nz\n\" clip-path=\"url(#p3c9fd10ac7)\" style=\"fill: #228b22\"/>\n   </g>\n   <g id=\"patch_50\">\n    <path d=\"M 117.13661 288.430125 \nL 155.500515 288.430125 \nL 155.500515 286.657817 \nL 117.13661 286.657817 \nz\n\" clip-path=\"url(#p3c9fd10ac7)\" style=\"fill: #228b22\"/>\n   </g>\n   <g id=\"patch_51\">\n    <path d=\"M 118.575256 288.430125 \nL 156.939161 288.430125 \nL 156.939161 284.88551 \nL 118.575256 284.88551 \nz\n\" clip-path=\"url(#p3c9fd10ac7)\" style=\"fill: #228b22\"/>\n   </g>\n   <g id=\"patch_52\">\n    <path d=\"M 120.013903 288.430125 \nL 158.377808 288.430125 \nL 158.377808 283.113202 \nL 120.013903 283.113202 \nz\n\" clip-path=\"url(#p3c9fd10ac7)\" style=\"fill: #228b22\"/>\n   </g>\n   <g id=\"patch_53\">\n    <path d=\"M 121.452549 288.430125 \nL 159.816454 288.430125 \nL 159.816454 276.023971 \nL 121.452549 276.023971 \nz\n\" clip-path=\"url(#p3c9fd10ac7)\" style=\"fill: #228b22\"/>\n   </g>\n   <g id=\"patch_54\">\n    <path d=\"M 122.891195 288.430125 \nL 161.2551 288.430125 \nL 161.2551 283.113202 \nL 122.891195 283.113202 \nz\n\" clip-path=\"url(#p3c9fd10ac7)\" style=\"fill: #228b22\"/>\n   </g>\n   <g id=\"patch_55\">\n    <path d=\"M 124.329842 288.430125 \nL 162.693747 288.430125 \nL 162.693747 276.023971 \nL 124.329842 276.023971 \nz\n\" clip-path=\"url(#p3c9fd10ac7)\" style=\"fill: #228b22\"/>\n   </g>\n   <g id=\"patch_56\">\n    <path d=\"M 125.768488 288.430125 \nL 164.132393 288.430125 \nL 164.132393 265.390125 \nL 125.768488 265.390125 \nz\n\" clip-path=\"url(#p3c9fd10ac7)\" style=\"fill: #228b22\"/>\n   </g>\n   <g id=\"patch_57\">\n    <path d=\"M 127.207135 288.430125 \nL 165.57104 288.430125 \nL 165.57104 277.796279 \nL 127.207135 277.796279 \nz\n\" clip-path=\"url(#p3c9fd10ac7)\" style=\"fill: #228b22\"/>\n   </g>\n   <g id=\"patch_58\">\n    <path d=\"M 128.645781 288.430125 \nL 167.009686 288.430125 \nL 167.009686 265.390125 \nL 128.645781 265.390125 \nz\n\" clip-path=\"url(#p3c9fd10ac7)\" style=\"fill: #228b22\"/>\n   </g>\n   <g id=\"patch_59\">\n    <path d=\"M 130.084428 288.430125 \nL 168.448333 288.430125 \nL 168.448333 270.707048 \nL 130.084428 270.707048 \nz\n\" clip-path=\"url(#p3c9fd10ac7)\" style=\"fill: #228b22\"/>\n   </g>\n   <g id=\"patch_60\">\n    <path d=\"M 131.523074 288.430125 \nL 169.886979 288.430125 \nL 169.886979 270.707048 \nL 131.523074 270.707048 \nz\n\" clip-path=\"url(#p3c9fd10ac7)\" style=\"fill: #228b22\"/>\n   </g>\n   <g id=\"patch_61\">\n    <path d=\"M 132.96172 288.430125 \nL 171.325625 288.430125 \nL 171.325625 267.162433 \nL 132.96172 267.162433 \nz\n\" clip-path=\"url(#p3c9fd10ac7)\" style=\"fill: #228b22\"/>\n   </g>\n   <g id=\"patch_62\">\n    <path d=\"M 134.400367 288.430125 \nL 172.764272 288.430125 \nL 172.764272 270.707048 \nL 134.400367 270.707048 \nz\n\" clip-path=\"url(#p3c9fd10ac7)\" style=\"fill: #228b22\"/>\n   </g>\n   <g id=\"patch_63\">\n    <path d=\"M 135.839013 288.430125 \nL 174.202918 288.430125 \nL 174.202918 263.617817 \nL 135.839013 263.617817 \nz\n\" clip-path=\"url(#p3c9fd10ac7)\" style=\"fill: #228b22\"/>\n   </g>\n   <g id=\"patch_64\">\n    <path d=\"M 137.27766 288.430125 \nL 175.641565 288.430125 \nL 175.641565 256.528587 \nL 137.27766 256.528587 \nz\n\" clip-path=\"url(#p3c9fd10ac7)\" style=\"fill: #228b22\"/>\n   </g>\n   <g id=\"patch_65\">\n    <path d=\"M 138.716306 288.430125 \nL 177.080211 288.430125 \nL 177.080211 254.756279 \nL 138.716306 254.756279 \nz\n\" clip-path=\"url(#p3c9fd10ac7)\" style=\"fill: #228b22\"/>\n   </g>\n   <g id=\"patch_66\">\n    <path d=\"M 140.154953 288.430125 \nL 178.518858 288.430125 \nL 178.518858 244.122433 \nL 140.154953 244.122433 \nz\n\" clip-path=\"url(#p3c9fd10ac7)\" style=\"fill: #228b22\"/>\n   </g>\n   <g id=\"patch_67\">\n    <path d=\"M 141.593599 288.430125 \nL 179.957504 288.430125 \nL 179.957504 231.716279 \nL 141.593599 231.716279 \nz\n\" clip-path=\"url(#p3c9fd10ac7)\" style=\"fill: #228b22\"/>\n   </g>\n   <g id=\"patch_68\">\n    <path d=\"M 143.032246 288.430125 \nL 181.39615 288.430125 \nL 181.39615 242.350125 \nL 143.032246 242.350125 \nz\n\" clip-path=\"url(#p3c9fd10ac7)\" style=\"fill: #228b22\"/>\n   </g>\n   <g id=\"patch_69\">\n    <path d=\"M 144.470892 288.430125 \nL 182.834797 288.430125 \nL 182.834797 224.627048 \nL 144.470892 224.627048 \nz\n\" clip-path=\"url(#p3c9fd10ac7)\" style=\"fill: #228b22\"/>\n   </g>\n   <g id=\"patch_70\">\n    <path d=\"M 145.909538 288.430125 \nL 184.273443 288.430125 \nL 184.273443 233.488587 \nL 145.909538 233.488587 \nz\n\" clip-path=\"url(#p3c9fd10ac7)\" style=\"fill: #228b22\"/>\n   </g>\n   <g id=\"patch_71\">\n    <path d=\"M 147.348185 288.430125 \nL 185.71209 288.430125 \nL 185.71209 245.89474 \nL 147.348185 245.89474 \nz\n\" clip-path=\"url(#p3c9fd10ac7)\" style=\"fill: #228b22\"/>\n   </g>\n   <g id=\"patch_72\">\n    <path d=\"M 148.786831 288.430125 \nL 187.150736 288.430125 \nL 187.150736 224.627048 \nL 148.786831 224.627048 \nz\n\" clip-path=\"url(#p3c9fd10ac7)\" style=\"fill: #228b22\"/>\n   </g>\n   <g id=\"patch_73\">\n    <path d=\"M 150.225478 288.430125 \nL 188.589383 288.430125 \nL 188.589383 228.171663 \nL 150.225478 228.171663 \nz\n\" clip-path=\"url(#p3c9fd10ac7)\" style=\"fill: #228b22\"/>\n   </g>\n   <g id=\"patch_74\">\n    <path d=\"M 151.664124 288.430125 \nL 190.028029 288.430125 \nL 190.028029 213.993202 \nL 151.664124 213.993202 \nz\n\" clip-path=\"url(#p3c9fd10ac7)\" style=\"fill: #228b22\"/>\n   </g>\n   <g id=\"patch_75\">\n    <path d=\"M 153.102771 288.430125 \nL 191.466676 288.430125 \nL 191.466676 201.587048 \nL 153.102771 201.587048 \nz\n\" clip-path=\"url(#p3c9fd10ac7)\" style=\"fill: #228b22\"/>\n   </g>\n   <g id=\"patch_76\">\n    <path d=\"M 154.541417 288.430125 \nL 192.905322 288.430125 \nL 192.905322 221.082433 \nL 154.541417 221.082433 \nz\n\" clip-path=\"url(#p3c9fd10ac7)\" style=\"fill: #228b22\"/>\n   </g>\n   <g id=\"patch_77\">\n    <path d=\"M 155.980063 288.430125 \nL 194.343968 288.430125 \nL 194.343968 205.131663 \nL 155.980063 205.131663 \nz\n\" clip-path=\"url(#p3c9fd10ac7)\" style=\"fill: #228b22\"/>\n   </g>\n   <g id=\"patch_78\">\n    <path d=\"M 157.41871 288.430125 \nL 195.782615 288.430125 \nL 195.782615 183.863971 \nL 157.41871 183.863971 \nz\n\" clip-path=\"url(#p3c9fd10ac7)\" style=\"fill: #228b22\"/>\n   </g>\n   <g id=\"patch_79\">\n    <path d=\"M 158.857356 288.430125 \nL 197.221261 288.430125 \nL 197.221261 185.636279 \nL 158.857356 185.636279 \nz\n\" clip-path=\"url(#p3c9fd10ac7)\" style=\"fill: #228b22\"/>\n   </g>\n   <g id=\"patch_80\">\n    <path d=\"M 160.296003 288.430125 \nL 198.659908 288.430125 \nL 198.659908 180.319356 \nL 160.296003 180.319356 \nz\n\" clip-path=\"url(#p3c9fd10ac7)\" style=\"fill: #228b22\"/>\n   </g>\n   <g id=\"patch_81\">\n    <path d=\"M 161.734649 288.430125 \nL 200.098554 288.430125 \nL 200.098554 183.863971 \nL 161.734649 183.863971 \nz\n\" clip-path=\"url(#p3c9fd10ac7)\" style=\"fill: #228b22\"/>\n   </g>\n   <g id=\"patch_82\">\n    <path d=\"M 163.173296 288.430125 \nL 201.537201 288.430125 \nL 201.537201 173.230125 \nL 163.173296 173.230125 \nz\n\" clip-path=\"url(#p3c9fd10ac7)\" style=\"fill: #228b22\"/>\n   </g>\n   <g id=\"patch_83\">\n    <path d=\"M 164.611942 288.430125 \nL 202.975847 288.430125 \nL 202.975847 132.467048 \nL 164.611942 132.467048 \nz\n\" clip-path=\"url(#p3c9fd10ac7)\" style=\"fill: #228b22\"/>\n   </g>\n   <g id=\"patch_84\">\n    <path d=\"M 166.050588 288.430125 \nL 204.414493 288.430125 \nL 204.414493 136.011663 \nL 166.050588 136.011663 \nz\n\" clip-path=\"url(#p3c9fd10ac7)\" style=\"fill: #228b22\"/>\n   </g>\n   <g id=\"patch_85\">\n    <path d=\"M 167.489235 288.430125 \nL 205.85314 288.430125 \nL 205.85314 141.328587 \nL 167.489235 141.328587 \nz\n\" clip-path=\"url(#p3c9fd10ac7)\" style=\"fill: #228b22\"/>\n   </g>\n   <g id=\"patch_86\">\n    <path d=\"M 168.927881 288.430125 \nL 207.291786 288.430125 \nL 207.291786 144.873202 \nL 168.927881 144.873202 \nz\n\" clip-path=\"url(#p3c9fd10ac7)\" style=\"fill: #228b22\"/>\n   </g>\n   <g id=\"patch_87\">\n    <path d=\"M 170.366528 288.430125 \nL 208.730433 288.430125 \nL 208.730433 109.427048 \nL 170.366528 109.427048 \nz\n\" clip-path=\"url(#p3c9fd10ac7)\" style=\"fill: #228b22\"/>\n   </g>\n   <g id=\"patch_88\">\n    <path d=\"M 171.805174 288.430125 \nL 210.169079 288.430125 \nL 210.169079 107.65474 \nL 171.805174 107.65474 \nz\n\" clip-path=\"url(#p3c9fd10ac7)\" style=\"fill: #228b22\"/>\n   </g>\n   <g id=\"patch_89\">\n    <path d=\"M 173.243821 288.430125 \nL 211.607726 288.430125 \nL 211.607726 123.60551 \nL 173.243821 123.60551 \nz\n\" clip-path=\"url(#p3c9fd10ac7)\" style=\"fill: #228b22\"/>\n   </g>\n   <g id=\"patch_90\">\n    <path d=\"M 174.682467 288.430125 \nL 213.046372 288.430125 \nL 213.046372 127.150125 \nL 174.682467 127.150125 \nz\n\" clip-path=\"url(#p3c9fd10ac7)\" style=\"fill: #228b22\"/>\n   </g>\n   <g id=\"patch_91\">\n    <path d=\"M 176.121114 288.430125 \nL 214.485018 288.430125 \nL 214.485018 100.56551 \nL 176.121114 100.56551 \nz\n\" clip-path=\"url(#p3c9fd10ac7)\" style=\"fill: #228b22\"/>\n   </g>\n   <g id=\"patch_92\">\n    <path d=\"M 177.55976 288.430125 \nL 215.923665 288.430125 \nL 215.923665 73.980894 \nL 177.55976 73.980894 \nz\n\" clip-path=\"url(#p3c9fd10ac7)\" style=\"fill: #228b22\"/>\n   </g>\n   <g id=\"patch_93\">\n    <path d=\"M 178.998406 288.430125 \nL 217.362311 288.430125 \nL 217.362311 107.65474 \nL 178.998406 107.65474 \nz\n\" clip-path=\"url(#p3c9fd10ac7)\" style=\"fill: #228b22\"/>\n   </g>\n   <g id=\"patch_94\">\n    <path d=\"M 180.437053 288.430125 \nL 218.800958 288.430125 \nL 218.800958 111.199356 \nL 180.437053 111.199356 \nz\n\" clip-path=\"url(#p3c9fd10ac7)\" style=\"fill: #228b22\"/>\n   </g>\n   <g id=\"patch_95\">\n    <path d=\"M 181.875699 288.430125 \nL 220.239604 288.430125 \nL 220.239604 91.703971 \nL 181.875699 91.703971 \nz\n\" clip-path=\"url(#p3c9fd10ac7)\" style=\"fill: #228b22\"/>\n   </g>\n   <g id=\"patch_96\">\n    <path d=\"M 183.314346 288.430125 \nL 221.678251 288.430125 \nL 221.678251 73.980894 \nL 183.314346 73.980894 \nz\n\" clip-path=\"url(#p3c9fd10ac7)\" style=\"fill: #228b22\"/>\n   </g>\n   <g id=\"patch_97\">\n    <path d=\"M 184.752992 288.430125 \nL 223.116897 288.430125 \nL 223.116897 118.288587 \nL 184.752992 118.288587 \nz\n\" clip-path=\"url(#p3c9fd10ac7)\" style=\"fill: #228b22\"/>\n   </g>\n   <g id=\"patch_98\">\n    <path d=\"M 186.191639 288.430125 \nL 224.555544 288.430125 \nL 224.555544 70.436279 \nL 186.191639 70.436279 \nz\n\" clip-path=\"url(#p3c9fd10ac7)\" style=\"fill: #228b22\"/>\n   </g>\n   <g id=\"patch_99\">\n    <path d=\"M 187.630285 288.430125 \nL 225.99419 288.430125 \nL 225.99419 34.990125 \nL 187.630285 34.990125 \nz\n\" clip-path=\"url(#p3c9fd10ac7)\" style=\"fill: #228b22\"/>\n   </g>\n   <g id=\"patch_100\">\n    <path d=\"M 189.068931 288.430125 \nL 227.432836 288.430125 \nL 227.432836 40.307048 \nL 189.068931 40.307048 \nz\n\" clip-path=\"url(#p3c9fd10ac7)\" style=\"fill: #228b22\"/>\n   </g>\n   <g id=\"patch_101\">\n    <path d=\"M 190.507578 288.430125 \nL 228.871483 288.430125 \nL 228.871483 68.663971 \nL 190.507578 68.663971 \nz\n\" clip-path=\"url(#p3c9fd10ac7)\" style=\"fill: #228b22\"/>\n   </g>\n   <g id=\"patch_102\">\n    <path d=\"M 191.946224 288.430125 \nL 230.310129 288.430125 \nL 230.310129 52.713202 \nL 191.946224 52.713202 \nz\n\" clip-path=\"url(#p3c9fd10ac7)\" style=\"fill: #228b22\"/>\n   </g>\n   <g id=\"patch_103\">\n    <path d=\"M 193.384871 288.430125 \nL 231.748776 288.430125 \nL 231.748776 52.713202 \nL 193.384871 52.713202 \nz\n\" clip-path=\"url(#p3c9fd10ac7)\" style=\"fill: #228b22\"/>\n   </g>\n   <g id=\"patch_104\">\n    <path d=\"M 194.823517 288.430125 \nL 233.187422 288.430125 \nL 233.187422 66.891663 \nL 194.823517 66.891663 \nz\n\" clip-path=\"url(#p3c9fd10ac7)\" style=\"fill: #228b22\"/>\n   </g>\n   <g id=\"patch_105\">\n    <path d=\"M 196.262164 288.430125 \nL 234.626069 288.430125 \nL 234.626069 47.396279 \nL 196.262164 47.396279 \nz\n\" clip-path=\"url(#p3c9fd10ac7)\" style=\"fill: #228b22\"/>\n   </g>\n   <g id=\"patch_106\">\n    <path d=\"M 197.70081 288.430125 \nL 236.064715 288.430125 \nL 236.064715 84.61474 \nL 197.70081 84.61474 \nz\n\" clip-path=\"url(#p3c9fd10ac7)\" style=\"fill: #228b22\"/>\n   </g>\n   <g id=\"patch_107\">\n    <path d=\"M 199.139456 288.430125 \nL 237.503361 288.430125 \nL 237.503361 65.119356 \nL 199.139456 65.119356 \nz\n\" clip-path=\"url(#p3c9fd10ac7)\" style=\"fill: #228b22\"/>\n   </g>\n   <g id=\"patch_108\">\n    <path d=\"M 200.578103 288.430125 \nL 238.942008 288.430125 \nL 238.942008 52.713202 \nL 200.578103 52.713202 \nz\n\" clip-path=\"url(#p3c9fd10ac7)\" style=\"fill: #228b22\"/>\n   </g>\n   <g id=\"patch_109\">\n    <path d=\"M 202.016749 288.430125 \nL 240.380654 288.430125 \nL 240.380654 56.257817 \nL 202.016749 56.257817 \nz\n\" clip-path=\"url(#p3c9fd10ac7)\" style=\"fill: #228b22\"/>\n   </g>\n   <g id=\"patch_110\">\n    <path d=\"M 203.455396 288.430125 \nL 241.819301 288.430125 \nL 241.819301 84.61474 \nL 203.455396 84.61474 \nz\n\" clip-path=\"url(#p3c9fd10ac7)\" style=\"fill: #228b22\"/>\n   </g>\n   <g id=\"patch_111\">\n    <path d=\"M 204.894042 288.430125 \nL 243.257947 288.430125 \nL 243.257947 116.516279 \nL 204.894042 116.516279 \nz\n\" clip-path=\"url(#p3c9fd10ac7)\" style=\"fill: #228b22\"/>\n   </g>\n   <g id=\"patch_112\">\n    <path d=\"M 206.332689 288.430125 \nL 244.696594 288.430125 \nL 244.696594 82.842433 \nL 206.332689 82.842433 \nz\n\" clip-path=\"url(#p3c9fd10ac7)\" style=\"fill: #228b22\"/>\n   </g>\n   <g id=\"patch_113\">\n    <path d=\"M 207.771335 288.430125 \nL 246.13524 288.430125 \nL 246.13524 116.516279 \nL 207.771335 116.516279 \nz\n\" clip-path=\"url(#p3c9fd10ac7)\" style=\"fill: #228b22\"/>\n   </g>\n   <g id=\"patch_114\">\n    <path d=\"M 209.209982 288.430125 \nL 247.573886 288.430125 \nL 247.573886 109.427048 \nL 209.209982 109.427048 \nz\n\" clip-path=\"url(#p3c9fd10ac7)\" style=\"fill: #228b22\"/>\n   </g>\n   <g id=\"patch_115\">\n    <path d=\"M 210.648628 288.430125 \nL 249.012533 288.430125 \nL 249.012533 93.476279 \nL 210.648628 93.476279 \nz\n\" clip-path=\"url(#p3c9fd10ac7)\" style=\"fill: #228b22\"/>\n   </g>\n   <g id=\"patch_116\">\n    <path d=\"M 212.087274 288.430125 \nL 250.451179 288.430125 \nL 250.451179 97.020894 \nL 212.087274 97.020894 \nz\n\" clip-path=\"url(#p3c9fd10ac7)\" style=\"fill: #228b22\"/>\n   </g>\n   <g id=\"patch_117\">\n    <path d=\"M 213.525921 288.430125 \nL 251.889826 288.430125 \nL 251.889826 128.922433 \nL 213.525921 128.922433 \nz\n\" clip-path=\"url(#p3c9fd10ac7)\" style=\"fill: #228b22\"/>\n   </g>\n   <g id=\"patch_118\">\n    <path d=\"M 214.964567 288.430125 \nL 253.328472 288.430125 \nL 253.328472 118.288587 \nL 214.964567 118.288587 \nz\n\" clip-path=\"url(#p3c9fd10ac7)\" style=\"fill: #228b22\"/>\n   </g>\n   <g id=\"patch_119\">\n    <path d=\"M 216.403214 288.430125 \nL 254.767119 288.430125 \nL 254.767119 107.65474 \nL 216.403214 107.65474 \nz\n\" clip-path=\"url(#p3c9fd10ac7)\" style=\"fill: #228b22\"/>\n   </g>\n   <g id=\"patch_120\">\n    <path d=\"M 217.84186 288.430125 \nL 256.205765 288.430125 \nL 256.205765 121.833202 \nL 217.84186 121.833202 \nz\n\" clip-path=\"url(#p3c9fd10ac7)\" style=\"fill: #228b22\"/>\n   </g>\n   <g id=\"patch_121\">\n    <path d=\"M 219.280507 288.430125 \nL 257.644412 288.430125 \nL 257.644412 148.417817 \nL 219.280507 148.417817 \nz\n\" clip-path=\"url(#p3c9fd10ac7)\" style=\"fill: #228b22\"/>\n   </g>\n   <g id=\"patch_122\">\n    <path d=\"M 220.719153 288.430125 \nL 259.083058 288.430125 \nL 259.083058 159.051663 \nL 220.719153 159.051663 \nz\n\" clip-path=\"url(#p3c9fd10ac7)\" style=\"fill: #228b22\"/>\n   </g>\n   <g id=\"patch_123\">\n    <path d=\"M 222.157799 288.430125 \nL 260.521704 288.430125 \nL 260.521704 143.100894 \nL 222.157799 143.100894 \nz\n\" clip-path=\"url(#p3c9fd10ac7)\" style=\"fill: #228b22\"/>\n   </g>\n   <g id=\"patch_124\">\n    <path d=\"M 223.596446 288.430125 \nL 261.960351 288.430125 \nL 261.960351 162.596279 \nL 223.596446 162.596279 \nz\n\" clip-path=\"url(#p3c9fd10ac7)\" style=\"fill: #228b22\"/>\n   </g>\n   <g id=\"patch_125\">\n    <path d=\"M 225.035092 288.430125 \nL 263.398997 288.430125 \nL 263.398997 180.319356 \nL 225.035092 180.319356 \nz\n\" clip-path=\"url(#p3c9fd10ac7)\" style=\"fill: #228b22\"/>\n   </g>\n   <g id=\"patch_126\">\n    <path d=\"M 226.473739 288.430125 \nL 264.837644 288.430125 \nL 264.837644 180.319356 \nL 226.473739 180.319356 \nz\n\" clip-path=\"url(#p3c9fd10ac7)\" style=\"fill: #228b22\"/>\n   </g>\n   <g id=\"patch_127\">\n    <path d=\"M 227.912385 288.430125 \nL 266.27629 288.430125 \nL 266.27629 178.547048 \nL 227.912385 178.547048 \nz\n\" clip-path=\"url(#p3c9fd10ac7)\" style=\"fill: #228b22\"/>\n   </g>\n   <g id=\"patch_128\">\n    <path d=\"M 229.351032 288.430125 \nL 267.714937 288.430125 \nL 267.714937 183.863971 \nL 229.351032 183.863971 \nz\n\" clip-path=\"url(#p3c9fd10ac7)\" style=\"fill: #228b22\"/>\n   </g>\n   <g id=\"patch_129\">\n    <path d=\"M 230.789678 288.430125 \nL 269.153583 288.430125 \nL 269.153583 198.042433 \nL 230.789678 198.042433 \nz\n\" clip-path=\"url(#p3c9fd10ac7)\" style=\"fill: #228b22\"/>\n   </g>\n   <g id=\"patch_130\">\n    <path d=\"M 232.228324 288.430125 \nL 270.592229 288.430125 \nL 270.592229 219.310125 \nL 232.228324 219.310125 \nz\n\" clip-path=\"url(#p3c9fd10ac7)\" style=\"fill: #228b22\"/>\n   </g>\n   <g id=\"patch_131\">\n    <path d=\"M 233.666971 288.430125 \nL 272.030876 288.430125 \nL 272.030876 226.399356 \nL 233.666971 226.399356 \nz\n\" clip-path=\"url(#p3c9fd10ac7)\" style=\"fill: #228b22\"/>\n   </g>\n   <g id=\"patch_132\">\n    <path d=\"M 235.105617 288.430125 \nL 273.469522 288.430125 \nL 273.469522 222.85474 \nL 235.105617 222.85474 \nz\n\" clip-path=\"url(#p3c9fd10ac7)\" style=\"fill: #228b22\"/>\n   </g>\n   <g id=\"patch_133\">\n    <path d=\"M 236.544264 288.430125 \nL 274.908169 288.430125 \nL 274.908169 215.76551 \nL 236.544264 215.76551 \nz\n\" clip-path=\"url(#p3c9fd10ac7)\" style=\"fill: #228b22\"/>\n   </g>\n   <g id=\"patch_134\">\n    <path d=\"M 237.98291 288.430125 \nL 276.346815 288.430125 \nL 276.346815 215.76551 \nL 237.98291 215.76551 \nz\n\" clip-path=\"url(#p3c9fd10ac7)\" style=\"fill: #228b22\"/>\n   </g>\n   <g id=\"patch_135\">\n    <path d=\"M 239.421557 288.430125 \nL 277.785462 288.430125 \nL 277.785462 226.399356 \nL 239.421557 226.399356 \nz\n\" clip-path=\"url(#p3c9fd10ac7)\" style=\"fill: #228b22\"/>\n   </g>\n   <g id=\"patch_136\">\n    <path d=\"M 240.860203 288.430125 \nL 279.224108 288.430125 \nL 279.224108 235.260894 \nL 240.860203 235.260894 \nz\n\" clip-path=\"url(#p3c9fd10ac7)\" style=\"fill: #228b22\"/>\n   </g>\n   <g id=\"patch_137\">\n    <path d=\"M 242.29885 288.430125 \nL 280.662754 288.430125 \nL 280.662754 252.983971 \nL 242.29885 252.983971 \nz\n\" clip-path=\"url(#p3c9fd10ac7)\" style=\"fill: #228b22\"/>\n   </g>\n   <g id=\"patch_138\">\n    <path d=\"M 243.737496 288.430125 \nL 282.101401 288.430125 \nL 282.101401 245.89474 \nL 243.737496 245.89474 \nz\n\" clip-path=\"url(#p3c9fd10ac7)\" style=\"fill: #228b22\"/>\n   </g>\n   <g id=\"patch_139\">\n    <path d=\"M 245.176142 288.430125 \nL 283.540047 288.430125 \nL 283.540047 245.89474 \nL 245.176142 245.89474 \nz\n\" clip-path=\"url(#p3c9fd10ac7)\" style=\"fill: #228b22\"/>\n   </g>\n   <g id=\"patch_140\">\n    <path d=\"M 246.614789 288.430125 \nL 284.978694 288.430125 \nL 284.978694 247.667048 \nL 246.614789 247.667048 \nz\n\" clip-path=\"url(#p3c9fd10ac7)\" style=\"fill: #228b22\"/>\n   </g>\n   <g id=\"patch_141\">\n    <path d=\"M 248.053435 288.430125 \nL 286.41734 288.430125 \nL 286.41734 242.350125 \nL 248.053435 242.350125 \nz\n\" clip-path=\"url(#p3c9fd10ac7)\" style=\"fill: #228b22\"/>\n   </g>\n   <g id=\"patch_142\">\n    <path d=\"M 249.492082 288.430125 \nL 287.855987 288.430125 \nL 287.855987 258.300894 \nL 249.492082 258.300894 \nz\n\" clip-path=\"url(#p3c9fd10ac7)\" style=\"fill: #228b22\"/>\n   </g>\n   <g id=\"patch_143\">\n    <path d=\"M 250.930728 288.430125 \nL 289.294633 288.430125 \nL 289.294633 265.390125 \nL 250.930728 265.390125 \nz\n\" clip-path=\"url(#p3c9fd10ac7)\" style=\"fill: #228b22\"/>\n   </g>\n   <g id=\"patch_144\">\n    <path d=\"M 252.369375 288.430125 \nL 290.73328 288.430125 \nL 290.73328 261.84551 \nL 252.369375 261.84551 \nz\n\" clip-path=\"url(#p3c9fd10ac7)\" style=\"fill: #228b22\"/>\n   </g>\n   <g id=\"patch_145\">\n    <path d=\"M 253.808021 288.430125 \nL 292.171926 288.430125 \nL 292.171926 274.251663 \nL 253.808021 274.251663 \nz\n\" clip-path=\"url(#p3c9fd10ac7)\" style=\"fill: #228b22\"/>\n   </g>\n   <g id=\"patch_146\">\n    <path d=\"M 255.246667 288.430125 \nL 293.610572 288.430125 \nL 293.610572 268.93474 \nL 255.246667 268.93474 \nz\n\" clip-path=\"url(#p3c9fd10ac7)\" style=\"fill: #228b22\"/>\n   </g>\n   <g id=\"patch_147\">\n    <path d=\"M 256.685314 288.430125 \nL 295.049219 288.430125 \nL 295.049219 263.617817 \nL 256.685314 263.617817 \nz\n\" clip-path=\"url(#p3c9fd10ac7)\" style=\"fill: #228b22\"/>\n   </g>\n   <g id=\"patch_148\">\n    <path d=\"M 258.12396 288.430125 \nL 296.487865 288.430125 \nL 296.487865 279.568587 \nL 258.12396 279.568587 \nz\n\" clip-path=\"url(#p3c9fd10ac7)\" style=\"fill: #228b22\"/>\n   </g>\n   <g id=\"patch_149\">\n    <path d=\"M 259.562607 288.430125 \nL 297.926512 288.430125 \nL 297.926512 281.340894 \nL 259.562607 281.340894 \nz\n\" clip-path=\"url(#p3c9fd10ac7)\" style=\"fill: #228b22\"/>\n   </g>\n   <g id=\"patch_150\">\n    <path d=\"M 261.001253 288.430125 \nL 299.365158 288.430125 \nL 299.365158 283.113202 \nL 261.001253 283.113202 \nz\n\" clip-path=\"url(#p3c9fd10ac7)\" style=\"fill: #228b22\"/>\n   </g>\n   <g id=\"patch_151\">\n    <path d=\"M 262.4399 288.430125 \nL 300.803805 288.430125 \nL 300.803805 277.796279 \nL 262.4399 277.796279 \nz\n\" clip-path=\"url(#p3c9fd10ac7)\" style=\"fill: #228b22\"/>\n   </g>\n   <g id=\"patch_152\">\n    <path d=\"M 263.878546 288.430125 \nL 302.242451 288.430125 \nL 302.242451 277.796279 \nL 263.878546 277.796279 \nz\n\" clip-path=\"url(#p3c9fd10ac7)\" style=\"fill: #228b22\"/>\n   </g>\n   <g id=\"patch_153\">\n    <path d=\"M 265.317192 288.430125 \nL 303.681097 288.430125 \nL 303.681097 283.113202 \nL 265.317192 283.113202 \nz\n\" clip-path=\"url(#p3c9fd10ac7)\" style=\"fill: #228b22\"/>\n   </g>\n   <g id=\"patch_154\">\n    <path d=\"M 266.755839 288.430125 \nL 305.119744 288.430125 \nL 305.119744 283.113202 \nL 266.755839 283.113202 \nz\n\" clip-path=\"url(#p3c9fd10ac7)\" style=\"fill: #228b22\"/>\n   </g>\n   <g id=\"patch_155\">\n    <path d=\"M 268.194485 288.430125 \nL 306.55839 288.430125 \nL 306.55839 284.88551 \nL 268.194485 284.88551 \nz\n\" clip-path=\"url(#p3c9fd10ac7)\" style=\"fill: #228b22\"/>\n   </g>\n   <g id=\"patch_156\">\n    <path d=\"M 269.633132 288.430125 \nL 307.997037 288.430125 \nL 307.997037 288.430125 \nL 269.633132 288.430125 \nz\n\" clip-path=\"url(#p3c9fd10ac7)\" style=\"fill: #228b22\"/>\n   </g>\n   <g id=\"patch_157\">\n    <path d=\"M 271.071778 288.430125 \nL 309.435683 288.430125 \nL 309.435683 284.88551 \nL 271.071778 284.88551 \nz\n\" clip-path=\"url(#p3c9fd10ac7)\" style=\"fill: #228b22\"/>\n   </g>\n   <g id=\"patch_158\">\n    <path d=\"M 272.510425 288.430125 \nL 310.87433 288.430125 \nL 310.87433 283.113202 \nL 272.510425 283.113202 \nz\n\" clip-path=\"url(#p3c9fd10ac7)\" style=\"fill: #228b22\"/>\n   </g>\n   <g id=\"patch_159\">\n    <path d=\"M 273.949071 288.430125 \nL 312.312976 288.430125 \nL 312.312976 288.430125 \nL 273.949071 288.430125 \nz\n\" clip-path=\"url(#p3c9fd10ac7)\" style=\"fill: #228b22\"/>\n   </g>\n   <g id=\"patch_160\">\n    <path d=\"M 275.387718 288.430125 \nL 313.751622 288.430125 \nL 313.751622 286.657817 \nL 275.387718 286.657817 \nz\n\" clip-path=\"url(#p3c9fd10ac7)\" style=\"fill: #228b22\"/>\n   </g>\n   <g id=\"patch_161\">\n    <path d=\"M 276.826364 288.430125 \nL 315.190269 288.430125 \nL 315.190269 286.657817 \nL 276.826364 286.657817 \nz\n\" clip-path=\"url(#p3c9fd10ac7)\" style=\"fill: #228b22\"/>\n   </g>\n   <g id=\"patch_162\">\n    <path d=\"M 278.26501 288.430125 \nL 316.628915 288.430125 \nL 316.628915 286.657817 \nL 278.26501 286.657817 \nz\n\" clip-path=\"url(#p3c9fd10ac7)\" style=\"fill: #228b22\"/>\n   </g>\n   <g id=\"patch_163\">\n    <path d=\"M 279.703657 288.430125 \nL 318.067562 288.430125 \nL 318.067562 286.657817 \nL 279.703657 286.657817 \nz\n\" clip-path=\"url(#p3c9fd10ac7)\" style=\"fill: #228b22\"/>\n   </g>\n   <g id=\"patch_164\">\n    <path d=\"M 281.142303 288.430125 \nL 319.506208 288.430125 \nL 319.506208 288.430125 \nL 281.142303 288.430125 \nz\n\" clip-path=\"url(#p3c9fd10ac7)\" style=\"fill: #228b22\"/>\n   </g>\n   <g id=\"patch_165\">\n    <path d=\"M 282.58095 288.430125 \nL 320.944855 288.430125 \nL 320.944855 288.430125 \nL 282.58095 288.430125 \nz\n\" clip-path=\"url(#p3c9fd10ac7)\" style=\"fill: #228b22\"/>\n   </g>\n   <g id=\"patch_166\">\n    <path d=\"M 284.019596 288.430125 \nL 322.383501 288.430125 \nL 322.383501 288.430125 \nL 284.019596 288.430125 \nz\n\" clip-path=\"url(#p3c9fd10ac7)\" style=\"fill: #228b22\"/>\n   </g>\n   <g id=\"patch_167\">\n    <path d=\"M 285.458243 288.430125 \nL 323.822148 288.430125 \nL 323.822148 288.430125 \nL 285.458243 288.430125 \nz\n\" clip-path=\"url(#p3c9fd10ac7)\" style=\"fill: #228b22\"/>\n   </g>\n   <g id=\"patch_168\">\n    <path d=\"M 286.896889 288.430125 \nL 325.260794 288.430125 \nL 325.260794 288.430125 \nL 286.896889 288.430125 \nz\n\" clip-path=\"url(#p3c9fd10ac7)\" style=\"fill: #228b22\"/>\n   </g>\n   <g id=\"patch_169\">\n    <path d=\"M 288.335535 288.430125 \nL 326.69944 288.430125 \nL 326.69944 288.430125 \nL 288.335535 288.430125 \nz\n\" clip-path=\"url(#p3c9fd10ac7)\" style=\"fill: #228b22\"/>\n   </g>\n   <g id=\"patch_170\">\n    <path d=\"M 289.774182 288.430125 \nL 328.138087 288.430125 \nL 328.138087 288.430125 \nL 289.774182 288.430125 \nz\n\" clip-path=\"url(#p3c9fd10ac7)\" style=\"fill: #228b22\"/>\n   </g>\n   <g id=\"patch_171\">\n    <path d=\"M 291.212828 288.430125 \nL 329.576733 288.430125 \nL 329.576733 288.430125 \nL 291.212828 288.430125 \nz\n\" clip-path=\"url(#p3c9fd10ac7)\" style=\"fill: #228b22\"/>\n   </g>\n   <g id=\"patch_172\">\n    <path d=\"M 292.651475 288.430125 \nL 331.01538 288.430125 \nL 331.01538 288.430125 \nL 292.651475 288.430125 \nz\n\" clip-path=\"url(#p3c9fd10ac7)\" style=\"fill: #228b22\"/>\n   </g>\n   <g id=\"patch_173\">\n    <path d=\"M 294.090121 288.430125 \nL 332.454026 288.430125 \nL 332.454026 288.430125 \nL 294.090121 288.430125 \nz\n\" clip-path=\"url(#p3c9fd10ac7)\" style=\"fill: #228b22\"/>\n   </g>\n   <g id=\"patch_174\">\n    <path d=\"M 295.528768 288.430125 \nL 333.892673 288.430125 \nL 333.892673 288.430125 \nL 295.528768 288.430125 \nz\n\" clip-path=\"url(#p3c9fd10ac7)\" style=\"fill: #228b22\"/>\n   </g>\n   <g id=\"patch_175\">\n    <path d=\"M 296.967414 288.430125 \nL 335.331319 288.430125 \nL 335.331319 288.430125 \nL 296.967414 288.430125 \nz\n\" clip-path=\"url(#p3c9fd10ac7)\" style=\"fill: #228b22\"/>\n   </g>\n   <g id=\"patch_176\">\n    <path d=\"M 298.40606 288.430125 \nL 336.769965 288.430125 \nL 336.769965 288.430125 \nL 298.40606 288.430125 \nz\n\" clip-path=\"url(#p3c9fd10ac7)\" style=\"fill: #228b22\"/>\n   </g>\n   <g id=\"patch_177\">\n    <path d=\"M 299.844707 288.430125 \nL 338.208612 288.430125 \nL 338.208612 288.430125 \nL 299.844707 288.430125 \nz\n\" clip-path=\"url(#p3c9fd10ac7)\" style=\"fill: #228b22\"/>\n   </g>\n   <g id=\"patch_178\">\n    <path d=\"M 301.283353 288.430125 \nL 339.647258 288.430125 \nL 339.647258 288.430125 \nL 301.283353 288.430125 \nz\n\" clip-path=\"url(#p3c9fd10ac7)\" style=\"fill: #228b22\"/>\n   </g>\n   <g id=\"patch_179\">\n    <path d=\"M 302.722 288.430125 \nL 341.085905 288.430125 \nL 341.085905 288.430125 \nL 302.722 288.430125 \nz\n\" clip-path=\"url(#p3c9fd10ac7)\" style=\"fill: #228b22\"/>\n   </g>\n   <g id=\"patch_180\">\n    <path d=\"M 304.160646 288.430125 \nL 342.524551 288.430125 \nL 342.524551 288.430125 \nL 304.160646 288.430125 \nz\n\" clip-path=\"url(#p3c9fd10ac7)\" style=\"fill: #228b22\"/>\n   </g>\n   <g id=\"patch_181\">\n    <path d=\"M 305.599293 288.430125 \nL 343.963198 288.430125 \nL 343.963198 288.430125 \nL 305.599293 288.430125 \nz\n\" clip-path=\"url(#p3c9fd10ac7)\" style=\"fill: #228b22\"/>\n   </g>\n   <g id=\"patch_182\">\n    <path d=\"M 307.037939 288.430125 \nL 345.401844 288.430125 \nL 345.401844 288.430125 \nL 307.037939 288.430125 \nz\n\" clip-path=\"url(#p3c9fd10ac7)\" style=\"fill: #228b22\"/>\n   </g>\n   <g id=\"patch_183\">\n    <path d=\"M 308.476586 288.430125 \nL 346.84049 288.430125 \nL 346.84049 288.430125 \nL 308.476586 288.430125 \nz\n\" clip-path=\"url(#p3c9fd10ac7)\" style=\"fill: #228b22\"/>\n   </g>\n   <g id=\"patch_184\">\n    <path d=\"M 309.915232 288.430125 \nL 348.279137 288.430125 \nL 348.279137 288.430125 \nL 309.915232 288.430125 \nz\n\" clip-path=\"url(#p3c9fd10ac7)\" style=\"fill: #228b22\"/>\n   </g>\n   <g id=\"patch_185\">\n    <path d=\"M 311.353878 288.430125 \nL 349.717783 288.430125 \nL 349.717783 288.430125 \nL 311.353878 288.430125 \nz\n\" clip-path=\"url(#p3c9fd10ac7)\" style=\"fill: #228b22\"/>\n   </g>\n   <g id=\"patch_186\">\n    <path d=\"M 312.792525 288.430125 \nL 351.15643 288.430125 \nL 351.15643 288.430125 \nL 312.792525 288.430125 \nz\n\" clip-path=\"url(#p3c9fd10ac7)\" style=\"fill: #228b22\"/>\n   </g>\n   <g id=\"patch_187\">\n    <path d=\"M 314.231171 288.430125 \nL 352.595076 288.430125 \nL 352.595076 288.430125 \nL 314.231171 288.430125 \nz\n\" clip-path=\"url(#p3c9fd10ac7)\" style=\"fill: #228b22\"/>\n   </g>\n   <g id=\"patch_188\">\n    <path d=\"M 315.669818 288.430125 \nL 354.033723 288.430125 \nL 354.033723 288.430125 \nL 315.669818 288.430125 \nz\n\" clip-path=\"url(#p3c9fd10ac7)\" style=\"fill: #228b22\"/>\n   </g>\n   <g id=\"patch_189\">\n    <path d=\"M 317.108464 288.430125 \nL 355.472369 288.430125 \nL 355.472369 288.430125 \nL 317.108464 288.430125 \nz\n\" clip-path=\"url(#p3c9fd10ac7)\" style=\"fill: #228b22\"/>\n   </g>\n   <g id=\"patch_190\">\n    <path d=\"M 318.547111 288.430125 \nL 356.911016 288.430125 \nL 356.911016 288.430125 \nL 318.547111 288.430125 \nz\n\" clip-path=\"url(#p3c9fd10ac7)\" style=\"fill: #228b22\"/>\n   </g>\n   <g id=\"patch_191\">\n    <path d=\"M 319.985757 288.430125 \nL 358.349662 288.430125 \nL 358.349662 288.430125 \nL 319.985757 288.430125 \nz\n\" clip-path=\"url(#p3c9fd10ac7)\" style=\"fill: #228b22\"/>\n   </g>\n   <g id=\"patch_192\">\n    <path d=\"M 321.424403 288.430125 \nL 359.788308 288.430125 \nL 359.788308 288.430125 \nL 321.424403 288.430125 \nz\n\" clip-path=\"url(#p3c9fd10ac7)\" style=\"fill: #228b22\"/>\n   </g>\n   <g id=\"patch_193\">\n    <path d=\"M 322.86305 288.430125 \nL 361.226955 288.430125 \nL 361.226955 288.430125 \nL 322.86305 288.430125 \nz\n\" clip-path=\"url(#p3c9fd10ac7)\" style=\"fill: #228b22\"/>\n   </g>\n   <g id=\"patch_194\">\n    <path d=\"M 324.301696 288.430125 \nL 362.665601 288.430125 \nL 362.665601 288.430125 \nL 324.301696 288.430125 \nz\n\" clip-path=\"url(#p3c9fd10ac7)\" style=\"fill: #228b22\"/>\n   </g>\n   <g id=\"patch_195\">\n    <path d=\"M 325.740343 288.430125 \nL 364.104248 288.430125 \nL 364.104248 288.430125 \nL 325.740343 288.430125 \nz\n\" clip-path=\"url(#p3c9fd10ac7)\" style=\"fill: #228b22\"/>\n   </g>\n   <g id=\"patch_196\">\n    <path d=\"M 327.178989 288.430125 \nL 365.542894 288.430125 \nL 365.542894 288.430125 \nL 327.178989 288.430125 \nz\n\" clip-path=\"url(#p3c9fd10ac7)\" style=\"fill: #228b22\"/>\n   </g>\n   <g id=\"patch_197\">\n    <path d=\"M 328.617636 288.430125 \nL 366.981541 288.430125 \nL 366.981541 288.430125 \nL 328.617636 288.430125 \nz\n\" clip-path=\"url(#p3c9fd10ac7)\" style=\"fill: #228b22\"/>\n   </g>\n   <g id=\"patch_198\">\n    <path d=\"M 330.056282 288.430125 \nL 368.420187 288.430125 \nL 368.420187 288.430125 \nL 330.056282 288.430125 \nz\n\" clip-path=\"url(#p3c9fd10ac7)\" style=\"fill: #228b22\"/>\n   </g>\n   <g id=\"patch_199\">\n    <path d=\"M 331.494928 288.430125 \nL 369.858833 288.430125 \nL 369.858833 288.430125 \nL 331.494928 288.430125 \nz\n\" clip-path=\"url(#p3c9fd10ac7)\" style=\"fill: #228b22\"/>\n   </g>\n   <g id=\"patch_200\">\n    <path d=\"M 332.933575 288.430125 \nL 371.29748 288.430125 \nL 371.29748 288.430125 \nL 332.933575 288.430125 \nz\n\" clip-path=\"url(#p3c9fd10ac7)\" style=\"fill: #228b22\"/>\n   </g>\n   <g id=\"patch_201\">\n    <path d=\"M 334.372221 288.430125 \nL 372.736126 288.430125 \nL 372.736126 288.430125 \nL 334.372221 288.430125 \nz\n\" clip-path=\"url(#p3c9fd10ac7)\" style=\"fill: #228b22\"/>\n   </g>\n   <g id=\"patch_202\">\n    <path d=\"M 335.810868 288.430125 \nL 374.174773 288.430125 \nL 374.174773 288.430125 \nL 335.810868 288.430125 \nz\n\" clip-path=\"url(#p3c9fd10ac7)\" style=\"fill: #228b22\"/>\n   </g>\n   <g id=\"matplotlib.axis_1\">\n    <g id=\"xtick_1\">\n     <g id=\"line2d_1\">\n      <defs>\n       <path id=\"m72e0ddd345\" d=\"M 0 0 \nL 0 3.5 \n\" style=\"stroke: #000000; stroke-width: 0.8\"/>\n      </defs>\n      <g>\n       <use xlink:href=\"#m72e0ddd345\" x=\"68.70218\" y=\"288.430125\" style=\"stroke: #000000; stroke-width: 0.8\"/>\n      </g>\n     </g>\n     <g id=\"text_1\">\n      <!-- −3 -->\n      <g transform=\"translate(61.331086 303.028562) scale(0.1 -0.1)\">\n       <defs>\n        <path id=\"DejaVuSans-2212\" d=\"M 678 2272 \nL 4684 2272 \nL 4684 1741 \nL 678 1741 \nL 678 2272 \nz\n\" transform=\"scale(0.015625)\"/>\n        <path id=\"DejaVuSans-33\" d=\"M 2597 2516 \nQ 3050 2419 3304 2112 \nQ 3559 1806 3559 1356 \nQ 3559 666 3084 287 \nQ 2609 -91 1734 -91 \nQ 1441 -91 1130 -33 \nQ 819 25 488 141 \nL 488 750 \nQ 750 597 1062 519 \nQ 1375 441 1716 441 \nQ 2309 441 2620 675 \nQ 2931 909 2931 1356 \nQ 2931 1769 2642 2001 \nQ 2353 2234 1838 2234 \nL 1294 2234 \nL 1294 2753 \nL 1863 2753 \nQ 2328 2753 2575 2939 \nQ 2822 3125 2822 3475 \nQ 2822 3834 2567 4026 \nQ 2313 4219 1838 4219 \nQ 1578 4219 1281 4162 \nQ 984 4106 628 3988 \nL 628 4550 \nQ 988 4650 1302 4700 \nQ 1616 4750 1894 4750 \nQ 2613 4750 3031 4423 \nQ 3450 4097 3450 3541 \nQ 3450 3153 3228 2886 \nQ 3006 2619 2597 2516 \nz\n\" transform=\"scale(0.015625)\"/>\n       </defs>\n       <use xlink:href=\"#DejaVuSans-2212\"/>\n       <use xlink:href=\"#DejaVuSans-33\" x=\"83.789062\"/>\n      </g>\n     </g>\n    </g>\n    <g id=\"xtick_2\">\n     <g id=\"line2d_2\">\n      <g>\n       <use xlink:href=\"#m72e0ddd345\" x=\"116.657061\" y=\"288.430125\" style=\"stroke: #000000; stroke-width: 0.8\"/>\n      </g>\n     </g>\n     <g id=\"text_2\">\n      <!-- −2 -->\n      <g transform=\"translate(109.285967 303.028562) scale(0.1 -0.1)\">\n       <defs>\n        <path id=\"DejaVuSans-32\" d=\"M 1228 531 \nL 3431 531 \nL 3431 0 \nL 469 0 \nL 469 531 \nQ 828 903 1448 1529 \nQ 2069 2156 2228 2338 \nQ 2531 2678 2651 2914 \nQ 2772 3150 2772 3378 \nQ 2772 3750 2511 3984 \nQ 2250 4219 1831 4219 \nQ 1534 4219 1204 4116 \nQ 875 4013 500 3803 \nL 500 4441 \nQ 881 4594 1212 4672 \nQ 1544 4750 1819 4750 \nQ 2544 4750 2975 4387 \nQ 3406 4025 3406 3419 \nQ 3406 3131 3298 2873 \nQ 3191 2616 2906 2266 \nQ 2828 2175 2409 1742 \nQ 1991 1309 1228 531 \nz\n\" transform=\"scale(0.015625)\"/>\n       </defs>\n       <use xlink:href=\"#DejaVuSans-2212\"/>\n       <use xlink:href=\"#DejaVuSans-32\" x=\"83.789062\"/>\n      </g>\n     </g>\n    </g>\n    <g id=\"xtick_3\">\n     <g id=\"line2d_3\">\n      <g>\n       <use xlink:href=\"#m72e0ddd345\" x=\"164.611942\" y=\"288.430125\" style=\"stroke: #000000; stroke-width: 0.8\"/>\n      </g>\n     </g>\n     <g id=\"text_3\">\n      <!-- −1 -->\n      <g transform=\"translate(157.240848 303.028562) scale(0.1 -0.1)\">\n       <defs>\n        <path id=\"DejaVuSans-31\" d=\"M 794 531 \nL 1825 531 \nL 1825 4091 \nL 703 3866 \nL 703 4441 \nL 1819 4666 \nL 2450 4666 \nL 2450 531 \nL 3481 531 \nL 3481 0 \nL 794 0 \nL 794 531 \nz\n\" transform=\"scale(0.015625)\"/>\n       </defs>\n       <use xlink:href=\"#DejaVuSans-2212\"/>\n       <use xlink:href=\"#DejaVuSans-31\" x=\"83.789062\"/>\n      </g>\n     </g>\n    </g>\n    <g id=\"xtick_4\">\n     <g id=\"line2d_4\">\n      <g>\n       <use xlink:href=\"#m72e0ddd345\" x=\"212.566823\" y=\"288.430125\" style=\"stroke: #000000; stroke-width: 0.8\"/>\n      </g>\n     </g>\n     <g id=\"text_4\">\n      <!-- 0 -->\n      <g transform=\"translate(209.385573 303.028562) scale(0.1 -0.1)\">\n       <defs>\n        <path id=\"DejaVuSans-30\" d=\"M 2034 4250 \nQ 1547 4250 1301 3770 \nQ 1056 3291 1056 2328 \nQ 1056 1369 1301 889 \nQ 1547 409 2034 409 \nQ 2525 409 2770 889 \nQ 3016 1369 3016 2328 \nQ 3016 3291 2770 3770 \nQ 2525 4250 2034 4250 \nz\nM 2034 4750 \nQ 2819 4750 3233 4129 \nQ 3647 3509 3647 2328 \nQ 3647 1150 3233 529 \nQ 2819 -91 2034 -91 \nQ 1250 -91 836 529 \nQ 422 1150 422 2328 \nQ 422 3509 836 4129 \nQ 1250 4750 2034 4750 \nz\n\" transform=\"scale(0.015625)\"/>\n       </defs>\n       <use xlink:href=\"#DejaVuSans-30\"/>\n      </g>\n     </g>\n    </g>\n    <g id=\"xtick_5\">\n     <g id=\"line2d_5\">\n      <g>\n       <use xlink:href=\"#m72e0ddd345\" x=\"260.521704\" y=\"288.430125\" style=\"stroke: #000000; stroke-width: 0.8\"/>\n      </g>\n     </g>\n     <g id=\"text_5\">\n      <!-- 1 -->\n      <g transform=\"translate(257.340454 303.028562) scale(0.1 -0.1)\">\n       <use xlink:href=\"#DejaVuSans-31\"/>\n      </g>\n     </g>\n    </g>\n    <g id=\"xtick_6\">\n     <g id=\"line2d_6\">\n      <g>\n       <use xlink:href=\"#m72e0ddd345\" x=\"308.476586\" y=\"288.430125\" style=\"stroke: #000000; stroke-width: 0.8\"/>\n      </g>\n     </g>\n     <g id=\"text_6\">\n      <!-- 2 -->\n      <g transform=\"translate(305.295336 303.028562) scale(0.1 -0.1)\">\n       <use xlink:href=\"#DejaVuSans-32\"/>\n      </g>\n     </g>\n    </g>\n    <g id=\"xtick_7\">\n     <g id=\"line2d_7\">\n      <g>\n       <use xlink:href=\"#m72e0ddd345\" x=\"356.431467\" y=\"288.430125\" style=\"stroke: #000000; stroke-width: 0.8\"/>\n      </g>\n     </g>\n     <g id=\"text_7\">\n      <!-- 3 -->\n      <g transform=\"translate(353.250217 303.028562) scale(0.1 -0.1)\">\n       <use xlink:href=\"#DejaVuSans-33\"/>\n      </g>\n     </g>\n    </g>\n   </g>\n   <g id=\"matplotlib.axis_2\">\n    <g id=\"ytick_1\">\n     <g id=\"line2d_8\">\n      <defs>\n       <path id=\"mde01ba08a9\" d=\"M 0 0 \nL -3.5 0 \n\" style=\"stroke: #000000; stroke-width: 0.8\"/>\n      </defs>\n      <g>\n       <use xlink:href=\"#mde01ba08a9\" x=\"33.2875\" y=\"288.430125\" style=\"stroke: #000000; stroke-width: 0.8\"/>\n      </g>\n     </g>\n     <g id=\"text_8\">\n      <!-- 0 -->\n      <g transform=\"translate(19.925 292.229344) scale(0.1 -0.1)\">\n       <use xlink:href=\"#DejaVuSans-30\"/>\n      </g>\n     </g>\n    </g>\n    <g id=\"ytick_2\">\n     <g id=\"line2d_9\">\n      <g>\n       <use xlink:href=\"#mde01ba08a9\" x=\"33.2875\" y=\"252.983971\" style=\"stroke: #000000; stroke-width: 0.8\"/>\n      </g>\n     </g>\n     <g id=\"text_9\">\n      <!-- 20 -->\n      <g transform=\"translate(13.5625 256.78319) scale(0.1 -0.1)\">\n       <use xlink:href=\"#DejaVuSans-32\"/>\n       <use xlink:href=\"#DejaVuSans-30\" x=\"63.623047\"/>\n      </g>\n     </g>\n    </g>\n    <g id=\"ytick_3\">\n     <g id=\"line2d_10\">\n      <g>\n       <use xlink:href=\"#mde01ba08a9\" x=\"33.2875\" y=\"217.537817\" style=\"stroke: #000000; stroke-width: 0.8\"/>\n      </g>\n     </g>\n     <g id=\"text_10\">\n      <!-- 40 -->\n      <g transform=\"translate(13.5625 221.337036) scale(0.1 -0.1)\">\n       <defs>\n        <path id=\"DejaVuSans-34\" d=\"M 2419 4116 \nL 825 1625 \nL 2419 1625 \nL 2419 4116 \nz\nM 2253 4666 \nL 3047 4666 \nL 3047 1625 \nL 3713 1625 \nL 3713 1100 \nL 3047 1100 \nL 3047 0 \nL 2419 0 \nL 2419 1100 \nL 313 1100 \nL 313 1709 \nL 2253 4666 \nz\n\" transform=\"scale(0.015625)\"/>\n       </defs>\n       <use xlink:href=\"#DejaVuSans-34\"/>\n       <use xlink:href=\"#DejaVuSans-30\" x=\"63.623047\"/>\n      </g>\n     </g>\n    </g>\n    <g id=\"ytick_4\">\n     <g id=\"line2d_11\">\n      <g>\n       <use xlink:href=\"#mde01ba08a9\" x=\"33.2875\" y=\"182.091663\" style=\"stroke: #000000; stroke-width: 0.8\"/>\n      </g>\n     </g>\n     <g id=\"text_11\">\n      <!-- 60 -->\n      <g transform=\"translate(13.5625 185.890882) scale(0.1 -0.1)\">\n       <defs>\n        <path id=\"DejaVuSans-36\" d=\"M 2113 2584 \nQ 1688 2584 1439 2293 \nQ 1191 2003 1191 1497 \nQ 1191 994 1439 701 \nQ 1688 409 2113 409 \nQ 2538 409 2786 701 \nQ 3034 994 3034 1497 \nQ 3034 2003 2786 2293 \nQ 2538 2584 2113 2584 \nz\nM 3366 4563 \nL 3366 3988 \nQ 3128 4100 2886 4159 \nQ 2644 4219 2406 4219 \nQ 1781 4219 1451 3797 \nQ 1122 3375 1075 2522 \nQ 1259 2794 1537 2939 \nQ 1816 3084 2150 3084 \nQ 2853 3084 3261 2657 \nQ 3669 2231 3669 1497 \nQ 3669 778 3244 343 \nQ 2819 -91 2113 -91 \nQ 1303 -91 875 529 \nQ 447 1150 447 2328 \nQ 447 3434 972 4092 \nQ 1497 4750 2381 4750 \nQ 2619 4750 2861 4703 \nQ 3103 4656 3366 4563 \nz\n\" transform=\"scale(0.015625)\"/>\n       </defs>\n       <use xlink:href=\"#DejaVuSans-36\"/>\n       <use xlink:href=\"#DejaVuSans-30\" x=\"63.623047\"/>\n      </g>\n     </g>\n    </g>\n    <g id=\"ytick_5\">\n     <g id=\"line2d_12\">\n      <g>\n       <use xlink:href=\"#mde01ba08a9\" x=\"33.2875\" y=\"146.64551\" style=\"stroke: #000000; stroke-width: 0.8\"/>\n      </g>\n     </g>\n     <g id=\"text_12\">\n      <!-- 80 -->\n      <g transform=\"translate(13.5625 150.444728) scale(0.1 -0.1)\">\n       <defs>\n        <path id=\"DejaVuSans-38\" d=\"M 2034 2216 \nQ 1584 2216 1326 1975 \nQ 1069 1734 1069 1313 \nQ 1069 891 1326 650 \nQ 1584 409 2034 409 \nQ 2484 409 2743 651 \nQ 3003 894 3003 1313 \nQ 3003 1734 2745 1975 \nQ 2488 2216 2034 2216 \nz\nM 1403 2484 \nQ 997 2584 770 2862 \nQ 544 3141 544 3541 \nQ 544 4100 942 4425 \nQ 1341 4750 2034 4750 \nQ 2731 4750 3128 4425 \nQ 3525 4100 3525 3541 \nQ 3525 3141 3298 2862 \nQ 3072 2584 2669 2484 \nQ 3125 2378 3379 2068 \nQ 3634 1759 3634 1313 \nQ 3634 634 3220 271 \nQ 2806 -91 2034 -91 \nQ 1263 -91 848 271 \nQ 434 634 434 1313 \nQ 434 1759 690 2068 \nQ 947 2378 1403 2484 \nz\nM 1172 3481 \nQ 1172 3119 1398 2916 \nQ 1625 2713 2034 2713 \nQ 2441 2713 2670 2916 \nQ 2900 3119 2900 3481 \nQ 2900 3844 2670 4047 \nQ 2441 4250 2034 4250 \nQ 1625 4250 1398 4047 \nQ 1172 3844 1172 3481 \nz\n\" transform=\"scale(0.015625)\"/>\n       </defs>\n       <use xlink:href=\"#DejaVuSans-38\"/>\n       <use xlink:href=\"#DejaVuSans-30\" x=\"63.623047\"/>\n      </g>\n     </g>\n    </g>\n    <g id=\"ytick_6\">\n     <g id=\"line2d_13\">\n      <g>\n       <use xlink:href=\"#mde01ba08a9\" x=\"33.2875\" y=\"111.199356\" style=\"stroke: #000000; stroke-width: 0.8\"/>\n      </g>\n     </g>\n     <g id=\"text_13\">\n      <!-- 100 -->\n      <g transform=\"translate(7.2 114.998575) scale(0.1 -0.1)\">\n       <use xlink:href=\"#DejaVuSans-31\"/>\n       <use xlink:href=\"#DejaVuSans-30\" x=\"63.623047\"/>\n       <use xlink:href=\"#DejaVuSans-30\" x=\"127.246094\"/>\n      </g>\n     </g>\n    </g>\n    <g id=\"ytick_7\">\n     <g id=\"line2d_14\">\n      <g>\n       <use xlink:href=\"#mde01ba08a9\" x=\"33.2875\" y=\"75.753202\" style=\"stroke: #000000; stroke-width: 0.8\"/>\n      </g>\n     </g>\n     <g id=\"text_14\">\n      <!-- 120 -->\n      <g transform=\"translate(7.2 79.552421) scale(0.1 -0.1)\">\n       <use xlink:href=\"#DejaVuSans-31\"/>\n       <use xlink:href=\"#DejaVuSans-32\" x=\"63.623047\"/>\n       <use xlink:href=\"#DejaVuSans-30\" x=\"127.246094\"/>\n      </g>\n     </g>\n    </g>\n    <g id=\"ytick_8\">\n     <g id=\"line2d_15\">\n      <g>\n       <use xlink:href=\"#mde01ba08a9\" x=\"33.2875\" y=\"40.307048\" style=\"stroke: #000000; stroke-width: 0.8\"/>\n      </g>\n     </g>\n     <g id=\"text_15\">\n      <!-- 140 -->\n      <g transform=\"translate(7.2 44.106267) scale(0.1 -0.1)\">\n       <use xlink:href=\"#DejaVuSans-31\"/>\n       <use xlink:href=\"#DejaVuSans-34\" x=\"63.623047\"/>\n       <use xlink:href=\"#DejaVuSans-30\" x=\"127.246094\"/>\n      </g>\n     </g>\n    </g>\n   </g>\n   <g id=\"patch_203\">\n    <path d=\"M 33.2875 288.430125 \nL 33.2875 22.318125 \n\" style=\"fill: none; stroke: #000000; stroke-width: 0.8; stroke-linejoin: miter; stroke-linecap: square\"/>\n   </g>\n   <g id=\"patch_204\">\n    <path d=\"M 390.4075 288.430125 \nL 390.4075 22.318125 \n\" style=\"fill: none; stroke: #000000; stroke-width: 0.8; stroke-linejoin: miter; stroke-linecap: square\"/>\n   </g>\n   <g id=\"patch_205\">\n    <path d=\"M 33.2875 288.430125 \nL 390.4075 288.430125 \n\" style=\"fill: none; stroke: #000000; stroke-width: 0.8; stroke-linejoin: miter; stroke-linecap: square\"/>\n   </g>\n   <g id=\"patch_206\">\n    <path d=\"M 33.2875 22.318125 \nL 390.4075 22.318125 \n\" style=\"fill: none; stroke: #000000; stroke-width: 0.8; stroke-linejoin: miter; stroke-linecap: square\"/>\n   </g>\n   <g id=\"text_16\">\n    <!-- qkv distribution -->\n    <g transform=\"translate(164.914375 16.318125) scale(0.12 -0.12)\">\n     <defs>\n      <path id=\"DejaVuSans-71\" d=\"M 947 1747 \nQ 947 1113 1208 752 \nQ 1469 391 1925 391 \nQ 2381 391 2643 752 \nQ 2906 1113 2906 1747 \nQ 2906 2381 2643 2742 \nQ 2381 3103 1925 3103 \nQ 1469 3103 1208 2742 \nQ 947 2381 947 1747 \nz\nM 2906 525 \nQ 2725 213 2448 61 \nQ 2172 -91 1784 -91 \nQ 1150 -91 751 415 \nQ 353 922 353 1747 \nQ 353 2572 751 3078 \nQ 1150 3584 1784 3584 \nQ 2172 3584 2448 3432 \nQ 2725 3281 2906 2969 \nL 2906 3500 \nL 3481 3500 \nL 3481 -1331 \nL 2906 -1331 \nL 2906 525 \nz\n\" transform=\"scale(0.015625)\"/>\n      <path id=\"DejaVuSans-6b\" d=\"M 581 4863 \nL 1159 4863 \nL 1159 1991 \nL 2875 3500 \nL 3609 3500 \nL 1753 1863 \nL 3688 0 \nL 2938 0 \nL 1159 1709 \nL 1159 0 \nL 581 0 \nL 581 4863 \nz\n\" transform=\"scale(0.015625)\"/>\n      <path id=\"DejaVuSans-76\" d=\"M 191 3500 \nL 800 3500 \nL 1894 563 \nL 2988 3500 \nL 3597 3500 \nL 2284 0 \nL 1503 0 \nL 191 3500 \nz\n\" transform=\"scale(0.015625)\"/>\n      <path id=\"DejaVuSans-20\" transform=\"scale(0.015625)\"/>\n      <path id=\"DejaVuSans-64\" d=\"M 2906 2969 \nL 2906 4863 \nL 3481 4863 \nL 3481 0 \nL 2906 0 \nL 2906 525 \nQ 2725 213 2448 61 \nQ 2172 -91 1784 -91 \nQ 1150 -91 751 415 \nQ 353 922 353 1747 \nQ 353 2572 751 3078 \nQ 1150 3584 1784 3584 \nQ 2172 3584 2448 3432 \nQ 2725 3281 2906 2969 \nz\nM 947 1747 \nQ 947 1113 1208 752 \nQ 1469 391 1925 391 \nQ 2381 391 2643 752 \nQ 2906 1113 2906 1747 \nQ 2906 2381 2643 2742 \nQ 2381 3103 1925 3103 \nQ 1469 3103 1208 2742 \nQ 947 2381 947 1747 \nz\n\" transform=\"scale(0.015625)\"/>\n      <path id=\"DejaVuSans-69\" d=\"M 603 3500 \nL 1178 3500 \nL 1178 0 \nL 603 0 \nL 603 3500 \nz\nM 603 4863 \nL 1178 4863 \nL 1178 4134 \nL 603 4134 \nL 603 4863 \nz\n\" transform=\"scale(0.015625)\"/>\n      <path id=\"DejaVuSans-73\" d=\"M 2834 3397 \nL 2834 2853 \nQ 2591 2978 2328 3040 \nQ 2066 3103 1784 3103 \nQ 1356 3103 1142 2972 \nQ 928 2841 928 2578 \nQ 928 2378 1081 2264 \nQ 1234 2150 1697 2047 \nL 1894 2003 \nQ 2506 1872 2764 1633 \nQ 3022 1394 3022 966 \nQ 3022 478 2636 193 \nQ 2250 -91 1575 -91 \nQ 1294 -91 989 -36 \nQ 684 19 347 128 \nL 347 722 \nQ 666 556 975 473 \nQ 1284 391 1588 391 \nQ 1994 391 2212 530 \nQ 2431 669 2431 922 \nQ 2431 1156 2273 1281 \nQ 2116 1406 1581 1522 \nL 1381 1569 \nQ 847 1681 609 1914 \nQ 372 2147 372 2553 \nQ 372 3047 722 3315 \nQ 1072 3584 1716 3584 \nQ 2034 3584 2315 3537 \nQ 2597 3491 2834 3397 \nz\n\" transform=\"scale(0.015625)\"/>\n      <path id=\"DejaVuSans-74\" d=\"M 1172 4494 \nL 1172 3500 \nL 2356 3500 \nL 2356 3053 \nL 1172 3053 \nL 1172 1153 \nQ 1172 725 1289 603 \nQ 1406 481 1766 481 \nL 2356 481 \nL 2356 0 \nL 1766 0 \nQ 1100 0 847 248 \nQ 594 497 594 1153 \nL 594 3053 \nL 172 3053 \nL 172 3500 \nL 594 3500 \nL 594 4494 \nL 1172 4494 \nz\n\" transform=\"scale(0.015625)\"/>\n      <path id=\"DejaVuSans-72\" d=\"M 2631 2963 \nQ 2534 3019 2420 3045 \nQ 2306 3072 2169 3072 \nQ 1681 3072 1420 2755 \nQ 1159 2438 1159 1844 \nL 1159 0 \nL 581 0 \nL 581 3500 \nL 1159 3500 \nL 1159 2956 \nQ 1341 3275 1631 3429 \nQ 1922 3584 2338 3584 \nQ 2397 3584 2469 3576 \nQ 2541 3569 2628 3553 \nL 2631 2963 \nz\n\" transform=\"scale(0.015625)\"/>\n      <path id=\"DejaVuSans-62\" d=\"M 3116 1747 \nQ 3116 2381 2855 2742 \nQ 2594 3103 2138 3103 \nQ 1681 3103 1420 2742 \nQ 1159 2381 1159 1747 \nQ 1159 1113 1420 752 \nQ 1681 391 2138 391 \nQ 2594 391 2855 752 \nQ 3116 1113 3116 1747 \nz\nM 1159 2969 \nQ 1341 3281 1617 3432 \nQ 1894 3584 2278 3584 \nQ 2916 3584 3314 3078 \nQ 3713 2572 3713 1747 \nQ 3713 922 3314 415 \nQ 2916 -91 2278 -91 \nQ 1894 -91 1617 61 \nQ 1341 213 1159 525 \nL 1159 0 \nL 581 0 \nL 581 4863 \nL 1159 4863 \nL 1159 2969 \nz\n\" transform=\"scale(0.015625)\"/>\n      <path id=\"DejaVuSans-75\" d=\"M 544 1381 \nL 544 3500 \nL 1119 3500 \nL 1119 1403 \nQ 1119 906 1312 657 \nQ 1506 409 1894 409 \nQ 2359 409 2629 706 \nQ 2900 1003 2900 1516 \nL 2900 3500 \nL 3475 3500 \nL 3475 0 \nL 2900 0 \nL 2900 538 \nQ 2691 219 2414 64 \nQ 2138 -91 1772 -91 \nQ 1169 -91 856 284 \nQ 544 659 544 1381 \nz\nM 1991 3584 \nL 1991 3584 \nz\n\" transform=\"scale(0.015625)\"/>\n      <path id=\"DejaVuSans-6f\" d=\"M 1959 3097 \nQ 1497 3097 1228 2736 \nQ 959 2375 959 1747 \nQ 959 1119 1226 758 \nQ 1494 397 1959 397 \nQ 2419 397 2687 759 \nQ 2956 1122 2956 1747 \nQ 2956 2369 2687 2733 \nQ 2419 3097 1959 3097 \nz\nM 1959 3584 \nQ 2709 3584 3137 3096 \nQ 3566 2609 3566 1747 \nQ 3566 888 3137 398 \nQ 2709 -91 1959 -91 \nQ 1206 -91 779 398 \nQ 353 888 353 1747 \nQ 353 2609 779 3096 \nQ 1206 3584 1959 3584 \nz\n\" transform=\"scale(0.015625)\"/>\n      <path id=\"DejaVuSans-6e\" d=\"M 3513 2113 \nL 3513 0 \nL 2938 0 \nL 2938 2094 \nQ 2938 2591 2744 2837 \nQ 2550 3084 2163 3084 \nQ 1697 3084 1428 2787 \nQ 1159 2491 1159 1978 \nL 1159 0 \nL 581 0 \nL 581 3500 \nL 1159 3500 \nL 1159 2956 \nQ 1366 3272 1645 3428 \nQ 1925 3584 2291 3584 \nQ 2894 3584 3203 3211 \nQ 3513 2838 3513 2113 \nz\n\" transform=\"scale(0.015625)\"/>\n     </defs>\n     <use xlink:href=\"#DejaVuSans-71\"/>\n     <use xlink:href=\"#DejaVuSans-6b\" x=\"63.476562\"/>\n     <use xlink:href=\"#DejaVuSans-76\" x=\"121.386719\"/>\n     <use xlink:href=\"#DejaVuSans-20\" x=\"180.566406\"/>\n     <use xlink:href=\"#DejaVuSans-64\" x=\"212.353516\"/>\n     <use xlink:href=\"#DejaVuSans-69\" x=\"275.830078\"/>\n     <use xlink:href=\"#DejaVuSans-73\" x=\"303.613281\"/>\n     <use xlink:href=\"#DejaVuSans-74\" x=\"355.712891\"/>\n     <use xlink:href=\"#DejaVuSans-72\" x=\"394.921875\"/>\n     <use xlink:href=\"#DejaVuSans-69\" x=\"436.035156\"/>\n     <use xlink:href=\"#DejaVuSans-62\" x=\"463.818359\"/>\n     <use xlink:href=\"#DejaVuSans-75\" x=\"527.294922\"/>\n     <use xlink:href=\"#DejaVuSans-74\" x=\"590.673828\"/>\n     <use xlink:href=\"#DejaVuSans-69\" x=\"629.882812\"/>\n     <use xlink:href=\"#DejaVuSans-6f\" x=\"657.666016\"/>\n     <use xlink:href=\"#DejaVuSans-6e\" x=\"718.847656\"/>\n    </g>\n   </g>\n  </g>\n </g>\n <defs>\n  <clipPath id=\"p3c9fd10ac7\">\n   <rect x=\"33.2875\" y=\"22.318125\" width=\"357.12\" height=\"266.112\"/>\n  </clipPath>\n </defs>\n</svg>\n",
      "image/png": "[encoded data removed]"
     },
     "metadata": {}
    }
   ],
   "source": [
    "import matplotlib.pyplot as plt\n",
    "y_val = torch.histc(qkv, bins=200, min=-3, max=3)\n",
    "x_val = np.arange(-1, 1, 0.01) *3\n",
    "plt.bar(x_val, y_val, align='center', color=['forestgreen'])\n",
    "plt.title('qkv distribution')"
   ]
  },
  {
   "cell_type": "code",
   "execution_count": 27,
   "metadata": {},
   "outputs": [],
   "source": [
    "num_heads = 8\n",
    "head_dim = d_model // num_heads\n",
    "qkv = qkv.reshape(batch_size, sequence_length, num_heads, 3* head_dim)"
   ]
  },
  {
   "cell_type": "code",
   "execution_count": 28,
   "metadata": {},
   "outputs": [
    {
     "output_type": "execute_result",
     "data": {
      "text/plain": [
       "torch.Size([1, 4, 8, 192])"
      ]
     },
     "metadata": {},
     "execution_count": 28
    }
   ],
   "source": [
    "qkv.shape"
   ]
  },
  {
   "cell_type": "code",
   "execution_count": 29,
   "metadata": {},
   "outputs": [
    {
     "output_type": "execute_result",
     "data": {
      "text/plain": [
       "torch.Size([1, 8, 4, 192])"
      ]
     },
     "metadata": {},
     "execution_count": 29
    }
   ],
   "source": [
    "qkv = qkv.permute(0,2,1,3) # [batch_size, num_heads, sequence_length, 3*head_dim]\n",
    "qkv.shape"
   ]
  },
  {
   "cell_type": "code",
   "execution_count": 30,
   "metadata": {},
   "outputs": [
    {
     "output_type": "execute_result",
     "data": {
      "text/plain": [
       "(torch.Size([1, 8, 4, 64]),\n",
       " torch.Size([1, 8, 4, 64]),\n",
       " torch.Size([1, 8, 4, 64]))"
      ]
     },
     "metadata": {},
     "execution_count": 30
    }
   ],
   "source": [
    "q, k, v = qkv.chunk(3, dim=-1)\n",
    "q.shape, k.shape, v.shape"
   ]
  },
  {
   "cell_type": "code",
   "execution_count": null,
   "metadata": {},
   "outputs": [],
   "source": []
  },
  {
   "source": [
    "# Attention mechanism\n",
    "\n",
    "## Self Attention for multiple heads\n",
    "\n",
    "for a single head:\n"
   ],
   "cell_type": "markdown",
   "metadata": {}
  },
  {
   "cell_type": "code",
   "execution_count": 31,
   "metadata": {},
   "outputs": [
    {
     "output_type": "execute_result",
     "data": {
      "text/plain": [
       "64"
      ]
     },
     "metadata": {},
     "execution_count": 31
    }
   ],
   "source": [
    "q.size()[-1]"
   ]
  },
  {
   "cell_type": "code",
   "execution_count": 32,
   "metadata": {},
   "outputs": [],
   "source": [
    "d_k =  q.size()[-1]\n",
    "scaled = torch.matmul(q, k.transpose(-2, -1)) /math.sqrt(d_k) \n",
    "# k.transpose makes sure the matrix multiplication happens between last two dimensions"
   ]
  },
  {
   "cell_type": "code",
   "execution_count": 33,
   "metadata": {},
   "outputs": [
    {
     "output_type": "execute_result",
     "data": {
      "text/plain": [
       "torch.Size([1, 8, 4, 4])"
      ]
     },
     "metadata": {},
     "execution_count": 33
    }
   ],
   "source": [
    "scaled.shape"
   ]
  },
  {
   "cell_type": "code",
   "execution_count": 34,
   "metadata": {},
   "outputs": [
    {
     "output_type": "execute_result",
     "data": {
      "text/plain": [
       "torch.Size([64, 4, 8, 1])"
      ]
     },
     "metadata": {},
     "execution_count": 34
    }
   ],
   "source": [
    "k.T.shape"
   ]
  },
  {
   "cell_type": "code",
   "execution_count": 35,
   "metadata": {},
   "outputs": [
    {
     "output_type": "execute_result",
     "data": {
      "text/plain": [
       "torch.Size([1, 8, 64, 4])"
      ]
     },
     "metadata": {},
     "execution_count": 35
    }
   ],
   "source": [
    "k.transpose(-2, -1).shape"
   ]
  },
  {
   "cell_type": "code",
   "execution_count": 36,
   "metadata": {},
   "outputs": [
    {
     "output_type": "execute_result",
     "data": {
      "text/plain": [
       "torch.Size([1, 8, 4, 64])"
      ]
     },
     "metadata": {},
     "execution_count": 36
    }
   ],
   "source": [
    "q.shape"
   ]
  },
  {
   "cell_type": "code",
   "execution_count": 37,
   "metadata": {},
   "outputs": [
    {
     "output_type": "execute_result",
     "data": {
      "text/plain": [
       "torch.Size([1, 8, 4, 4])"
      ]
     },
     "metadata": {},
     "execution_count": 37
    }
   ],
   "source": [
    "mask = torch.full(scaled.size(), float('-inf'))\n",
    "mask = torch.triu(mask, diagonal = 1)\n",
    "mask.shape"
   ]
  },
  {
   "cell_type": "code",
   "execution_count": 39,
   "metadata": {},
   "outputs": [
    {
     "output_type": "execute_result",
     "data": {
      "text/plain": [
       "tensor([[0., -inf, -inf, -inf],\n",
       "        [0., 0., -inf, -inf],\n",
       "        [0., 0., 0., -inf],\n",
       "        [0., 0., 0., 0.]])"
      ]
     },
     "metadata": {},
     "execution_count": 39
    }
   ],
   "source": [
    "mask[0][1]"
   ]
  },
  {
   "cell_type": "code",
   "execution_count": 40,
   "metadata": {},
   "outputs": [
    {
     "output_type": "execute_result",
     "data": {
      "text/plain": [
       "tensor([[ 0.2689,    -inf,    -inf,    -inf],\n",
       "        [ 0.4014,  0.0026,    -inf,    -inf],\n",
       "        [ 0.0728,  0.2213, -0.3739,    -inf],\n",
       "        [ 0.3215, -0.1952,  0.0627, -0.0816]], grad_fn=<SelectBackward0>)"
      ]
     },
     "metadata": {},
     "execution_count": 40
    }
   ],
   "source": [
    "(scaled + mask)[0][0]"
   ]
  },
  {
   "cell_type": "code",
   "execution_count": 41,
   "metadata": {},
   "outputs": [],
   "source": [
    "scaled += mask"
   ]
  },
  {
   "cell_type": "code",
   "execution_count": 42,
   "metadata": {},
   "outputs": [
    {
     "output_type": "execute_result",
     "data": {
      "text/plain": [
       "torch.Size([1, 8, 4, 4])"
      ]
     },
     "metadata": {},
     "execution_count": 42
    }
   ],
   "source": [
    "attention = F.softmax(scaled, dim=-1)\n",
    "attention.shape"
   ]
  },
  {
   "cell_type": "code",
   "execution_count": 43,
   "metadata": {},
   "outputs": [
    {
     "output_type": "execute_result",
     "data": {
      "text/plain": [
       "torch.Size([1, 8, 4, 4])"
      ]
     },
     "metadata": {},
     "execution_count": 43
    }
   ],
   "source": [
    "attention.shape"
   ]
  },
  {
   "cell_type": "code",
   "execution_count": 44,
   "metadata": {},
   "outputs": [
    {
     "output_type": "execute_result",
     "data": {
      "text/plain": [
       "tensor([[1.0000, 0.0000, 0.0000, 0.0000],\n",
       "        [0.3988, 0.6012, 0.0000, 0.0000],\n",
       "        [0.3783, 0.2805, 0.3412, 0.0000],\n",
       "        [0.3090, 0.2690, 0.2641, 0.1580]], grad_fn=<SelectBackward0>)"
      ]
     },
     "metadata": {},
     "execution_count": 44
    }
   ],
   "source": [
    "attention[0][1]"
   ]
  },
  {
   "cell_type": "code",
   "execution_count": 45,
   "metadata": {},
   "outputs": [
    {
     "output_type": "execute_result",
     "data": {
      "text/plain": [
       "torch.Size([1, 8, 4, 64])"
      ]
     },
     "metadata": {},
     "execution_count": 45
    }
   ],
   "source": [
    "v.shape"
   ]
  },
  {
   "cell_type": "code",
   "execution_count": 46,
   "metadata": {},
   "outputs": [
    {
     "output_type": "execute_result",
     "data": {
      "text/plain": [
       "torch.Size([1, 8, 4, 64])"
      ]
     },
     "metadata": {},
     "execution_count": 46
    }
   ],
   "source": [
    "values = torch.matmul(attention, v)\n",
    "values.shape"
   ]
  },
  {
   "cell_type": "code",
   "execution_count": 47,
   "metadata": {},
   "outputs": [],
   "source": [
    "import math\n",
    "def scaled_dot_product(q,k,v, mask = None):\n",
    "    d_k = q.size()[-1]\n",
    "    scaled = torch.matmul(q, k.transpose(-1,-2)) / math.sqrt(d_k)\n",
    "\n",
    "    if mask is not None:\n",
    "        scaled += mask\n",
    "    attention = F.softmax(scaled, dim=-1)\n",
    "    values = torch.matmul(attention, v)\n",
    "    return values, attention"
   ]
  },
  {
   "cell_type": "code",
   "execution_count": 48,
   "metadata": {},
   "outputs": [],
   "source": [
    "values, attention = scaled_dot_product(q,k,v, mask=mask)"
   ]
  },
  {
   "cell_type": "code",
   "execution_count": 49,
   "metadata": {},
   "outputs": [
    {
     "output_type": "execute_result",
     "data": {
      "text/plain": [
       "torch.Size([1, 8, 4, 4])"
      ]
     },
     "metadata": {},
     "execution_count": 49
    }
   ],
   "source": [
    "attention.shape"
   ]
  },
  {
   "cell_type": "code",
   "execution_count": 50,
   "metadata": {},
   "outputs": [
    {
     "output_type": "execute_result",
     "data": {
      "text/plain": [
       "tensor([[1.0000, 0.0000, 0.0000, 0.0000],\n",
       "        [0.5984, 0.4016, 0.0000, 0.0000],\n",
       "        [0.3572, 0.4144, 0.2285, 0.0000],\n",
       "        [0.3293, 0.1964, 0.2542, 0.2201]], grad_fn=<SelectBackward0>)"
      ]
     },
     "metadata": {},
     "execution_count": 50
    }
   ],
   "source": [
    "attention[0][0]"
   ]
  },
  {
   "cell_type": "code",
   "execution_count": 51,
   "metadata": {},
   "outputs": [
    {
     "output_type": "execute_result",
     "data": {
      "text/plain": [
       "torch.Size([1, 8, 4, 64])"
      ]
     },
     "metadata": {},
     "execution_count": 51
    }
   ],
   "source": [
    "values.shape"
   ]
  },
  {
   "cell_type": "code",
   "execution_count": 52,
   "metadata": {},
   "outputs": [
    {
     "output_type": "execute_result",
     "data": {
      "text/plain": [
       "torch.Size([1, 4, 512])"
      ]
     },
     "metadata": {},
     "execution_count": 52
    }
   ],
   "source": [
    "values = values.reshape(batch_size, sequence_length, num_heads * head_dim)\n",
    "values.size()"
   ]
  },
  {
   "cell_type": "code",
   "execution_count": 53,
   "metadata": {},
   "outputs": [
    {
     "output_type": "execute_result",
     "data": {
      "text/plain": [
       "torch.Size([1, 4, 512])"
      ]
     },
     "metadata": {},
     "execution_count": 53
    }
   ],
   "source": [
    "linear_layer = nn.Linear(d_model, d_model)\n",
    "out = linear_layer(values)\n",
    "out.shape"
   ]
  },
  {
   "cell_type": "code",
   "execution_count": 54,
   "metadata": {},
   "outputs": [
    {
     "output_type": "execute_result",
     "data": {
      "text/plain": [
       "tensor([[[ 0.3408, -0.1960, -0.3008,  ..., -0.1237,  0.0210,  0.5568],\n",
       "         [-0.0043,  0.0435, -0.0834,  ..., -0.0593, -0.0241, -0.0660],\n",
       "         [ 0.0822, -0.1288,  0.2261,  ...,  0.2115,  0.3141,  0.0709],\n",
       "         [ 0.2970, -0.2304, -0.2390,  ..., -0.5283, -0.0305,  0.1480]]],\n",
       "       grad_fn=<ViewBackward0>)"
      ]
     },
     "metadata": {},
     "execution_count": 54
    }
   ],
   "source": [
    "out"
   ]
  },
  {
   "source": [
    "# Defining a class"
   ],
   "cell_type": "markdown",
   "metadata": {}
  },
  {
   "cell_type": "code",
   "execution_count": 55,
   "metadata": {},
   "outputs": [],
   "source": [
    "import torch\n",
    "import torch.nn as nn\n",
    "import math\n",
    "\n",
    "def scaled_dot_product(q,k,v, mask = None):\n",
    "    d_k = q.size()[-1]\n",
    "    scaled = torch.matmul(q, k.transpose(-1,-2)) / math.sqrt(d_k)\n",
    "\n",
    "    if mask is not None:\n",
    "        scaled += mask\n",
    "    attention = F.softmax(scaled, dim=-1)\n",
    "    values = torch.matmul(attention, v)\n",
    "    return values, attention\n",
    "\n",
    "class MultiHeadAttention(nn.Module):\n",
    "    \n",
    "    def __init__(self,  input_dim, d_model, num_heads):\n",
    "        super().__init__()\n",
    "        self.input_dim = input_dim\n",
    "        self.d_model = d_model\n",
    "        self.num_heads = num_heads\n",
    "        self.head_dim = d_model // num_heads\n",
    "        self.qkv_layer = nn.Linear(input_dim, 3*d_model)\n",
    "        self.linear_layer = nn.Linear(d_model, d_model)\n",
    "\n",
    "    def forward(self, x, mask = None):\n",
    "        batch_size , sequence_length, input_dim = x.size()\n",
    "        print(f\"x.size(): {x.size()}\")\n",
    "        qkv = self.qkv_layer(x)\n",
    "        print(f\"qkv.size(): {qkv.size()}\")\n",
    "\n",
    "        qkv = qkv.reshape(batch_size, sequence_length, self.num_heads, 3*self.head_dim)\n",
    "        print(f\"qkv.size(): {qkv.size()}\")\n",
    "\n",
    "        qkv = qkv.permute(0,2,1,3)\n",
    "        print(f\"qkv.size(): {qkv.size()}\")\n",
    "\n",
    "        q, k, v = qkv.chunk(3, dim=-1)\n",
    "        print(f\"q size: {q.size()}, k size: {k.size()}, v size: {v.size()}, \")\n",
    "\n",
    "        values, attention = scaled_dot_product(q, k, v, mask)\n",
    "        print(f\"values.size(): {values.size()}, attention.size:{ attention.size()} \")\n",
    "        values = values.reshape(batch_size, sequence_length, self.num_heads * self.head_dim)\n",
    "        print(f\"values.size(): {values.size()}\")\n",
    "        out = self.linear_layer(values)\n",
    "        print(f\"out.size(): {out.size()}\")\n",
    "        return out"
   ]
  },
  {
   "cell_type": "code",
   "execution_count": 56,
   "metadata": {},
   "outputs": [
    {
     "output_type": "stream",
     "name": "stdout",
     "text": [
      "x.size(): torch.Size([30, 5, 1024])\nqkv.size(): torch.Size([30, 5, 1536])\nqkv.size(): torch.Size([30, 5, 8, 192])\nqkv.size(): torch.Size([30, 8, 5, 192])\nq size: torch.Size([30, 8, 5, 64]), k size: torch.Size([30, 8, 5, 64]), v size: torch.Size([30, 8, 5, 64]), \nvalues.size(): torch.Size([30, 8, 5, 64]), attention.size:torch.Size([30, 8, 5, 5]) \nvalues.size(): torch.Size([30, 5, 512])\nout.size(): torch.Size([30, 5, 512])\n"
     ]
    }
   ],
   "source": [
    "input_dim = 1024\n",
    "d_model = 512\n",
    "num_heads = 8\n",
    "batch_size = 30\n",
    "\n",
    "sequence_length = 5\n",
    "x = torch.randn( (batch_size, sequence_length, input_dim) )\n",
    "\n",
    "model = MultiHeadAttention(input_dim, d_model, num_heads)\n",
    "out = model.forward(x)"
   ]
  },
  {
   "cell_type": "code",
   "execution_count": null,
   "metadata": {},
   "outputs": [],
   "source": []
  }
 ]
}