{
 "metadata": {
  "language_info": {
   "codemirror_mode": {
    "name": "ipython",
    "version": 3
   },
   "file_extension": ".py",
   "mimetype": "text/x-python",
   "name": "python",
   "nbconvert_exporter": "python",
   "pygments_lexer": "ipython3",
   "version": "3.9.0-final"
  },
  "orig_nbformat": 2,
  "kernelspec": {
   "name": "python3",
   "display_name": "Python 3.9.0 64-bit ('lchain': conda)",
   "metadata": {
    "interpreter": {
     "hash": "1403022d2b32c8e6f20e49dd0b70ce78c4230a2b7658bb052cc681d0e61e6286"
    }
   }
  }
 },
 "nbformat": 4,
 "nbformat_minor": 2,
 "cells": [
  {
   "source": [
    "# Self Attention in Transformers"
   ],
   "cell_type": "markdown",
   "metadata": {}
  },
  {
   "cell_type": "code",
   "execution_count": 1,
   "metadata": {},
   "outputs": [],
   "source": [
    "import numpy as np \n",
    "import math \n",
    "\n",
    "\n",
    "L, d_k, d_v = 4, 8, 8\n",
    "q = np.random.randn(L, d_k)\n",
    "k = np.random.randn(L, d_k)\n",
    "v = np.random.randn(L, d_v)"
   ]
  },
  {
   "cell_type": "code",
   "execution_count": 2,
   "metadata": {},
   "outputs": [
    {
     "output_type": "stream",
     "name": "stdout",
     "text": [
      "Q\n [[ 0.42639545 -0.14750816  1.20058398 -0.23310401  1.70336859 -0.00644859\n  -1.94201439  0.62941988]\n [-0.23197754 -0.93558371  1.24550005  0.63333462 -0.39052655 -0.43716867\n   1.27518761 -0.62483366]\n [ 0.28885182  1.14288872 -1.41678133  1.1968535  -1.64383917 -0.75516231\n  -0.31334341 -1.10483139]\n [-1.98028379 -0.77179123  0.59467089  0.15253073  0.85177876  0.50856472\n   0.16502912  0.37288479]]\nK\n [[-0.67472111  1.00395964  0.07499845  3.14504906  0.78688452 -0.19955353\n   0.80037524  0.05360393]\n [ 1.5169396  -0.7661733   1.52156611  0.05756113  1.59052869 -0.0648331\n   1.04913153 -0.73139845]\n [ 1.65246361 -0.08914699 -0.10161615  0.21183951  1.33964287  1.54543946\n  -0.07892107 -0.72544209]\n [ 0.01854859 -0.99078158  0.57808644  0.93955904  0.20507054 -1.00794267\n   1.39476614 -0.53686085]]\nV\n [[-0.15667422 -0.25297533  0.98637787 -1.21052519  0.14008743 -0.11860376\n  -0.91613314 -0.61867318]\n [ 1.27346853 -0.24936136 -0.33065819  0.07115656 -0.00448843  1.02634922\n   2.66971584  1.03188392]\n [ 0.47777995  1.01735913 -2.01384385  0.70010098  1.45077047 -0.40224903\n  -0.38312031 -0.51512854]\n [-1.17706872  0.32181194 -0.73021792 -0.57277547 -0.77283754  0.77115794\n   0.91126906 -1.60940595]]\n"
     ]
    }
   ],
   "source": [
    "print(\"Q\\n\", q)\n",
    "print(\"K\\n\", k)\n",
    "print(\"V\\n\", v)"
   ]
  },
  {
   "source": [
    "## Self attention \n",
    "\n",
    "softmax(Q.K^T / sqrt(d_k) +M). V"
   ],
   "cell_type": "markdown",
   "metadata": {}
  },
  {
   "cell_type": "code",
   "execution_count": 3,
   "metadata": {},
   "outputs": [
    {
     "output_type": "execute_result",
     "data": {
      "text/plain": [
       "array([[-1.25783152,  2.78507256,  2.51497136, -2.06167256],\n",
       "       [ 2.06958522,  3.49853067, -1.13846996,  4.71231092],\n",
       "       [ 3.1575944 , -4.61059461, -1.7700537 , -0.24134559],\n",
       "       [ 1.80644698, -0.27681753, -1.58815544,  0.9070883 ]])"
      ]
     },
     "metadata": {},
     "execution_count": 3
    }
   ],
   "source": [
    "np.matmul(q, k.T)"
   ]
  },
  {
   "cell_type": "code",
   "execution_count": 4,
   "metadata": {},
   "outputs": [
    {
     "output_type": "execute_result",
     "data": {
      "text/plain": [
       "(0.9208095192447721, 0.9164889113306682, 6.0325485438938715)"
      ]
     },
     "metadata": {},
     "execution_count": 4
    }
   ],
   "source": [
    "q.var(), k.var(), np.matmul(q, k.T).var()"
   ]
  },
  {
   "cell_type": "code",
   "execution_count": 5,
   "metadata": {},
   "outputs": [
    {
     "output_type": "execute_result",
     "data": {
      "text/plain": [
       "(0.9208095192447721, 0.9164889113306682, 0.7540685679867338)"
      ]
     },
     "metadata": {},
     "execution_count": 5
    }
   ],
   "source": [
    "scaled = np.matmul(q, k.T) / math.sqrt(d_k)\n",
    "q.var(), k.var(), scaled.var()"
   ]
  },
  {
   "cell_type": "code",
   "execution_count": 6,
   "metadata": {},
   "outputs": [
    {
     "output_type": "execute_result",
     "data": {
      "text/plain": [
       "array([[-0.4447106 ,  0.98467185,  0.88917665, -0.72891132],\n",
       "       [ 0.73170887,  1.23691738, -0.40250991,  1.6660535 ],\n",
       "       [ 1.11637821, -1.63009136, -0.62580849, -0.08532855],\n",
       "       [ 0.63867545, -0.09786978, -0.56149774,  0.32070414]])"
      ]
     },
     "metadata": {},
     "execution_count": 6
    }
   ],
   "source": [
    "scaled"
   ]
  },
  {
   "source": [
    "## Masking\n",
    "\n",
    "* This is to ensure words don't get context from words generated in the future.\n",
    "* Not required in the encoders, but required in the decoders"
   ],
   "cell_type": "markdown",
   "metadata": {}
  },
  {
   "cell_type": "code",
   "execution_count": 7,
   "metadata": {},
   "outputs": [
    {
     "output_type": "execute_result",
     "data": {
      "text/plain": [
       "array([[1., 0., 0., 0.],\n",
       "       [1., 1., 0., 0.],\n",
       "       [1., 1., 1., 0.],\n",
       "       [1., 1., 1., 1.]])"
      ]
     },
     "metadata": {},
     "execution_count": 7
    }
   ],
   "source": [
    "mask = np.tril(np.ones((L,L)))\n",
    "mask"
   ]
  },
  {
   "cell_type": "code",
   "execution_count": 8,
   "metadata": {},
   "outputs": [
    {
     "output_type": "execute_result",
     "data": {
      "text/plain": [
       "array([[  0., -inf, -inf, -inf],\n",
       "       [  0.,   0., -inf, -inf],\n",
       "       [  0.,   0.,   0., -inf],\n",
       "       [  0.,   0.,   0.,   0.]])"
      ]
     },
     "metadata": {},
     "execution_count": 8
    }
   ],
   "source": [
    "mask[mask == 0] = -np.inf\n",
    "mask[mask == 1] = 0\n",
    "mask"
   ]
  },
  {
   "cell_type": "code",
   "execution_count": 9,
   "metadata": {},
   "outputs": [
    {
     "output_type": "execute_result",
     "data": {
      "text/plain": [
       "array([[-0.4447106 ,        -inf,        -inf,        -inf],\n",
       "       [ 0.73170887,  1.23691738,        -inf,        -inf],\n",
       "       [ 1.11637821, -1.63009136, -0.62580849,        -inf],\n",
       "       [ 0.63867545, -0.09786978, -0.56149774,  0.32070414]])"
      ]
     },
     "metadata": {},
     "execution_count": 9
    }
   ],
   "source": [
    "scaled + mask"
   ]
  },
  {
   "cell_type": "code",
   "execution_count": 10,
   "metadata": {},
   "outputs": [],
   "source": [
    "def softmax(x):\n",
    "    return (np.exp(x).T / np.sum(np.exp(x), axis =-1)).T"
   ]
  },
  {
   "cell_type": "code",
   "execution_count": 11,
   "metadata": {},
   "outputs": [
    {
     "output_type": "execute_result",
     "data": {
      "text/plain": [
       "array([[1.        , 0.        , 0.        , 0.        ],\n",
       "       [0.37631743, 0.62368257, 0.        , 0.        ],\n",
       "       [0.80691301, 0.05176666, 0.14132033, 0.        ],\n",
       "       [0.39879869, 0.19093089, 0.12009506, 0.29017536]])"
      ]
     },
     "metadata": {},
     "execution_count": 11
    }
   ],
   "source": [
    "attention = softmax(scaled + mask)\n",
    "attention"
   ]
  },
  {
   "cell_type": "code",
   "execution_count": 12,
   "metadata": {},
   "outputs": [],
   "source": [
    "new_v = np.matmul(attention, v)"
   ]
  },
  {
   "cell_type": "code",
   "execution_count": 13,
   "metadata": {},
   "outputs": [
    {
     "output_type": "execute_result",
     "data": {
      "text/plain": [
       "array([[-0.15667422, -0.25297533,  0.98637787, -1.21052519,  0.14008743,\n",
       "        -0.11860376, -0.91613314, -0.61867318],\n",
       "       [ 0.73528088, -0.25072136,  0.16496544, -0.41116262,  0.04991798,\n",
       "         0.59548345,  1.32029836,  0.41075051],\n",
       "       [ 0.00702077, -0.07326416,  0.49420698, -0.87416648,  0.31782938,\n",
       "        -0.09941821, -0.65518017, -0.51859639],\n",
       "       [-0.10351433,  0.06706468, -0.1235106 , -0.55129654,  0.00498165,\n",
       "         0.32412566,  0.3627955 , -0.57858189]])"
      ]
     },
     "metadata": {},
     "execution_count": 13
    }
   ],
   "source": [
    "new_v"
   ]
  },
  {
   "cell_type": "code",
   "execution_count": 14,
   "metadata": {},
   "outputs": [
    {
     "output_type": "execute_result",
     "data": {
      "text/plain": [
       "array([[-0.15667422, -0.25297533,  0.98637787, -1.21052519,  0.14008743,\n",
       "        -0.11860376, -0.91613314, -0.61867318],\n",
       "       [ 1.27346853, -0.24936136, -0.33065819,  0.07115656, -0.00448843,\n",
       "         1.02634922,  2.66971584,  1.03188392],\n",
       "       [ 0.47777995,  1.01735913, -2.01384385,  0.70010098,  1.45077047,\n",
       "        -0.40224903, -0.38312031, -0.51512854],\n",
       "       [-1.17706872,  0.32181194, -0.73021792, -0.57277547, -0.77283754,\n",
       "         0.77115794,  0.91126906, -1.60940595]])"
      ]
     },
     "metadata": {},
     "execution_count": 14
    }
   ],
   "source": [
    "v"
   ]
  },
  {
   "cell_type": "code",
   "execution_count": 15,
   "metadata": {},
   "outputs": [],
   "source": [
    "def scaled_dot_product_attention(q, k, v, mask=None):\n",
    "    d_k = q.shape[-1]\n",
    "    scaled = np.matmul(q, k.T) / math.sqrt(d_k)\n",
    "    if mask is not None:\n",
    "        scaled = scaled + mask\n",
    "    attention = softmax(scaled)\n",
    "    out = np.matmul(attention, v)\n",
    "    return out, attention"
   ]
  },
  {
   "cell_type": "code",
   "execution_count": 16,
   "metadata": {},
   "outputs": [
    {
     "output_type": "stream",
     "name": "stdout",
     "text": [
      "Q\n [[ 0.42639545 -0.14750816  1.20058398 -0.23310401  1.70336859 -0.00644859\n  -1.94201439  0.62941988]\n [-0.23197754 -0.93558371  1.24550005  0.63333462 -0.39052655 -0.43716867\n   1.27518761 -0.62483366]\n [ 0.28885182  1.14288872 -1.41678133  1.1968535  -1.64383917 -0.75516231\n  -0.31334341 -1.10483139]\n [-1.98028379 -0.77179123  0.59467089  0.15253073  0.85177876  0.50856472\n   0.16502912  0.37288479]]\nK\n [[-0.67472111  1.00395964  0.07499845  3.14504906  0.78688452 -0.19955353\n   0.80037524  0.05360393]\n [ 1.5169396  -0.7661733   1.52156611  0.05756113  1.59052869 -0.0648331\n   1.04913153 -0.73139845]\n [ 1.65246361 -0.08914699 -0.10161615  0.21183951  1.33964287  1.54543946\n  -0.07892107 -0.72544209]\n [ 0.01854859 -0.99078158  0.57808644  0.93955904  0.20507054 -1.00794267\n   1.39476614 -0.53686085]]\nV\n [[-0.15667422 -0.25297533  0.98637787 -1.21052519  0.14008743 -0.11860376\n  -0.91613314 -0.61867318]\n [ 1.27346853 -0.24936136 -0.33065819  0.07115656 -0.00448843  1.02634922\n   2.66971584  1.03188392]\n [ 0.47777995  1.01735913 -2.01384385  0.70010098  1.45077047 -0.40224903\n  -0.38312031 -0.51512854]\n [-1.17706872  0.32181194 -0.73021792 -0.57277547 -0.77283754  0.77115794\n   0.91126906 -1.60940595]]\nNew V\n [[ 0.62616504  0.28891174 -0.88314537  0.13501722  0.51894513  0.33123474\n   0.97326475  0.05388696]\n [-0.16086511  0.08692009 -0.37437162 -0.4209243  -0.24761654  0.61833479\n   1.03264652 -0.57398671]\n [-0.22417358  0.00387474  0.25513711 -0.81531966  0.10487586  0.07056243\n  -0.3493298  -0.73157777]\n [-0.10351433  0.06706468 -0.1235106  -0.55129654  0.00498165  0.32412566\n   0.3627955  -0.57858189]]\nAttention\n [[0.102833   0.42944289 0.3903304  0.07739372]\n [0.18101025 0.29999391 0.05822617 0.46076967]\n [0.64936265 0.04165918 0.11372743 0.19525074]\n [0.39879869 0.19093089 0.12009506 0.29017536]]\n"
     ]
    }
   ],
   "source": [
    "values, attention = scaled_dot_product_attention(q, k, v, mask=None)\n",
    "print(\"Q\\n\", q)\n",
    "print(\"K\\n\", k)\n",
    "print(\"V\\n\", v)\n",
    "print(\"New V\\n\", values)\n",
    "print(\"Attention\\n\", attention)"
   ]
  },
  {
   "cell_type": "code",
   "execution_count": 19,
   "metadata": {},
   "outputs": [
    {
     "output_type": "stream",
     "name": "stdout",
     "text": [
      "Q\n [[ 0.42639545 -0.14750816  1.20058398 -0.23310401  1.70336859 -0.00644859\n  -1.94201439  0.62941988]\n [-0.23197754 -0.93558371  1.24550005  0.63333462 -0.39052655 -0.43716867\n   1.27518761 -0.62483366]\n [ 0.28885182  1.14288872 -1.41678133  1.1968535  -1.64383917 -0.75516231\n  -0.31334341 -1.10483139]\n [-1.98028379 -0.77179123  0.59467089  0.15253073  0.85177876  0.50856472\n   0.16502912  0.37288479]]\nK\n [[-0.67472111  1.00395964  0.07499845  3.14504906  0.78688452 -0.19955353\n   0.80037524  0.05360393]\n [ 1.5169396  -0.7661733   1.52156611  0.05756113  1.59052869 -0.0648331\n   1.04913153 -0.73139845]\n [ 1.65246361 -0.08914699 -0.10161615  0.21183951  1.33964287  1.54543946\n  -0.07892107 -0.72544209]\n [ 0.01854859 -0.99078158  0.57808644  0.93955904  0.20507054 -1.00794267\n   1.39476614 -0.53686085]]\nV\n [[-0.15667422 -0.25297533  0.98637787 -1.21052519  0.14008743 -0.11860376\n  -0.91613314 -0.61867318]\n [ 1.27346853 -0.24936136 -0.33065819  0.07115656 -0.00448843  1.02634922\n   2.66971584  1.03188392]\n [ 0.47777995  1.01735913 -2.01384385  0.70010098  1.45077047 -0.40224903\n  -0.38312031 -0.51512854]\n [-1.17706872  0.32181194 -0.73021792 -0.57277547 -0.77283754  0.77115794\n   0.91126906 -1.60940595]]\nNew V\n [[-0.15667422 -0.25297533  0.98637787 -1.21052519  0.14008743 -0.11860376\n  -0.91613314 -0.61867318]\n [ 0.73528088 -0.25072136  0.16496544 -0.41116262  0.04991798  0.59548345\n   1.32029836  0.41075051]\n [ 0.00702077 -0.07326416  0.49420698 -0.87416648  0.31782938 -0.09941821\n  -0.65518017 -0.51859639]\n [-0.10351433  0.06706468 -0.1235106  -0.55129654  0.00498165  0.32412566\n   0.3627955  -0.57858189]]\nAttention\n [[1.         0.         0.         0.        ]\n [0.37631743 0.62368257 0.         0.        ]\n [0.80691301 0.05176666 0.14132033 0.        ]\n [0.39879869 0.19093089 0.12009506 0.29017536]]\n"
     ]
    }
   ],
   "source": [
    "values, attention = scaled_dot_product_attention(q, k, v, mask=mask)\n",
    "print(\"Q\\n\", q)\n",
    "print(\"K\\n\", k)\n",
    "print(\"V\\n\", v)\n",
    "print(\"New V\\n\", values)\n",
    "print(\"Attention\\n\", attention)"
   ]
  },
  {
   "source": [
    "# Multihead attention"
   ],
   "cell_type": "markdown",
   "metadata": {}
  },
  {
   "cell_type": "code",
   "execution_count": 33,
   "metadata": {},
   "outputs": [],
   "source": [
    "import numpy as np\n",
    "import torch\n",
    "import torch.nn as nn\n",
    "import torch.nn.functional as F"
   ]
  },
  {
   "cell_type": "code",
   "execution_count": 34,
   "metadata": {},
   "outputs": [],
   "source": [
    "sequence_length = 4\n",
    "batch_size = 1\n",
    "input_dim = 512\n",
    "d_model = 512\n",
    "x = torch.randn( (batch_size, sequence_length, input_dim))"
   ]
  },
  {
   "cell_type": "code",
   "execution_count": 35,
   "metadata": {},
   "outputs": [
    {
     "output_type": "execute_result",
     "data": {
      "text/plain": [
       "torch.Size([1, 4, 512])"
      ]
     },
     "metadata": {},
     "execution_count": 35
    }
   ],
   "source": [
    "x.size()"
   ]
  },
  {
   "cell_type": "code",
   "execution_count": 36,
   "metadata": {},
   "outputs": [],
   "source": [
    "qkv_layer = nn.Linear(input_dim, 3*d_model)"
   ]
  },
  {
   "cell_type": "code",
   "execution_count": 37,
   "metadata": {},
   "outputs": [],
   "source": [
    "qkv = qkv_layer(x)"
   ]
  },
  {
   "cell_type": "code",
   "execution_count": 38,
   "metadata": {},
   "outputs": [
    {
     "output_type": "execute_result",
     "data": {
      "text/plain": [
       "torch.Size([1, 4, 1536])"
      ]
     },
     "metadata": {},
     "execution_count": 38
    }
   ],
   "source": [
    "qkv.size()"
   ]
  },
  {
   "cell_type": "code",
   "execution_count": 39,
   "metadata": {},
   "outputs": [
    {
     "output_type": "execute_result",
     "data": {
      "text/plain": [
       "Text(0.5, 1.0, 'qkv distribution')"
      ]
     },
     "metadata": {},
     "execution_count": 39
    },
    {
     "output_type": "display_data",
     "data": {
      "text/plain": "<Figure size 640x480 with 1 Axes>",
      "image/svg+xml": "<?xml version=\"1.0\" encoding=\"utf-8\" standalone=\"no\"?>\n<!DOCTYPE svg PUBLIC \"-//W3C//DTD SVG 1.1//EN\"\n  \"http://www.w3.org/Graphics/SVG/1.1/DTD/svg11.dtd\">\n<svg xmlns:xlink=\"http://www.w3.org/1999/xlink\" width=\"397.6075pt\" height=\"312.30825pt\" viewBox=\"0 0 397.6075 312.30825\" xmlns=\"http://www.w3.org/2000/svg\" version=\"1.1\">\n <metadata>\n  <rdf:RDF xmlns:dc=\"http://purl.org/dc/elements/1.1/\" xmlns:cc=\"http://creativecommons.org/ns#\" xmlns:rdf=\"http://www.w3.org/1999/02/22-rdf-syntax-ns#\">\n   <cc:Work>\n    <dc:type rdf:resource=\"http://purl.org/dc/dcmitype/StillImage\"/>\n    <dc:date>2023-10-31T10:14:32.876805</dc:date>\n    <dc:format>image/svg+xml</dc:format>\n    <dc:creator>\n     <cc:Agent>\n      <dc:title>Matplotlib v3.6.2, https://matplotlib.org/</dc:title>\n     </cc:Agent>\n    </dc:creator>\n   </cc:Work>\n  </rdf:RDF>\n </metadata>\n <defs>\n  <style type=\"text/css\">*{stroke-linejoin: round; stroke-linecap: butt}</style>\n </defs>\n <g id=\"figure_1\">\n  <g id=\"patch_1\">\n   <path d=\"M 0 312.30825 \nL 397.6075 312.30825 \nL 397.6075 0 \nL 0 0 \nz\n\" style=\"fill: #ffffff\"/>\n  </g>\n  <g id=\"axes_1\">\n   <g id=\"patch_2\">\n    <path d=\"M 33.2875 288.430125 \nL 390.4075 288.430125 \nL 390.4075 22.318125 \nL 33.2875 22.318125 \nz\n\" style=\"fill: #ffffff\"/>\n   </g>\n   <g id=\"patch_3\">\n    <path d=\"M 49.520227 288.430125 \nL 87.884132 288.430125 \nL 87.884132 288.430125 \nL 49.520227 288.430125 \nz\n\" clip-path=\"url(#p4ff8267eb9)\" style=\"fill: #228b22\"/>\n   </g>\n   <g id=\"patch_4\">\n    <path d=\"M 50.958874 288.430125 \nL 89.322779 288.430125 \nL 89.322779 288.430125 \nL 50.958874 288.430125 \nz\n\" clip-path=\"url(#p4ff8267eb9)\" style=\"fill: #228b22\"/>\n   </g>\n   <g id=\"patch_5\">\n    <path d=\"M 52.39752 288.430125 \nL 90.761425 288.430125 \nL 90.761425 288.430125 \nL 52.39752 288.430125 \nz\n\" clip-path=\"url(#p4ff8267eb9)\" style=\"fill: #228b22\"/>\n   </g>\n   <g id=\"patch_6\">\n    <path d=\"M 53.836167 288.430125 \nL 92.200072 288.430125 \nL 92.200072 288.430125 \nL 53.836167 288.430125 \nz\n\" clip-path=\"url(#p4ff8267eb9)\" style=\"fill: #228b22\"/>\n   </g>\n   <g id=\"patch_7\">\n    <path d=\"M 55.274813 288.430125 \nL 93.638718 288.430125 \nL 93.638718 288.430125 \nL 55.274813 288.430125 \nz\n\" clip-path=\"url(#p4ff8267eb9)\" style=\"fill: #228b22\"/>\n   </g>\n   <g id=\"patch_8\">\n    <path d=\"M 56.713459 288.430125 \nL 95.077364 288.430125 \nL 95.077364 288.430125 \nL 56.713459 288.430125 \nz\n\" clip-path=\"url(#p4ff8267eb9)\" style=\"fill: #228b22\"/>\n   </g>\n   <g id=\"patch_9\">\n    <path d=\"M 58.152106 288.430125 \nL 96.516011 288.430125 \nL 96.516011 288.430125 \nL 58.152106 288.430125 \nz\n\" clip-path=\"url(#p4ff8267eb9)\" style=\"fill: #228b22\"/>\n   </g>\n   <g id=\"patch_10\">\n    <path d=\"M 59.590752 288.430125 \nL 97.954657 288.430125 \nL 97.954657 288.430125 \nL 59.590752 288.430125 \nz\n\" clip-path=\"url(#p4ff8267eb9)\" style=\"fill: #228b22\"/>\n   </g>\n   <g id=\"patch_11\">\n    <path d=\"M 61.029399 288.430125 \nL 99.393304 288.430125 \nL 99.393304 288.430125 \nL 61.029399 288.430125 \nz\n\" clip-path=\"url(#p4ff8267eb9)\" style=\"fill: #228b22\"/>\n   </g>\n   <g id=\"patch_12\">\n    <path d=\"M 62.468045 288.430125 \nL 100.83195 288.430125 \nL 100.83195 288.430125 \nL 62.468045 288.430125 \nz\n\" clip-path=\"url(#p4ff8267eb9)\" style=\"fill: #228b22\"/>\n   </g>\n   <g id=\"patch_13\">\n    <path d=\"M 63.906692 288.430125 \nL 102.270597 288.430125 \nL 102.270597 288.430125 \nL 63.906692 288.430125 \nz\n\" clip-path=\"url(#p4ff8267eb9)\" style=\"fill: #228b22\"/>\n   </g>\n   <g id=\"patch_14\">\n    <path d=\"M 65.345338 288.430125 \nL 103.709243 288.430125 \nL 103.709243 288.430125 \nL 65.345338 288.430125 \nz\n\" clip-path=\"url(#p4ff8267eb9)\" style=\"fill: #228b22\"/>\n   </g>\n   <g id=\"patch_15\">\n    <path d=\"M 66.783984 288.430125 \nL 105.147889 288.430125 \nL 105.147889 288.430125 \nL 66.783984 288.430125 \nz\n\" clip-path=\"url(#p4ff8267eb9)\" style=\"fill: #228b22\"/>\n   </g>\n   <g id=\"patch_16\">\n    <path d=\"M 68.222631 288.430125 \nL 106.586536 288.430125 \nL 106.586536 288.430125 \nL 68.222631 288.430125 \nz\n\" clip-path=\"url(#p4ff8267eb9)\" style=\"fill: #228b22\"/>\n   </g>\n   <g id=\"patch_17\">\n    <path d=\"M 69.661277 288.430125 \nL 108.025182 288.430125 \nL 108.025182 288.430125 \nL 69.661277 288.430125 \nz\n\" clip-path=\"url(#p4ff8267eb9)\" style=\"fill: #228b22\"/>\n   </g>\n   <g id=\"patch_18\">\n    <path d=\"M 71.099924 288.430125 \nL 109.463829 288.430125 \nL 109.463829 288.430125 \nL 71.099924 288.430125 \nz\n\" clip-path=\"url(#p4ff8267eb9)\" style=\"fill: #228b22\"/>\n   </g>\n   <g id=\"patch_19\">\n    <path d=\"M 72.53857 288.430125 \nL 110.902475 288.430125 \nL 110.902475 288.430125 \nL 72.53857 288.430125 \nz\n\" clip-path=\"url(#p4ff8267eb9)\" style=\"fill: #228b22\"/>\n   </g>\n   <g id=\"patch_20\">\n    <path d=\"M 73.977217 288.430125 \nL 112.341122 288.430125 \nL 112.341122 288.430125 \nL 73.977217 288.430125 \nz\n\" clip-path=\"url(#p4ff8267eb9)\" style=\"fill: #228b22\"/>\n   </g>\n   <g id=\"patch_21\">\n    <path d=\"M 75.415863 288.430125 \nL 113.779768 288.430125 \nL 113.779768 288.430125 \nL 75.415863 288.430125 \nz\n\" clip-path=\"url(#p4ff8267eb9)\" style=\"fill: #228b22\"/>\n   </g>\n   <g id=\"patch_22\">\n    <path d=\"M 76.85451 288.430125 \nL 115.218414 288.430125 \nL 115.218414 288.430125 \nL 76.85451 288.430125 \nz\n\" clip-path=\"url(#p4ff8267eb9)\" style=\"fill: #228b22\"/>\n   </g>\n   <g id=\"patch_23\">\n    <path d=\"M 78.293156 288.430125 \nL 116.657061 288.430125 \nL 116.657061 288.430125 \nL 78.293156 288.430125 \nz\n\" clip-path=\"url(#p4ff8267eb9)\" style=\"fill: #228b22\"/>\n   </g>\n   <g id=\"patch_24\">\n    <path d=\"M 79.731802 288.430125 \nL 118.095707 288.430125 \nL 118.095707 288.430125 \nL 79.731802 288.430125 \nz\n\" clip-path=\"url(#p4ff8267eb9)\" style=\"fill: #228b22\"/>\n   </g>\n   <g id=\"patch_25\">\n    <path d=\"M 81.170449 288.430125 \nL 119.534354 288.430125 \nL 119.534354 288.430125 \nL 81.170449 288.430125 \nz\n\" clip-path=\"url(#p4ff8267eb9)\" style=\"fill: #228b22\"/>\n   </g>\n   <g id=\"patch_26\">\n    <path d=\"M 82.609095 288.430125 \nL 120.973 288.430125 \nL 120.973 288.430125 \nL 82.609095 288.430125 \nz\n\" clip-path=\"url(#p4ff8267eb9)\" style=\"fill: #228b22\"/>\n   </g>\n   <g id=\"patch_27\">\n    <path d=\"M 84.047742 288.430125 \nL 122.411647 288.430125 \nL 122.411647 288.430125 \nL 84.047742 288.430125 \nz\n\" clip-path=\"url(#p4ff8267eb9)\" style=\"fill: #228b22\"/>\n   </g>\n   <g id=\"patch_28\">\n    <path d=\"M 85.486388 288.430125 \nL 123.850293 288.430125 \nL 123.850293 288.430125 \nL 85.486388 288.430125 \nz\n\" clip-path=\"url(#p4ff8267eb9)\" style=\"fill: #228b22\"/>\n   </g>\n   <g id=\"patch_29\">\n    <path d=\"M 86.925035 288.430125 \nL 125.28894 288.430125 \nL 125.28894 288.430125 \nL 86.925035 288.430125 \nz\n\" clip-path=\"url(#p4ff8267eb9)\" style=\"fill: #228b22\"/>\n   </g>\n   <g id=\"patch_30\">\n    <path d=\"M 88.363681 288.430125 \nL 126.727586 288.430125 \nL 126.727586 288.430125 \nL 88.363681 288.430125 \nz\n\" clip-path=\"url(#p4ff8267eb9)\" style=\"fill: #228b22\"/>\n   </g>\n   <g id=\"patch_31\">\n    <path d=\"M 89.802327 288.430125 \nL 128.166232 288.430125 \nL 128.166232 288.430125 \nL 89.802327 288.430125 \nz\n\" clip-path=\"url(#p4ff8267eb9)\" style=\"fill: #228b22\"/>\n   </g>\n   <g id=\"patch_32\">\n    <path d=\"M 91.240974 288.430125 \nL 129.604879 288.430125 \nL 129.604879 288.430125 \nL 91.240974 288.430125 \nz\n\" clip-path=\"url(#p4ff8267eb9)\" style=\"fill: #228b22\"/>\n   </g>\n   <g id=\"patch_33\">\n    <path d=\"M 92.67962 288.430125 \nL 131.043525 288.430125 \nL 131.043525 288.430125 \nL 92.67962 288.430125 \nz\n\" clip-path=\"url(#p4ff8267eb9)\" style=\"fill: #228b22\"/>\n   </g>\n   <g id=\"patch_34\">\n    <path d=\"M 94.118267 288.430125 \nL 132.482172 288.430125 \nL 132.482172 288.430125 \nL 94.118267 288.430125 \nz\n\" clip-path=\"url(#p4ff8267eb9)\" style=\"fill: #228b22\"/>\n   </g>\n   <g id=\"patch_35\">\n    <path d=\"M 95.556913 288.430125 \nL 133.920818 288.430125 \nL 133.920818 288.430125 \nL 95.556913 288.430125 \nz\n\" clip-path=\"url(#p4ff8267eb9)\" style=\"fill: #228b22\"/>\n   </g>\n   <g id=\"patch_36\">\n    <path d=\"M 96.99556 288.430125 \nL 135.359465 288.430125 \nL 135.359465 288.430125 \nL 96.99556 288.430125 \nz\n\" clip-path=\"url(#p4ff8267eb9)\" style=\"fill: #228b22\"/>\n   </g>\n   <g id=\"patch_37\">\n    <path d=\"M 98.434206 288.430125 \nL 136.798111 288.430125 \nL 136.798111 285.050925 \nL 98.434206 285.050925 \nz\n\" clip-path=\"url(#p4ff8267eb9)\" style=\"fill: #228b22\"/>\n   </g>\n   <g id=\"patch_38\">\n    <path d=\"M 99.872852 288.430125 \nL 138.236757 288.430125 \nL 138.236757 286.740525 \nL 99.872852 286.740525 \nz\n\" clip-path=\"url(#p4ff8267eb9)\" style=\"fill: #228b22\"/>\n   </g>\n   <g id=\"patch_39\">\n    <path d=\"M 101.311499 288.430125 \nL 139.675404 288.430125 \nL 139.675404 288.430125 \nL 101.311499 288.430125 \nz\n\" clip-path=\"url(#p4ff8267eb9)\" style=\"fill: #228b22\"/>\n   </g>\n   <g id=\"patch_40\">\n    <path d=\"M 102.750145 288.430125 \nL 141.11405 288.430125 \nL 141.11405 288.430125 \nL 102.750145 288.430125 \nz\n\" clip-path=\"url(#p4ff8267eb9)\" style=\"fill: #228b22\"/>\n   </g>\n   <g id=\"patch_41\">\n    <path d=\"M 104.188792 288.430125 \nL 142.552697 288.430125 \nL 142.552697 286.740525 \nL 104.188792 286.740525 \nz\n\" clip-path=\"url(#p4ff8267eb9)\" style=\"fill: #228b22\"/>\n   </g>\n   <g id=\"patch_42\">\n    <path d=\"M 105.627438 288.430125 \nL 143.991343 288.430125 \nL 143.991343 288.430125 \nL 105.627438 288.430125 \nz\n\" clip-path=\"url(#p4ff8267eb9)\" style=\"fill: #228b22\"/>\n   </g>\n   <g id=\"patch_43\">\n    <path d=\"M 107.066085 288.430125 \nL 145.42999 288.430125 \nL 145.42999 286.740525 \nL 107.066085 286.740525 \nz\n\" clip-path=\"url(#p4ff8267eb9)\" style=\"fill: #228b22\"/>\n   </g>\n   <g id=\"patch_44\">\n    <path d=\"M 108.504731 288.430125 \nL 146.868636 288.430125 \nL 146.868636 283.361325 \nL 108.504731 283.361325 \nz\n\" clip-path=\"url(#p4ff8267eb9)\" style=\"fill: #228b22\"/>\n   </g>\n   <g id=\"patch_45\">\n    <path d=\"M 109.943378 288.430125 \nL 148.307282 288.430125 \nL 148.307282 279.982125 \nL 109.943378 279.982125 \nz\n\" clip-path=\"url(#p4ff8267eb9)\" style=\"fill: #228b22\"/>\n   </g>\n   <g id=\"patch_46\">\n    <path d=\"M 111.382024 288.430125 \nL 149.745929 288.430125 \nL 149.745929 285.050925 \nL 111.382024 285.050925 \nz\n\" clip-path=\"url(#p4ff8267eb9)\" style=\"fill: #228b22\"/>\n   </g>\n   <g id=\"patch_47\">\n    <path d=\"M 112.82067 288.430125 \nL 151.184575 288.430125 \nL 151.184575 286.740525 \nL 112.82067 286.740525 \nz\n\" clip-path=\"url(#p4ff8267eb9)\" style=\"fill: #228b22\"/>\n   </g>\n   <g id=\"patch_48\">\n    <path d=\"M 114.259317 288.430125 \nL 152.623222 288.430125 \nL 152.623222 286.740525 \nL 114.259317 286.740525 \nz\n\" clip-path=\"url(#p4ff8267eb9)\" style=\"fill: #228b22\"/>\n   </g>\n   <g id=\"patch_49\">\n    <path d=\"M 115.697963 288.430125 \nL 154.061868 288.430125 \nL 154.061868 285.050925 \nL 115.697963 285.050925 \nz\n\" clip-path=\"url(#p4ff8267eb9)\" style=\"fill: #228b22\"/>\n   </g>\n   <g id=\"patch_50\">\n    <path d=\"M 117.13661 288.430125 \nL 155.500515 288.430125 \nL 155.500515 285.050925 \nL 117.13661 285.050925 \nz\n\" clip-path=\"url(#p4ff8267eb9)\" style=\"fill: #228b22\"/>\n   </g>\n   <g id=\"patch_51\">\n    <path d=\"M 118.575256 288.430125 \nL 156.939161 288.430125 \nL 156.939161 283.361325 \nL 118.575256 283.361325 \nz\n\" clip-path=\"url(#p4ff8267eb9)\" style=\"fill: #228b22\"/>\n   </g>\n   <g id=\"patch_52\">\n    <path d=\"M 120.013903 288.430125 \nL 158.377808 288.430125 \nL 158.377808 278.292525 \nL 120.013903 278.292525 \nz\n\" clip-path=\"url(#p4ff8267eb9)\" style=\"fill: #228b22\"/>\n   </g>\n   <g id=\"patch_53\">\n    <path d=\"M 121.452549 288.430125 \nL 159.816454 288.430125 \nL 159.816454 278.292525 \nL 121.452549 278.292525 \nz\n\" clip-path=\"url(#p4ff8267eb9)\" style=\"fill: #228b22\"/>\n   </g>\n   <g id=\"patch_54\">\n    <path d=\"M 122.891195 288.430125 \nL 161.2551 288.430125 \nL 161.2551 278.292525 \nL 122.891195 278.292525 \nz\n\" clip-path=\"url(#p4ff8267eb9)\" style=\"fill: #228b22\"/>\n   </g>\n   <g id=\"patch_55\">\n    <path d=\"M 124.329842 288.430125 \nL 162.693747 288.430125 \nL 162.693747 276.602925 \nL 124.329842 276.602925 \nz\n\" clip-path=\"url(#p4ff8267eb9)\" style=\"fill: #228b22\"/>\n   </g>\n   <g id=\"patch_56\">\n    <path d=\"M 125.768488 288.430125 \nL 164.132393 288.430125 \nL 164.132393 276.602925 \nL 125.768488 276.602925 \nz\n\" clip-path=\"url(#p4ff8267eb9)\" style=\"fill: #228b22\"/>\n   </g>\n   <g id=\"patch_57\">\n    <path d=\"M 127.207135 288.430125 \nL 165.57104 288.430125 \nL 165.57104 274.913325 \nL 127.207135 274.913325 \nz\n\" clip-path=\"url(#p4ff8267eb9)\" style=\"fill: #228b22\"/>\n   </g>\n   <g id=\"patch_58\">\n    <path d=\"M 128.645781 288.430125 \nL 167.009686 288.430125 \nL 167.009686 274.913325 \nL 128.645781 274.913325 \nz\n\" clip-path=\"url(#p4ff8267eb9)\" style=\"fill: #228b22\"/>\n   </g>\n   <g id=\"patch_59\">\n    <path d=\"M 130.084428 288.430125 \nL 168.448333 288.430125 \nL 168.448333 268.154925 \nL 130.084428 268.154925 \nz\n\" clip-path=\"url(#p4ff8267eb9)\" style=\"fill: #228b22\"/>\n   </g>\n   <g id=\"patch_60\">\n    <path d=\"M 131.523074 288.430125 \nL 169.886979 288.430125 \nL 169.886979 274.913325 \nL 131.523074 274.913325 \nz\n\" clip-path=\"url(#p4ff8267eb9)\" style=\"fill: #228b22\"/>\n   </g>\n   <g id=\"patch_61\">\n    <path d=\"M 132.96172 288.430125 \nL 171.325625 288.430125 \nL 171.325625 261.396525 \nL 132.96172 261.396525 \nz\n\" clip-path=\"url(#p4ff8267eb9)\" style=\"fill: #228b22\"/>\n   </g>\n   <g id=\"patch_62\">\n    <path d=\"M 134.400367 288.430125 \nL 172.764272 288.430125 \nL 172.764272 264.775725 \nL 134.400367 264.775725 \nz\n\" clip-path=\"url(#p4ff8267eb9)\" style=\"fill: #228b22\"/>\n   </g>\n   <g id=\"patch_63\">\n    <path d=\"M 135.839013 288.430125 \nL 174.202918 288.430125 \nL 174.202918 264.775725 \nL 135.839013 264.775725 \nz\n\" clip-path=\"url(#p4ff8267eb9)\" style=\"fill: #228b22\"/>\n   </g>\n   <g id=\"patch_64\">\n    <path d=\"M 137.27766 288.430125 \nL 175.641565 288.430125 \nL 175.641565 259.706925 \nL 137.27766 259.706925 \nz\n\" clip-path=\"url(#p4ff8267eb9)\" style=\"fill: #228b22\"/>\n   </g>\n   <g id=\"patch_65\">\n    <path d=\"M 138.716306 288.430125 \nL 177.080211 288.430125 \nL 177.080211 258.017325 \nL 138.716306 258.017325 \nz\n\" clip-path=\"url(#p4ff8267eb9)\" style=\"fill: #228b22\"/>\n   </g>\n   <g id=\"patch_66\">\n    <path d=\"M 140.154953 288.430125 \nL 178.518858 288.430125 \nL 178.518858 244.500525 \nL 140.154953 244.500525 \nz\n\" clip-path=\"url(#p4ff8267eb9)\" style=\"fill: #228b22\"/>\n   </g>\n   <g id=\"patch_67\">\n    <path d=\"M 141.593599 288.430125 \nL 179.957504 288.430125 \nL 179.957504 259.706925 \nL 141.593599 259.706925 \nz\n\" clip-path=\"url(#p4ff8267eb9)\" style=\"fill: #228b22\"/>\n   </g>\n   <g id=\"patch_68\">\n    <path d=\"M 143.032246 288.430125 \nL 181.39615 288.430125 \nL 181.39615 230.983725 \nL 143.032246 230.983725 \nz\n\" clip-path=\"url(#p4ff8267eb9)\" style=\"fill: #228b22\"/>\n   </g>\n   <g id=\"patch_69\">\n    <path d=\"M 144.470892 288.430125 \nL 182.834797 288.430125 \nL 182.834797 242.810925 \nL 144.470892 242.810925 \nz\n\" clip-path=\"url(#p4ff8267eb9)\" style=\"fill: #228b22\"/>\n   </g>\n   <g id=\"patch_70\">\n    <path d=\"M 145.909538 288.430125 \nL 184.273443 288.430125 \nL 184.273443 247.879725 \nL 145.909538 247.879725 \nz\n\" clip-path=\"url(#p4ff8267eb9)\" style=\"fill: #228b22\"/>\n   </g>\n   <g id=\"patch_71\">\n    <path d=\"M 147.348185 288.430125 \nL 185.71209 288.430125 \nL 185.71209 227.604525 \nL 147.348185 227.604525 \nz\n\" clip-path=\"url(#p4ff8267eb9)\" style=\"fill: #228b22\"/>\n   </g>\n   <g id=\"patch_72\">\n    <path d=\"M 148.786831 288.430125 \nL 187.150736 288.430125 \nL 187.150736 222.535725 \nL 148.786831 222.535725 \nz\n\" clip-path=\"url(#p4ff8267eb9)\" style=\"fill: #228b22\"/>\n   </g>\n   <g id=\"patch_73\">\n    <path d=\"M 150.225478 288.430125 \nL 188.589383 288.430125 \nL 188.589383 232.673325 \nL 150.225478 232.673325 \nz\n\" clip-path=\"url(#p4ff8267eb9)\" style=\"fill: #228b22\"/>\n   </g>\n   <g id=\"patch_74\">\n    <path d=\"M 151.664124 288.430125 \nL 190.028029 288.430125 \nL 190.028029 212.398125 \nL 151.664124 212.398125 \nz\n\" clip-path=\"url(#p4ff8267eb9)\" style=\"fill: #228b22\"/>\n   </g>\n   <g id=\"patch_75\">\n    <path d=\"M 153.102771 288.430125 \nL 191.466676 288.430125 \nL 191.466676 203.950125 \nL 153.102771 203.950125 \nz\n\" clip-path=\"url(#p4ff8267eb9)\" style=\"fill: #228b22\"/>\n   </g>\n   <g id=\"patch_76\">\n    <path d=\"M 154.541417 288.430125 \nL 192.905322 288.430125 \nL 192.905322 198.881325 \nL 154.541417 198.881325 \nz\n\" clip-path=\"url(#p4ff8267eb9)\" style=\"fill: #228b22\"/>\n   </g>\n   <g id=\"patch_77\">\n    <path d=\"M 155.980063 288.430125 \nL 194.343968 288.430125 \nL 194.343968 195.502125 \nL 155.980063 195.502125 \nz\n\" clip-path=\"url(#p4ff8267eb9)\" style=\"fill: #228b22\"/>\n   </g>\n   <g id=\"patch_78\">\n    <path d=\"M 157.41871 288.430125 \nL 195.782615 288.430125 \nL 195.782615 190.433325 \nL 157.41871 190.433325 \nz\n\" clip-path=\"url(#p4ff8267eb9)\" style=\"fill: #228b22\"/>\n   </g>\n   <g id=\"patch_79\">\n    <path d=\"M 158.857356 288.430125 \nL 197.221261 288.430125 \nL 197.221261 176.916525 \nL 158.857356 176.916525 \nz\n\" clip-path=\"url(#p4ff8267eb9)\" style=\"fill: #228b22\"/>\n   </g>\n   <g id=\"patch_80\">\n    <path d=\"M 160.296003 288.430125 \nL 198.659908 288.430125 \nL 198.659908 178.606125 \nL 160.296003 178.606125 \nz\n\" clip-path=\"url(#p4ff8267eb9)\" style=\"fill: #228b22\"/>\n   </g>\n   <g id=\"patch_81\">\n    <path d=\"M 161.734649 288.430125 \nL 200.098554 288.430125 \nL 200.098554 166.778925 \nL 161.734649 166.778925 \nz\n\" clip-path=\"url(#p4ff8267eb9)\" style=\"fill: #228b22\"/>\n   </g>\n   <g id=\"patch_82\">\n    <path d=\"M 163.173296 288.430125 \nL 201.537201 288.430125 \nL 201.537201 190.433325 \nL 163.173296 190.433325 \nz\n\" clip-path=\"url(#p4ff8267eb9)\" style=\"fill: #228b22\"/>\n   </g>\n   <g id=\"patch_83\">\n    <path d=\"M 164.611942 288.430125 \nL 202.975847 288.430125 \nL 202.975847 158.330925 \nL 164.611942 158.330925 \nz\n\" clip-path=\"url(#p4ff8267eb9)\" style=\"fill: #228b22\"/>\n   </g>\n   <g id=\"patch_84\">\n    <path d=\"M 166.050588 288.430125 \nL 204.414493 288.430125 \nL 204.414493 148.193325 \nL 166.050588 148.193325 \nz\n\" clip-path=\"url(#p4ff8267eb9)\" style=\"fill: #228b22\"/>\n   </g>\n   <g id=\"patch_85\">\n    <path d=\"M 167.489235 288.430125 \nL 205.85314 288.430125 \nL 205.85314 153.262125 \nL 167.489235 153.262125 \nz\n\" clip-path=\"url(#p4ff8267eb9)\" style=\"fill: #228b22\"/>\n   </g>\n   <g id=\"patch_86\">\n    <path d=\"M 168.927881 288.430125 \nL 207.291786 288.430125 \nL 207.291786 175.226925 \nL 168.927881 175.226925 \nz\n\" clip-path=\"url(#p4ff8267eb9)\" style=\"fill: #228b22\"/>\n   </g>\n   <g id=\"patch_87\">\n    <path d=\"M 170.366528 288.430125 \nL 208.730433 288.430125 \nL 208.730433 127.918125 \nL 170.366528 127.918125 \nz\n\" clip-path=\"url(#p4ff8267eb9)\" style=\"fill: #228b22\"/>\n   </g>\n   <g id=\"patch_88\">\n    <path d=\"M 171.805174 288.430125 \nL 210.169079 288.430125 \nL 210.169079 114.401325 \nL 171.805174 114.401325 \nz\n\" clip-path=\"url(#p4ff8267eb9)\" style=\"fill: #228b22\"/>\n   </g>\n   <g id=\"patch_89\">\n    <path d=\"M 173.243821 288.430125 \nL 211.607726 288.430125 \nL 211.607726 138.055725 \nL 173.243821 138.055725 \nz\n\" clip-path=\"url(#p4ff8267eb9)\" style=\"fill: #228b22\"/>\n   </g>\n   <g id=\"patch_90\">\n    <path d=\"M 174.682467 288.430125 \nL 213.046372 288.430125 \nL 213.046372 114.401325 \nL 174.682467 114.401325 \nz\n\" clip-path=\"url(#p4ff8267eb9)\" style=\"fill: #228b22\"/>\n   </g>\n   <g id=\"patch_91\">\n    <path d=\"M 176.121114 288.430125 \nL 214.485018 288.430125 \nL 214.485018 60.334125 \nL 176.121114 60.334125 \nz\n\" clip-path=\"url(#p4ff8267eb9)\" style=\"fill: #228b22\"/>\n   </g>\n   <g id=\"patch_92\">\n    <path d=\"M 177.55976 288.430125 \nL 215.923665 288.430125 \nL 215.923665 100.884525 \nL 177.55976 100.884525 \nz\n\" clip-path=\"url(#p4ff8267eb9)\" style=\"fill: #228b22\"/>\n   </g>\n   <g id=\"patch_93\">\n    <path d=\"M 178.998406 288.430125 \nL 217.362311 288.430125 \nL 217.362311 126.228525 \nL 178.998406 126.228525 \nz\n\" clip-path=\"url(#p4ff8267eb9)\" style=\"fill: #228b22\"/>\n   </g>\n   <g id=\"patch_94\">\n    <path d=\"M 180.437053 288.430125 \nL 218.800958 288.430125 \nL 218.800958 62.023725 \nL 180.437053 62.023725 \nz\n\" clip-path=\"url(#p4ff8267eb9)\" style=\"fill: #228b22\"/>\n   </g>\n   <g id=\"patch_95\">\n    <path d=\"M 181.875699 288.430125 \nL 220.239604 288.430125 \nL 220.239604 94.126125 \nL 181.875699 94.126125 \nz\n\" clip-path=\"url(#p4ff8267eb9)\" style=\"fill: #228b22\"/>\n   </g>\n   <g id=\"patch_96\">\n    <path d=\"M 183.314346 288.430125 \nL 221.678251 288.430125 \nL 221.678251 34.990125 \nL 183.314346 34.990125 \nz\n\" clip-path=\"url(#p4ff8267eb9)\" style=\"fill: #228b22\"/>\n   </g>\n   <g id=\"patch_97\">\n    <path d=\"M 184.752992 288.430125 \nL 223.116897 288.430125 \nL 223.116897 111.022125 \nL 184.752992 111.022125 \nz\n\" clip-path=\"url(#p4ff8267eb9)\" style=\"fill: #228b22\"/>\n   </g>\n   <g id=\"patch_98\">\n    <path d=\"M 186.191639 288.430125 \nL 224.555544 288.430125 \nL 224.555544 127.918125 \nL 186.191639 127.918125 \nz\n\" clip-path=\"url(#p4ff8267eb9)\" style=\"fill: #228b22\"/>\n   </g>\n   <g id=\"patch_99\">\n    <path d=\"M 187.630285 288.430125 \nL 225.99419 288.430125 \nL 225.99419 67.092525 \nL 187.630285 67.092525 \nz\n\" clip-path=\"url(#p4ff8267eb9)\" style=\"fill: #228b22\"/>\n   </g>\n   <g id=\"patch_100\">\n    <path d=\"M 189.068931 288.430125 \nL 227.432836 288.430125 \nL 227.432836 82.298925 \nL 189.068931 82.298925 \nz\n\" clip-path=\"url(#p4ff8267eb9)\" style=\"fill: #228b22\"/>\n   </g>\n   <g id=\"patch_101\">\n    <path d=\"M 190.507578 288.430125 \nL 228.871483 288.430125 \nL 228.871483 94.126125 \nL 190.507578 94.126125 \nz\n\" clip-path=\"url(#p4ff8267eb9)\" style=\"fill: #228b22\"/>\n   </g>\n   <g id=\"patch_102\">\n    <path d=\"M 191.946224 288.430125 \nL 230.310129 288.430125 \nL 230.310129 77.230125 \nL 191.946224 77.230125 \nz\n\" clip-path=\"url(#p4ff8267eb9)\" style=\"fill: #228b22\"/>\n   </g>\n   <g id=\"patch_103\">\n    <path d=\"M 193.384871 288.430125 \nL 231.748776 288.430125 \nL 231.748776 63.713325 \nL 193.384871 63.713325 \nz\n\" clip-path=\"url(#p4ff8267eb9)\" style=\"fill: #228b22\"/>\n   </g>\n   <g id=\"patch_104\">\n    <path d=\"M 194.823517 288.430125 \nL 233.187422 288.430125 \nL 233.187422 92.436525 \nL 194.823517 92.436525 \nz\n\" clip-path=\"url(#p4ff8267eb9)\" style=\"fill: #228b22\"/>\n   </g>\n   <g id=\"patch_105\">\n    <path d=\"M 196.262164 288.430125 \nL 234.626069 288.430125 \nL 234.626069 53.575725 \nL 196.262164 53.575725 \nz\n\" clip-path=\"url(#p4ff8267eb9)\" style=\"fill: #228b22\"/>\n   </g>\n   <g id=\"patch_106\">\n    <path d=\"M 197.70081 288.430125 \nL 236.064715 288.430125 \nL 236.064715 119.470125 \nL 197.70081 119.470125 \nz\n\" clip-path=\"url(#p4ff8267eb9)\" style=\"fill: #228b22\"/>\n   </g>\n   <g id=\"patch_107\">\n    <path d=\"M 199.139456 288.430125 \nL 237.503361 288.430125 \nL 237.503361 70.471725 \nL 199.139456 70.471725 \nz\n\" clip-path=\"url(#p4ff8267eb9)\" style=\"fill: #228b22\"/>\n   </g>\n   <g id=\"patch_108\">\n    <path d=\"M 200.578103 288.430125 \nL 238.942008 288.430125 \nL 238.942008 78.919725 \nL 200.578103 78.919725 \nz\n\" clip-path=\"url(#p4ff8267eb9)\" style=\"fill: #228b22\"/>\n   </g>\n   <g id=\"patch_109\">\n    <path d=\"M 202.016749 288.430125 \nL 240.380654 288.430125 \nL 240.380654 111.022125 \nL 202.016749 111.022125 \nz\n\" clip-path=\"url(#p4ff8267eb9)\" style=\"fill: #228b22\"/>\n   </g>\n   <g id=\"patch_110\">\n    <path d=\"M 203.455396 288.430125 \nL 241.819301 288.430125 \nL 241.819301 85.678125 \nL 203.455396 85.678125 \nz\n\" clip-path=\"url(#p4ff8267eb9)\" style=\"fill: #228b22\"/>\n   </g>\n   <g id=\"patch_111\">\n    <path d=\"M 204.894042 288.430125 \nL 243.257947 288.430125 \nL 243.257947 73.850925 \nL 204.894042 73.850925 \nz\n\" clip-path=\"url(#p4ff8267eb9)\" style=\"fill: #228b22\"/>\n   </g>\n   <g id=\"patch_112\">\n    <path d=\"M 206.332689 288.430125 \nL 244.696594 288.430125 \nL 244.696594 117.780525 \nL 206.332689 117.780525 \nz\n\" clip-path=\"url(#p4ff8267eb9)\" style=\"fill: #228b22\"/>\n   </g>\n   <g id=\"patch_113\">\n    <path d=\"M 207.771335 288.430125 \nL 246.13524 288.430125 \nL 246.13524 116.090925 \nL 207.771335 116.090925 \nz\n\" clip-path=\"url(#p4ff8267eb9)\" style=\"fill: #228b22\"/>\n   </g>\n   <g id=\"patch_114\">\n    <path d=\"M 209.209982 288.430125 \nL 247.573886 288.430125 \nL 247.573886 99.194925 \nL 209.209982 99.194925 \nz\n\" clip-path=\"url(#p4ff8267eb9)\" style=\"fill: #228b22\"/>\n   </g>\n   <g id=\"patch_115\">\n    <path d=\"M 210.648628 288.430125 \nL 249.012533 288.430125 \nL 249.012533 117.780525 \nL 210.648628 117.780525 \nz\n\" clip-path=\"url(#p4ff8267eb9)\" style=\"fill: #228b22\"/>\n   </g>\n   <g id=\"patch_116\">\n    <path d=\"M 212.087274 288.430125 \nL 250.451179 288.430125 \nL 250.451179 122.849325 \nL 212.087274 122.849325 \nz\n\" clip-path=\"url(#p4ff8267eb9)\" style=\"fill: #228b22\"/>\n   </g>\n   <g id=\"patch_117\">\n    <path d=\"M 213.525921 288.430125 \nL 251.889826 288.430125 \nL 251.889826 105.953325 \nL 213.525921 105.953325 \nz\n\" clip-path=\"url(#p4ff8267eb9)\" style=\"fill: #228b22\"/>\n   </g>\n   <g id=\"patch_118\">\n    <path d=\"M 214.964567 288.430125 \nL 253.328472 288.430125 \nL 253.328472 138.055725 \nL 214.964567 138.055725 \nz\n\" clip-path=\"url(#p4ff8267eb9)\" style=\"fill: #228b22\"/>\n   </g>\n   <g id=\"patch_119\">\n    <path d=\"M 216.403214 288.430125 \nL 254.767119 288.430125 \nL 254.767119 154.951725 \nL 216.403214 154.951725 \nz\n\" clip-path=\"url(#p4ff8267eb9)\" style=\"fill: #228b22\"/>\n   </g>\n   <g id=\"patch_120\">\n    <path d=\"M 217.84186 288.430125 \nL 256.205765 288.430125 \nL 256.205765 117.780525 \nL 217.84186 117.780525 \nz\n\" clip-path=\"url(#p4ff8267eb9)\" style=\"fill: #228b22\"/>\n   </g>\n   <g id=\"patch_121\">\n    <path d=\"M 219.280507 288.430125 \nL 257.644412 288.430125 \nL 257.644412 153.262125 \nL 219.280507 153.262125 \nz\n\" clip-path=\"url(#p4ff8267eb9)\" style=\"fill: #228b22\"/>\n   </g>\n   <g id=\"patch_122\">\n    <path d=\"M 220.719153 288.430125 \nL 259.083058 288.430125 \nL 259.083058 173.537325 \nL 220.719153 173.537325 \nz\n\" clip-path=\"url(#p4ff8267eb9)\" style=\"fill: #228b22\"/>\n   </g>\n   <g id=\"patch_123\">\n    <path d=\"M 222.157799 288.430125 \nL 260.521704 288.430125 \nL 260.521704 160.020525 \nL 222.157799 160.020525 \nz\n\" clip-path=\"url(#p4ff8267eb9)\" style=\"fill: #228b22\"/>\n   </g>\n   <g id=\"patch_124\">\n    <path d=\"M 223.596446 288.430125 \nL 261.960351 288.430125 \nL 261.960351 170.158125 \nL 223.596446 170.158125 \nz\n\" clip-path=\"url(#p4ff8267eb9)\" style=\"fill: #228b22\"/>\n   </g>\n   <g id=\"patch_125\">\n    <path d=\"M 225.035092 288.430125 \nL 263.398997 288.430125 \nL 263.398997 176.916525 \nL 225.035092 176.916525 \nz\n\" clip-path=\"url(#p4ff8267eb9)\" style=\"fill: #228b22\"/>\n   </g>\n   <g id=\"patch_126\">\n    <path d=\"M 226.473739 288.430125 \nL 264.837644 288.430125 \nL 264.837644 175.226925 \nL 226.473739 175.226925 \nz\n\" clip-path=\"url(#p4ff8267eb9)\" style=\"fill: #228b22\"/>\n   </g>\n   <g id=\"patch_127\">\n    <path d=\"M 227.912385 288.430125 \nL 266.27629 288.430125 \nL 266.27629 197.191725 \nL 227.912385 197.191725 \nz\n\" clip-path=\"url(#p4ff8267eb9)\" style=\"fill: #228b22\"/>\n   </g>\n   <g id=\"patch_128\">\n    <path d=\"M 229.351032 288.430125 \nL 267.714937 288.430125 \nL 267.714937 219.156525 \nL 229.351032 219.156525 \nz\n\" clip-path=\"url(#p4ff8267eb9)\" style=\"fill: #228b22\"/>\n   </g>\n   <g id=\"patch_129\">\n    <path d=\"M 230.789678 288.430125 \nL 269.153583 288.430125 \nL 269.153583 202.260525 \nL 230.789678 202.260525 \nz\n\" clip-path=\"url(#p4ff8267eb9)\" style=\"fill: #228b22\"/>\n   </g>\n   <g id=\"patch_130\">\n    <path d=\"M 232.228324 288.430125 \nL 270.592229 288.430125 \nL 270.592229 193.812525 \nL 232.228324 193.812525 \nz\n\" clip-path=\"url(#p4ff8267eb9)\" style=\"fill: #228b22\"/>\n   </g>\n   <g id=\"patch_131\">\n    <path d=\"M 233.666971 288.430125 \nL 272.030876 288.430125 \nL 272.030876 207.329325 \nL 233.666971 207.329325 \nz\n\" clip-path=\"url(#p4ff8267eb9)\" style=\"fill: #228b22\"/>\n   </g>\n   <g id=\"patch_132\">\n    <path d=\"M 235.105617 288.430125 \nL 273.469522 288.430125 \nL 273.469522 215.777325 \nL 235.105617 215.777325 \nz\n\" clip-path=\"url(#p4ff8267eb9)\" style=\"fill: #228b22\"/>\n   </g>\n   <g id=\"patch_133\">\n    <path d=\"M 236.544264 288.430125 \nL 274.908169 288.430125 \nL 274.908169 222.535725 \nL 236.544264 222.535725 \nz\n\" clip-path=\"url(#p4ff8267eb9)\" style=\"fill: #228b22\"/>\n   </g>\n   <g id=\"patch_134\">\n    <path d=\"M 237.98291 288.430125 \nL 276.346815 288.430125 \nL 276.346815 225.914925 \nL 237.98291 225.914925 \nz\n\" clip-path=\"url(#p4ff8267eb9)\" style=\"fill: #228b22\"/>\n   </g>\n   <g id=\"patch_135\">\n    <path d=\"M 239.421557 288.430125 \nL 277.785462 288.430125 \nL 277.785462 237.742125 \nL 239.421557 237.742125 \nz\n\" clip-path=\"url(#p4ff8267eb9)\" style=\"fill: #228b22\"/>\n   </g>\n   <g id=\"patch_136\">\n    <path d=\"M 240.860203 288.430125 \nL 279.224108 288.430125 \nL 279.224108 244.500525 \nL 240.860203 244.500525 \nz\n\" clip-path=\"url(#p4ff8267eb9)\" style=\"fill: #228b22\"/>\n   </g>\n   <g id=\"patch_137\">\n    <path d=\"M 242.29885 288.430125 \nL 280.662754 288.430125 \nL 280.662754 254.638125 \nL 242.29885 254.638125 \nz\n\" clip-path=\"url(#p4ff8267eb9)\" style=\"fill: #228b22\"/>\n   </g>\n   <g id=\"patch_138\">\n    <path d=\"M 243.737496 288.430125 \nL 282.101401 288.430125 \nL 282.101401 249.569325 \nL 243.737496 249.569325 \nz\n\" clip-path=\"url(#p4ff8267eb9)\" style=\"fill: #228b22\"/>\n   </g>\n   <g id=\"patch_139\">\n    <path d=\"M 245.176142 288.430125 \nL 283.540047 288.430125 \nL 283.540047 261.396525 \nL 245.176142 261.396525 \nz\n\" clip-path=\"url(#p4ff8267eb9)\" style=\"fill: #228b22\"/>\n   </g>\n   <g id=\"patch_140\">\n    <path d=\"M 246.614789 288.430125 \nL 284.978694 288.430125 \nL 284.978694 249.569325 \nL 246.614789 249.569325 \nz\n\" clip-path=\"url(#p4ff8267eb9)\" style=\"fill: #228b22\"/>\n   </g>\n   <g id=\"patch_141\">\n    <path d=\"M 248.053435 288.430125 \nL 286.41734 288.430125 \nL 286.41734 256.327725 \nL 248.053435 256.327725 \nz\n\" clip-path=\"url(#p4ff8267eb9)\" style=\"fill: #228b22\"/>\n   </g>\n   <g id=\"patch_142\">\n    <path d=\"M 249.492082 288.430125 \nL 287.855987 288.430125 \nL 287.855987 261.396525 \nL 249.492082 261.396525 \nz\n\" clip-path=\"url(#p4ff8267eb9)\" style=\"fill: #228b22\"/>\n   </g>\n   <g id=\"patch_143\">\n    <path d=\"M 250.930728 288.430125 \nL 289.294633 288.430125 \nL 289.294633 269.844525 \nL 250.930728 269.844525 \nz\n\" clip-path=\"url(#p4ff8267eb9)\" style=\"fill: #228b22\"/>\n   </g>\n   <g id=\"patch_144\">\n    <path d=\"M 252.369375 288.430125 \nL 290.73328 288.430125 \nL 290.73328 263.086125 \nL 252.369375 263.086125 \nz\n\" clip-path=\"url(#p4ff8267eb9)\" style=\"fill: #228b22\"/>\n   </g>\n   <g id=\"patch_145\">\n    <path d=\"M 253.808021 288.430125 \nL 292.171926 288.430125 \nL 292.171926 268.154925 \nL 253.808021 268.154925 \nz\n\" clip-path=\"url(#p4ff8267eb9)\" style=\"fill: #228b22\"/>\n   </g>\n   <g id=\"patch_146\">\n    <path d=\"M 255.246667 288.430125 \nL 293.610572 288.430125 \nL 293.610572 274.913325 \nL 255.246667 274.913325 \nz\n\" clip-path=\"url(#p4ff8267eb9)\" style=\"fill: #228b22\"/>\n   </g>\n   <g id=\"patch_147\">\n    <path d=\"M 256.685314 288.430125 \nL 295.049219 288.430125 \nL 295.049219 269.844525 \nL 256.685314 269.844525 \nz\n\" clip-path=\"url(#p4ff8267eb9)\" style=\"fill: #228b22\"/>\n   </g>\n   <g id=\"patch_148\">\n    <path d=\"M 258.12396 288.430125 \nL 296.487865 288.430125 \nL 296.487865 268.154925 \nL 258.12396 268.154925 \nz\n\" clip-path=\"url(#p4ff8267eb9)\" style=\"fill: #228b22\"/>\n   </g>\n   <g id=\"patch_149\">\n    <path d=\"M 259.562607 288.430125 \nL 297.926512 288.430125 \nL 297.926512 271.534125 \nL 259.562607 271.534125 \nz\n\" clip-path=\"url(#p4ff8267eb9)\" style=\"fill: #228b22\"/>\n   </g>\n   <g id=\"patch_150\">\n    <path d=\"M 261.001253 288.430125 \nL 299.365158 288.430125 \nL 299.365158 278.292525 \nL 261.001253 278.292525 \nz\n\" clip-path=\"url(#p4ff8267eb9)\" style=\"fill: #228b22\"/>\n   </g>\n   <g id=\"patch_151\">\n    <path d=\"M 262.4399 288.430125 \nL 300.803805 288.430125 \nL 300.803805 274.913325 \nL 262.4399 274.913325 \nz\n\" clip-path=\"url(#p4ff8267eb9)\" style=\"fill: #228b22\"/>\n   </g>\n   <g id=\"patch_152\">\n    <path d=\"M 263.878546 288.430125 \nL 302.242451 288.430125 \nL 302.242451 274.913325 \nL 263.878546 274.913325 \nz\n\" clip-path=\"url(#p4ff8267eb9)\" style=\"fill: #228b22\"/>\n   </g>\n   <g id=\"patch_153\">\n    <path d=\"M 265.317192 288.430125 \nL 303.681097 288.430125 \nL 303.681097 276.602925 \nL 265.317192 276.602925 \nz\n\" clip-path=\"url(#p4ff8267eb9)\" style=\"fill: #228b22\"/>\n   </g>\n   <g id=\"patch_154\">\n    <path d=\"M 266.755839 288.430125 \nL 305.119744 288.430125 \nL 305.119744 283.361325 \nL 266.755839 283.361325 \nz\n\" clip-path=\"url(#p4ff8267eb9)\" style=\"fill: #228b22\"/>\n   </g>\n   <g id=\"patch_155\">\n    <path d=\"M 268.194485 288.430125 \nL 306.55839 288.430125 \nL 306.55839 281.671725 \nL 268.194485 281.671725 \nz\n\" clip-path=\"url(#p4ff8267eb9)\" style=\"fill: #228b22\"/>\n   </g>\n   <g id=\"patch_156\">\n    <path d=\"M 269.633132 288.430125 \nL 307.997037 288.430125 \nL 307.997037 283.361325 \nL 269.633132 283.361325 \nz\n\" clip-path=\"url(#p4ff8267eb9)\" style=\"fill: #228b22\"/>\n   </g>\n   <g id=\"patch_157\">\n    <path d=\"M 271.071778 288.430125 \nL 309.435683 288.430125 \nL 309.435683 286.740525 \nL 271.071778 286.740525 \nz\n\" clip-path=\"url(#p4ff8267eb9)\" style=\"fill: #228b22\"/>\n   </g>\n   <g id=\"patch_158\">\n    <path d=\"M 272.510425 288.430125 \nL 310.87433 288.430125 \nL 310.87433 288.430125 \nL 272.510425 288.430125 \nz\n\" clip-path=\"url(#p4ff8267eb9)\" style=\"fill: #228b22\"/>\n   </g>\n   <g id=\"patch_159\">\n    <path d=\"M 273.949071 288.430125 \nL 312.312976 288.430125 \nL 312.312976 286.740525 \nL 273.949071 286.740525 \nz\n\" clip-path=\"url(#p4ff8267eb9)\" style=\"fill: #228b22\"/>\n   </g>\n   <g id=\"patch_160\">\n    <path d=\"M 275.387718 288.430125 \nL 313.751622 288.430125 \nL 313.751622 283.361325 \nL 275.387718 283.361325 \nz\n\" clip-path=\"url(#p4ff8267eb9)\" style=\"fill: #228b22\"/>\n   </g>\n   <g id=\"patch_161\">\n    <path d=\"M 276.826364 288.430125 \nL 315.190269 288.430125 \nL 315.190269 285.050925 \nL 276.826364 285.050925 \nz\n\" clip-path=\"url(#p4ff8267eb9)\" style=\"fill: #228b22\"/>\n   </g>\n   <g id=\"patch_162\">\n    <path d=\"M 278.26501 288.430125 \nL 316.628915 288.430125 \nL 316.628915 286.740525 \nL 278.26501 286.740525 \nz\n\" clip-path=\"url(#p4ff8267eb9)\" style=\"fill: #228b22\"/>\n   </g>\n   <g id=\"patch_163\">\n    <path d=\"M 279.703657 288.430125 \nL 318.067562 288.430125 \nL 318.067562 288.430125 \nL 279.703657 288.430125 \nz\n\" clip-path=\"url(#p4ff8267eb9)\" style=\"fill: #228b22\"/>\n   </g>\n   <g id=\"patch_164\">\n    <path d=\"M 281.142303 288.430125 \nL 319.506208 288.430125 \nL 319.506208 288.430125 \nL 281.142303 288.430125 \nz\n\" clip-path=\"url(#p4ff8267eb9)\" style=\"fill: #228b22\"/>\n   </g>\n   <g id=\"patch_165\">\n    <path d=\"M 282.58095 288.430125 \nL 320.944855 288.430125 \nL 320.944855 288.430125 \nL 282.58095 288.430125 \nz\n\" clip-path=\"url(#p4ff8267eb9)\" style=\"fill: #228b22\"/>\n   </g>\n   <g id=\"patch_166\">\n    <path d=\"M 284.019596 288.430125 \nL 322.383501 288.430125 \nL 322.383501 288.430125 \nL 284.019596 288.430125 \nz\n\" clip-path=\"url(#p4ff8267eb9)\" style=\"fill: #228b22\"/>\n   </g>\n   <g id=\"patch_167\">\n    <path d=\"M 285.458243 288.430125 \nL 323.822148 288.430125 \nL 323.822148 288.430125 \nL 285.458243 288.430125 \nz\n\" clip-path=\"url(#p4ff8267eb9)\" style=\"fill: #228b22\"/>\n   </g>\n   <g id=\"patch_168\">\n    <path d=\"M 286.896889 288.430125 \nL 325.260794 288.430125 \nL 325.260794 285.050925 \nL 286.896889 285.050925 \nz\n\" clip-path=\"url(#p4ff8267eb9)\" style=\"fill: #228b22\"/>\n   </g>\n   <g id=\"patch_169\">\n    <path d=\"M 288.335535 288.430125 \nL 326.69944 288.430125 \nL 326.69944 286.740525 \nL 288.335535 286.740525 \nz\n\" clip-path=\"url(#p4ff8267eb9)\" style=\"fill: #228b22\"/>\n   </g>\n   <g id=\"patch_170\">\n    <path d=\"M 289.774182 288.430125 \nL 328.138087 288.430125 \nL 328.138087 286.740525 \nL 289.774182 286.740525 \nz\n\" clip-path=\"url(#p4ff8267eb9)\" style=\"fill: #228b22\"/>\n   </g>\n   <g id=\"patch_171\">\n    <path d=\"M 291.212828 288.430125 \nL 329.576733 288.430125 \nL 329.576733 288.430125 \nL 291.212828 288.430125 \nz\n\" clip-path=\"url(#p4ff8267eb9)\" style=\"fill: #228b22\"/>\n   </g>\n   <g id=\"patch_172\">\n    <path d=\"M 292.651475 288.430125 \nL 331.01538 288.430125 \nL 331.01538 288.430125 \nL 292.651475 288.430125 \nz\n\" clip-path=\"url(#p4ff8267eb9)\" style=\"fill: #228b22\"/>\n   </g>\n   <g id=\"patch_173\">\n    <path d=\"M 294.090121 288.430125 \nL 332.454026 288.430125 \nL 332.454026 288.430125 \nL 294.090121 288.430125 \nz\n\" clip-path=\"url(#p4ff8267eb9)\" style=\"fill: #228b22\"/>\n   </g>\n   <g id=\"patch_174\">\n    <path d=\"M 295.528768 288.430125 \nL 333.892673 288.430125 \nL 333.892673 288.430125 \nL 295.528768 288.430125 \nz\n\" clip-path=\"url(#p4ff8267eb9)\" style=\"fill: #228b22\"/>\n   </g>\n   <g id=\"patch_175\">\n    <path d=\"M 296.967414 288.430125 \nL 335.331319 288.430125 \nL 335.331319 288.430125 \nL 296.967414 288.430125 \nz\n\" clip-path=\"url(#p4ff8267eb9)\" style=\"fill: #228b22\"/>\n   </g>\n   <g id=\"patch_176\">\n    <path d=\"M 298.40606 288.430125 \nL 336.769965 288.430125 \nL 336.769965 286.740525 \nL 298.40606 286.740525 \nz\n\" clip-path=\"url(#p4ff8267eb9)\" style=\"fill: #228b22\"/>\n   </g>\n   <g id=\"patch_177\">\n    <path d=\"M 299.844707 288.430125 \nL 338.208612 288.430125 \nL 338.208612 288.430125 \nL 299.844707 288.430125 \nz\n\" clip-path=\"url(#p4ff8267eb9)\" style=\"fill: #228b22\"/>\n   </g>\n   <g id=\"patch_178\">\n    <path d=\"M 301.283353 288.430125 \nL 339.647258 288.430125 \nL 339.647258 288.430125 \nL 301.283353 288.430125 \nz\n\" clip-path=\"url(#p4ff8267eb9)\" style=\"fill: #228b22\"/>\n   </g>\n   <g id=\"patch_179\">\n    <path d=\"M 302.722 288.430125 \nL 341.085905 288.430125 \nL 341.085905 288.430125 \nL 302.722 288.430125 \nz\n\" clip-path=\"url(#p4ff8267eb9)\" style=\"fill: #228b22\"/>\n   </g>\n   <g id=\"patch_180\">\n    <path d=\"M 304.160646 288.430125 \nL 342.524551 288.430125 \nL 342.524551 288.430125 \nL 304.160646 288.430125 \nz\n\" clip-path=\"url(#p4ff8267eb9)\" style=\"fill: #228b22\"/>\n   </g>\n   <g id=\"patch_181\">\n    <path d=\"M 305.599293 288.430125 \nL 343.963198 288.430125 \nL 343.963198 288.430125 \nL 305.599293 288.430125 \nz\n\" clip-path=\"url(#p4ff8267eb9)\" style=\"fill: #228b22\"/>\n   </g>\n   <g id=\"patch_182\">\n    <path d=\"M 307.037939 288.430125 \nL 345.401844 288.430125 \nL 345.401844 288.430125 \nL 307.037939 288.430125 \nz\n\" clip-path=\"url(#p4ff8267eb9)\" style=\"fill: #228b22\"/>\n   </g>\n   <g id=\"patch_183\">\n    <path d=\"M 308.476586 288.430125 \nL 346.84049 288.430125 \nL 346.84049 288.430125 \nL 308.476586 288.430125 \nz\n\" clip-path=\"url(#p4ff8267eb9)\" style=\"fill: #228b22\"/>\n   </g>\n   <g id=\"patch_184\">\n    <path d=\"M 309.915232 288.430125 \nL 348.279137 288.430125 \nL 348.279137 288.430125 \nL 309.915232 288.430125 \nz\n\" clip-path=\"url(#p4ff8267eb9)\" style=\"fill: #228b22\"/>\n   </g>\n   <g id=\"patch_185\">\n    <path d=\"M 311.353878 288.430125 \nL 349.717783 288.430125 \nL 349.717783 288.430125 \nL 311.353878 288.430125 \nz\n\" clip-path=\"url(#p4ff8267eb9)\" style=\"fill: #228b22\"/>\n   </g>\n   <g id=\"patch_186\">\n    <path d=\"M 312.792525 288.430125 \nL 351.15643 288.430125 \nL 351.15643 288.430125 \nL 312.792525 288.430125 \nz\n\" clip-path=\"url(#p4ff8267eb9)\" style=\"fill: #228b22\"/>\n   </g>\n   <g id=\"patch_187\">\n    <path d=\"M 314.231171 288.430125 \nL 352.595076 288.430125 \nL 352.595076 288.430125 \nL 314.231171 288.430125 \nz\n\" clip-path=\"url(#p4ff8267eb9)\" style=\"fill: #228b22\"/>\n   </g>\n   <g id=\"patch_188\">\n    <path d=\"M 315.669818 288.430125 \nL 354.033723 288.430125 \nL 354.033723 288.430125 \nL 315.669818 288.430125 \nz\n\" clip-path=\"url(#p4ff8267eb9)\" style=\"fill: #228b22\"/>\n   </g>\n   <g id=\"patch_189\">\n    <path d=\"M 317.108464 288.430125 \nL 355.472369 288.430125 \nL 355.472369 288.430125 \nL 317.108464 288.430125 \nz\n\" clip-path=\"url(#p4ff8267eb9)\" style=\"fill: #228b22\"/>\n   </g>\n   <g id=\"patch_190\">\n    <path d=\"M 318.547111 288.430125 \nL 356.911016 288.430125 \nL 356.911016 288.430125 \nL 318.547111 288.430125 \nz\n\" clip-path=\"url(#p4ff8267eb9)\" style=\"fill: #228b22\"/>\n   </g>\n   <g id=\"patch_191\">\n    <path d=\"M 319.985757 288.430125 \nL 358.349662 288.430125 \nL 358.349662 288.430125 \nL 319.985757 288.430125 \nz\n\" clip-path=\"url(#p4ff8267eb9)\" style=\"fill: #228b22\"/>\n   </g>\n   <g id=\"patch_192\">\n    <path d=\"M 321.424403 288.430125 \nL 359.788308 288.430125 \nL 359.788308 288.430125 \nL 321.424403 288.430125 \nz\n\" clip-path=\"url(#p4ff8267eb9)\" style=\"fill: #228b22\"/>\n   </g>\n   <g id=\"patch_193\">\n    <path d=\"M 322.86305 288.430125 \nL 361.226955 288.430125 \nL 361.226955 288.430125 \nL 322.86305 288.430125 \nz\n\" clip-path=\"url(#p4ff8267eb9)\" style=\"fill: #228b22\"/>\n   </g>\n   <g id=\"patch_194\">\n    <path d=\"M 324.301696 288.430125 \nL 362.665601 288.430125 \nL 362.665601 288.430125 \nL 324.301696 288.430125 \nz\n\" clip-path=\"url(#p4ff8267eb9)\" style=\"fill: #228b22\"/>\n   </g>\n   <g id=\"patch_195\">\n    <path d=\"M 325.740343 288.430125 \nL 364.104248 288.430125 \nL 364.104248 288.430125 \nL 325.740343 288.430125 \nz\n\" clip-path=\"url(#p4ff8267eb9)\" style=\"fill: #228b22\"/>\n   </g>\n   <g id=\"patch_196\">\n    <path d=\"M 327.178989 288.430125 \nL 365.542894 288.430125 \nL 365.542894 288.430125 \nL 327.178989 288.430125 \nz\n\" clip-path=\"url(#p4ff8267eb9)\" style=\"fill: #228b22\"/>\n   </g>\n   <g id=\"patch_197\">\n    <path d=\"M 328.617636 288.430125 \nL 366.981541 288.430125 \nL 366.981541 288.430125 \nL 328.617636 288.430125 \nz\n\" clip-path=\"url(#p4ff8267eb9)\" style=\"fill: #228b22\"/>\n   </g>\n   <g id=\"patch_198\">\n    <path d=\"M 330.056282 288.430125 \nL 368.420187 288.430125 \nL 368.420187 288.430125 \nL 330.056282 288.430125 \nz\n\" clip-path=\"url(#p4ff8267eb9)\" style=\"fill: #228b22\"/>\n   </g>\n   <g id=\"patch_199\">\n    <path d=\"M 331.494928 288.430125 \nL 369.858833 288.430125 \nL 369.858833 288.430125 \nL 331.494928 288.430125 \nz\n\" clip-path=\"url(#p4ff8267eb9)\" style=\"fill: #228b22\"/>\n   </g>\n   <g id=\"patch_200\">\n    <path d=\"M 332.933575 288.430125 \nL 371.29748 288.430125 \nL 371.29748 288.430125 \nL 332.933575 288.430125 \nz\n\" clip-path=\"url(#p4ff8267eb9)\" style=\"fill: #228b22\"/>\n   </g>\n   <g id=\"patch_201\">\n    <path d=\"M 334.372221 288.430125 \nL 372.736126 288.430125 \nL 372.736126 288.430125 \nL 334.372221 288.430125 \nz\n\" clip-path=\"url(#p4ff8267eb9)\" style=\"fill: #228b22\"/>\n   </g>\n   <g id=\"patch_202\">\n    <path d=\"M 335.810868 288.430125 \nL 374.174773 288.430125 \nL 374.174773 288.430125 \nL 335.810868 288.430125 \nz\n\" clip-path=\"url(#p4ff8267eb9)\" style=\"fill: #228b22\"/>\n   </g>\n   <g id=\"matplotlib.axis_1\">\n    <g id=\"xtick_1\">\n     <g id=\"line2d_1\">\n      <defs>\n       <path id=\"mca2705aabc\" d=\"M 0 0 \nL 0 3.5 \n\" style=\"stroke: #000000; stroke-width: 0.8\"/>\n      </defs>\n      <g>\n       <use xlink:href=\"#mca2705aabc\" x=\"68.70218\" y=\"288.430125\" style=\"stroke: #000000; stroke-width: 0.8\"/>\n      </g>\n     </g>\n     <g id=\"text_1\">\n      <!-- −3 -->\n      <g transform=\"translate(61.331086 303.028562) scale(0.1 -0.1)\">\n       <defs>\n        <path id=\"DejaVuSans-2212\" d=\"M 678 2272 \nL 4684 2272 \nL 4684 1741 \nL 678 1741 \nL 678 2272 \nz\n\" transform=\"scale(0.015625)\"/>\n        <path id=\"DejaVuSans-33\" d=\"M 2597 2516 \nQ 3050 2419 3304 2112 \nQ 3559 1806 3559 1356 \nQ 3559 666 3084 287 \nQ 2609 -91 1734 -91 \nQ 1441 -91 1130 -33 \nQ 819 25 488 141 \nL 488 750 \nQ 750 597 1062 519 \nQ 1375 441 1716 441 \nQ 2309 441 2620 675 \nQ 2931 909 2931 1356 \nQ 2931 1769 2642 2001 \nQ 2353 2234 1838 2234 \nL 1294 2234 \nL 1294 2753 \nL 1863 2753 \nQ 2328 2753 2575 2939 \nQ 2822 3125 2822 3475 \nQ 2822 3834 2567 4026 \nQ 2313 4219 1838 4219 \nQ 1578 4219 1281 4162 \nQ 984 4106 628 3988 \nL 628 4550 \nQ 988 4650 1302 4700 \nQ 1616 4750 1894 4750 \nQ 2613 4750 3031 4423 \nQ 3450 4097 3450 3541 \nQ 3450 3153 3228 2886 \nQ 3006 2619 2597 2516 \nz\n\" transform=\"scale(0.015625)\"/>\n       </defs>\n       <use xlink:href=\"#DejaVuSans-2212\"/>\n       <use xlink:href=\"#DejaVuSans-33\" x=\"83.789062\"/>\n      </g>\n     </g>\n    </g>\n    <g id=\"xtick_2\">\n     <g id=\"line2d_2\">\n      <g>\n       <use xlink:href=\"#mca2705aabc\" x=\"116.657061\" y=\"288.430125\" style=\"stroke: #000000; stroke-width: 0.8\"/>\n      </g>\n     </g>\n     <g id=\"text_2\">\n      <!-- −2 -->\n      <g transform=\"translate(109.285967 303.028562) scale(0.1 -0.1)\">\n       <defs>\n        <path id=\"DejaVuSans-32\" d=\"M 1228 531 \nL 3431 531 \nL 3431 0 \nL 469 0 \nL 469 531 \nQ 828 903 1448 1529 \nQ 2069 2156 2228 2338 \nQ 2531 2678 2651 2914 \nQ 2772 3150 2772 3378 \nQ 2772 3750 2511 3984 \nQ 2250 4219 1831 4219 \nQ 1534 4219 1204 4116 \nQ 875 4013 500 3803 \nL 500 4441 \nQ 881 4594 1212 4672 \nQ 1544 4750 1819 4750 \nQ 2544 4750 2975 4387 \nQ 3406 4025 3406 3419 \nQ 3406 3131 3298 2873 \nQ 3191 2616 2906 2266 \nQ 2828 2175 2409 1742 \nQ 1991 1309 1228 531 \nz\n\" transform=\"scale(0.015625)\"/>\n       </defs>\n       <use xlink:href=\"#DejaVuSans-2212\"/>\n       <use xlink:href=\"#DejaVuSans-32\" x=\"83.789062\"/>\n      </g>\n     </g>\n    </g>\n    <g id=\"xtick_3\">\n     <g id=\"line2d_3\">\n      <g>\n       <use xlink:href=\"#mca2705aabc\" x=\"164.611942\" y=\"288.430125\" style=\"stroke: #000000; stroke-width: 0.8\"/>\n      </g>\n     </g>\n     <g id=\"text_3\">\n      <!-- −1 -->\n      <g transform=\"translate(157.240848 303.028562) scale(0.1 -0.1)\">\n       <defs>\n        <path id=\"DejaVuSans-31\" d=\"M 794 531 \nL 1825 531 \nL 1825 4091 \nL 703 3866 \nL 703 4441 \nL 1819 4666 \nL 2450 4666 \nL 2450 531 \nL 3481 531 \nL 3481 0 \nL 794 0 \nL 794 531 \nz\n\" transform=\"scale(0.015625)\"/>\n       </defs>\n       <use xlink:href=\"#DejaVuSans-2212\"/>\n       <use xlink:href=\"#DejaVuSans-31\" x=\"83.789062\"/>\n      </g>\n     </g>\n    </g>\n    <g id=\"xtick_4\">\n     <g id=\"line2d_4\">\n      <g>\n       <use xlink:href=\"#mca2705aabc\" x=\"212.566823\" y=\"288.430125\" style=\"stroke: #000000; stroke-width: 0.8\"/>\n      </g>\n     </g>\n     <g id=\"text_4\">\n      <!-- 0 -->\n      <g transform=\"translate(209.385573 303.028562) scale(0.1 -0.1)\">\n       <defs>\n        <path id=\"DejaVuSans-30\" d=\"M 2034 4250 \nQ 1547 4250 1301 3770 \nQ 1056 3291 1056 2328 \nQ 1056 1369 1301 889 \nQ 1547 409 2034 409 \nQ 2525 409 2770 889 \nQ 3016 1369 3016 2328 \nQ 3016 3291 2770 3770 \nQ 2525 4250 2034 4250 \nz\nM 2034 4750 \nQ 2819 4750 3233 4129 \nQ 3647 3509 3647 2328 \nQ 3647 1150 3233 529 \nQ 2819 -91 2034 -91 \nQ 1250 -91 836 529 \nQ 422 1150 422 2328 \nQ 422 3509 836 4129 \nQ 1250 4750 2034 4750 \nz\n\" transform=\"scale(0.015625)\"/>\n       </defs>\n       <use xlink:href=\"#DejaVuSans-30\"/>\n      </g>\n     </g>\n    </g>\n    <g id=\"xtick_5\">\n     <g id=\"line2d_5\">\n      <g>\n       <use xlink:href=\"#mca2705aabc\" x=\"260.521704\" y=\"288.430125\" style=\"stroke: #000000; stroke-width: 0.8\"/>\n      </g>\n     </g>\n     <g id=\"text_5\">\n      <!-- 1 -->\n      <g transform=\"translate(257.340454 303.028562) scale(0.1 -0.1)\">\n       <use xlink:href=\"#DejaVuSans-31\"/>\n      </g>\n     </g>\n    </g>\n    <g id=\"xtick_6\">\n     <g id=\"line2d_6\">\n      <g>\n       <use xlink:href=\"#mca2705aabc\" x=\"308.476586\" y=\"288.430125\" style=\"stroke: #000000; stroke-width: 0.8\"/>\n      </g>\n     </g>\n     <g id=\"text_6\">\n      <!-- 2 -->\n      <g transform=\"translate(305.295336 303.028562) scale(0.1 -0.1)\">\n       <use xlink:href=\"#DejaVuSans-32\"/>\n      </g>\n     </g>\n    </g>\n    <g id=\"xtick_7\">\n     <g id=\"line2d_7\">\n      <g>\n       <use xlink:href=\"#mca2705aabc\" x=\"356.431467\" y=\"288.430125\" style=\"stroke: #000000; stroke-width: 0.8\"/>\n      </g>\n     </g>\n     <g id=\"text_7\">\n      <!-- 3 -->\n      <g transform=\"translate(353.250217 303.028562) scale(0.1 -0.1)\">\n       <use xlink:href=\"#DejaVuSans-33\"/>\n      </g>\n     </g>\n    </g>\n   </g>\n   <g id=\"matplotlib.axis_2\">\n    <g id=\"ytick_1\">\n     <g id=\"line2d_8\">\n      <defs>\n       <path id=\"m5fd1b160df\" d=\"M 0 0 \nL -3.5 0 \n\" style=\"stroke: #000000; stroke-width: 0.8\"/>\n      </defs>\n      <g>\n       <use xlink:href=\"#m5fd1b160df\" x=\"33.2875\" y=\"288.430125\" style=\"stroke: #000000; stroke-width: 0.8\"/>\n      </g>\n     </g>\n     <g id=\"text_8\">\n      <!-- 0 -->\n      <g transform=\"translate(19.925 292.229344) scale(0.1 -0.1)\">\n       <use xlink:href=\"#DejaVuSans-30\"/>\n      </g>\n     </g>\n    </g>\n    <g id=\"ytick_2\">\n     <g id=\"line2d_9\">\n      <g>\n       <use xlink:href=\"#m5fd1b160df\" x=\"33.2875\" y=\"254.638125\" style=\"stroke: #000000; stroke-width: 0.8\"/>\n      </g>\n     </g>\n     <g id=\"text_9\">\n      <!-- 20 -->\n      <g transform=\"translate(13.5625 258.437344) scale(0.1 -0.1)\">\n       <use xlink:href=\"#DejaVuSans-32\"/>\n       <use xlink:href=\"#DejaVuSans-30\" x=\"63.623047\"/>\n      </g>\n     </g>\n    </g>\n    <g id=\"ytick_3\">\n     <g id=\"line2d_10\">\n      <g>\n       <use xlink:href=\"#m5fd1b160df\" x=\"33.2875\" y=\"220.846125\" style=\"stroke: #000000; stroke-width: 0.8\"/>\n      </g>\n     </g>\n     <g id=\"text_10\">\n      <!-- 40 -->\n      <g transform=\"translate(13.5625 224.645344) scale(0.1 -0.1)\">\n       <defs>\n        <path id=\"DejaVuSans-34\" d=\"M 2419 4116 \nL 825 1625 \nL 2419 1625 \nL 2419 4116 \nz\nM 2253 4666 \nL 3047 4666 \nL 3047 1625 \nL 3713 1625 \nL 3713 1100 \nL 3047 1100 \nL 3047 0 \nL 2419 0 \nL 2419 1100 \nL 313 1100 \nL 313 1709 \nL 2253 4666 \nz\n\" transform=\"scale(0.015625)\"/>\n       </defs>\n       <use xlink:href=\"#DejaVuSans-34\"/>\n       <use xlink:href=\"#DejaVuSans-30\" x=\"63.623047\"/>\n      </g>\n     </g>\n    </g>\n    <g id=\"ytick_4\">\n     <g id=\"line2d_11\">\n      <g>\n       <use xlink:href=\"#m5fd1b160df\" x=\"33.2875\" y=\"187.054125\" style=\"stroke: #000000; stroke-width: 0.8\"/>\n      </g>\n     </g>\n     <g id=\"text_11\">\n      <!-- 60 -->\n      <g transform=\"translate(13.5625 190.853344) scale(0.1 -0.1)\">\n       <defs>\n        <path id=\"DejaVuSans-36\" d=\"M 2113 2584 \nQ 1688 2584 1439 2293 \nQ 1191 2003 1191 1497 \nQ 1191 994 1439 701 \nQ 1688 409 2113 409 \nQ 2538 409 2786 701 \nQ 3034 994 3034 1497 \nQ 3034 2003 2786 2293 \nQ 2538 2584 2113 2584 \nz\nM 3366 4563 \nL 3366 3988 \nQ 3128 4100 2886 4159 \nQ 2644 4219 2406 4219 \nQ 1781 4219 1451 3797 \nQ 1122 3375 1075 2522 \nQ 1259 2794 1537 2939 \nQ 1816 3084 2150 3084 \nQ 2853 3084 3261 2657 \nQ 3669 2231 3669 1497 \nQ 3669 778 3244 343 \nQ 2819 -91 2113 -91 \nQ 1303 -91 875 529 \nQ 447 1150 447 2328 \nQ 447 3434 972 4092 \nQ 1497 4750 2381 4750 \nQ 2619 4750 2861 4703 \nQ 3103 4656 3366 4563 \nz\n\" transform=\"scale(0.015625)\"/>\n       </defs>\n       <use xlink:href=\"#DejaVuSans-36\"/>\n       <use xlink:href=\"#DejaVuSans-30\" x=\"63.623047\"/>\n      </g>\n     </g>\n    </g>\n    <g id=\"ytick_5\">\n     <g id=\"line2d_12\">\n      <g>\n       <use xlink:href=\"#m5fd1b160df\" x=\"33.2875\" y=\"153.262125\" style=\"stroke: #000000; stroke-width: 0.8\"/>\n      </g>\n     </g>\n     <g id=\"text_12\">\n      <!-- 80 -->\n      <g transform=\"translate(13.5625 157.061344) scale(0.1 -0.1)\">\n       <defs>\n        <path id=\"DejaVuSans-38\" d=\"M 2034 2216 \nQ 1584 2216 1326 1975 \nQ 1069 1734 1069 1313 \nQ 1069 891 1326 650 \nQ 1584 409 2034 409 \nQ 2484 409 2743 651 \nQ 3003 894 3003 1313 \nQ 3003 1734 2745 1975 \nQ 2488 2216 2034 2216 \nz\nM 1403 2484 \nQ 997 2584 770 2862 \nQ 544 3141 544 3541 \nQ 544 4100 942 4425 \nQ 1341 4750 2034 4750 \nQ 2731 4750 3128 4425 \nQ 3525 4100 3525 3541 \nQ 3525 3141 3298 2862 \nQ 3072 2584 2669 2484 \nQ 3125 2378 3379 2068 \nQ 3634 1759 3634 1313 \nQ 3634 634 3220 271 \nQ 2806 -91 2034 -91 \nQ 1263 -91 848 271 \nQ 434 634 434 1313 \nQ 434 1759 690 2068 \nQ 947 2378 1403 2484 \nz\nM 1172 3481 \nQ 1172 3119 1398 2916 \nQ 1625 2713 2034 2713 \nQ 2441 2713 2670 2916 \nQ 2900 3119 2900 3481 \nQ 2900 3844 2670 4047 \nQ 2441 4250 2034 4250 \nQ 1625 4250 1398 4047 \nQ 1172 3844 1172 3481 \nz\n\" transform=\"scale(0.015625)\"/>\n       </defs>\n       <use xlink:href=\"#DejaVuSans-38\"/>\n       <use xlink:href=\"#DejaVuSans-30\" x=\"63.623047\"/>\n      </g>\n     </g>\n    </g>\n    <g id=\"ytick_6\">\n     <g id=\"line2d_13\">\n      <g>\n       <use xlink:href=\"#m5fd1b160df\" x=\"33.2875\" y=\"119.470125\" style=\"stroke: #000000; stroke-width: 0.8\"/>\n      </g>\n     </g>\n     <g id=\"text_13\">\n      <!-- 100 -->\n      <g transform=\"translate(7.2 123.269344) scale(0.1 -0.1)\">\n       <use xlink:href=\"#DejaVuSans-31\"/>\n       <use xlink:href=\"#DejaVuSans-30\" x=\"63.623047\"/>\n       <use xlink:href=\"#DejaVuSans-30\" x=\"127.246094\"/>\n      </g>\n     </g>\n    </g>\n    <g id=\"ytick_7\">\n     <g id=\"line2d_14\">\n      <g>\n       <use xlink:href=\"#m5fd1b160df\" x=\"33.2875\" y=\"85.678125\" style=\"stroke: #000000; stroke-width: 0.8\"/>\n      </g>\n     </g>\n     <g id=\"text_14\">\n      <!-- 120 -->\n      <g transform=\"translate(7.2 89.477344) scale(0.1 -0.1)\">\n       <use xlink:href=\"#DejaVuSans-31\"/>\n       <use xlink:href=\"#DejaVuSans-32\" x=\"63.623047\"/>\n       <use xlink:href=\"#DejaVuSans-30\" x=\"127.246094\"/>\n      </g>\n     </g>\n    </g>\n    <g id=\"ytick_8\">\n     <g id=\"line2d_15\">\n      <g>\n       <use xlink:href=\"#m5fd1b160df\" x=\"33.2875\" y=\"51.886125\" style=\"stroke: #000000; stroke-width: 0.8\"/>\n      </g>\n     </g>\n     <g id=\"text_15\">\n      <!-- 140 -->\n      <g transform=\"translate(7.2 55.685344) scale(0.1 -0.1)\">\n       <use xlink:href=\"#DejaVuSans-31\"/>\n       <use xlink:href=\"#DejaVuSans-34\" x=\"63.623047\"/>\n       <use xlink:href=\"#DejaVuSans-30\" x=\"127.246094\"/>\n      </g>\n     </g>\n    </g>\n   </g>\n   <g id=\"patch_203\">\n    <path d=\"M 33.2875 288.430125 \nL 33.2875 22.318125 \n\" style=\"fill: none; stroke: #000000; stroke-width: 0.8; stroke-linejoin: miter; stroke-linecap: square\"/>\n   </g>\n   <g id=\"patch_204\">\n    <path d=\"M 390.4075 288.430125 \nL 390.4075 22.318125 \n\" style=\"fill: none; stroke: #000000; stroke-width: 0.8; stroke-linejoin: miter; stroke-linecap: square\"/>\n   </g>\n   <g id=\"patch_205\">\n    <path d=\"M 33.2875 288.430125 \nL 390.4075 288.430125 \n\" style=\"fill: none; stroke: #000000; stroke-width: 0.8; stroke-linejoin: miter; stroke-linecap: square\"/>\n   </g>\n   <g id=\"patch_206\">\n    <path d=\"M 33.2875 22.318125 \nL 390.4075 22.318125 \n\" style=\"fill: none; stroke: #000000; stroke-width: 0.8; stroke-linejoin: miter; stroke-linecap: square\"/>\n   </g>\n   <g id=\"text_16\">\n    <!-- qkv distribution -->\n    <g transform=\"translate(164.914375 16.318125) scale(0.12 -0.12)\">\n     <defs>\n      <path id=\"DejaVuSans-71\" d=\"M 947 1747 \nQ 947 1113 1208 752 \nQ 1469 391 1925 391 \nQ 2381 391 2643 752 \nQ 2906 1113 2906 1747 \nQ 2906 2381 2643 2742 \nQ 2381 3103 1925 3103 \nQ 1469 3103 1208 2742 \nQ 947 2381 947 1747 \nz\nM 2906 525 \nQ 2725 213 2448 61 \nQ 2172 -91 1784 -91 \nQ 1150 -91 751 415 \nQ 353 922 353 1747 \nQ 353 2572 751 3078 \nQ 1150 3584 1784 3584 \nQ 2172 3584 2448 3432 \nQ 2725 3281 2906 2969 \nL 2906 3500 \nL 3481 3500 \nL 3481 -1331 \nL 2906 -1331 \nL 2906 525 \nz\n\" transform=\"scale(0.015625)\"/>\n      <path id=\"DejaVuSans-6b\" d=\"M 581 4863 \nL 1159 4863 \nL 1159 1991 \nL 2875 3500 \nL 3609 3500 \nL 1753 1863 \nL 3688 0 \nL 2938 0 \nL 1159 1709 \nL 1159 0 \nL 581 0 \nL 581 4863 \nz\n\" transform=\"scale(0.015625)\"/>\n      <path id=\"DejaVuSans-76\" d=\"M 191 3500 \nL 800 3500 \nL 1894 563 \nL 2988 3500 \nL 3597 3500 \nL 2284 0 \nL 1503 0 \nL 191 3500 \nz\n\" transform=\"scale(0.015625)\"/>\n      <path id=\"DejaVuSans-20\" transform=\"scale(0.015625)\"/>\n      <path id=\"DejaVuSans-64\" d=\"M 2906 2969 \nL 2906 4863 \nL 3481 4863 \nL 3481 0 \nL 2906 0 \nL 2906 525 \nQ 2725 213 2448 61 \nQ 2172 -91 1784 -91 \nQ 1150 -91 751 415 \nQ 353 922 353 1747 \nQ 353 2572 751 3078 \nQ 1150 3584 1784 3584 \nQ 2172 3584 2448 3432 \nQ 2725 3281 2906 2969 \nz\nM 947 1747 \nQ 947 1113 1208 752 \nQ 1469 391 1925 391 \nQ 2381 391 2643 752 \nQ 2906 1113 2906 1747 \nQ 2906 2381 2643 2742 \nQ 2381 3103 1925 3103 \nQ 1469 3103 1208 2742 \nQ 947 2381 947 1747 \nz\n\" transform=\"scale(0.015625)\"/>\n      <path id=\"DejaVuSans-69\" d=\"M 603 3500 \nL 1178 3500 \nL 1178 0 \nL 603 0 \nL 603 3500 \nz\nM 603 4863 \nL 1178 4863 \nL 1178 4134 \nL 603 4134 \nL 603 4863 \nz\n\" transform=\"scale(0.015625)\"/>\n      <path id=\"DejaVuSans-73\" d=\"M 2834 3397 \nL 2834 2853 \nQ 2591 2978 2328 3040 \nQ 2066 3103 1784 3103 \nQ 1356 3103 1142 2972 \nQ 928 2841 928 2578 \nQ 928 2378 1081 2264 \nQ 1234 2150 1697 2047 \nL 1894 2003 \nQ 2506 1872 2764 1633 \nQ 3022 1394 3022 966 \nQ 3022 478 2636 193 \nQ 2250 -91 1575 -91 \nQ 1294 -91 989 -36 \nQ 684 19 347 128 \nL 347 722 \nQ 666 556 975 473 \nQ 1284 391 1588 391 \nQ 1994 391 2212 530 \nQ 2431 669 2431 922 \nQ 2431 1156 2273 1281 \nQ 2116 1406 1581 1522 \nL 1381 1569 \nQ 847 1681 609 1914 \nQ 372 2147 372 2553 \nQ 372 3047 722 3315 \nQ 1072 3584 1716 3584 \nQ 2034 3584 2315 3537 \nQ 2597 3491 2834 3397 \nz\n\" transform=\"scale(0.015625)\"/>\n      <path id=\"DejaVuSans-74\" d=\"M 1172 4494 \nL 1172 3500 \nL 2356 3500 \nL 2356 3053 \nL 1172 3053 \nL 1172 1153 \nQ 1172 725 1289 603 \nQ 1406 481 1766 481 \nL 2356 481 \nL 2356 0 \nL 1766 0 \nQ 1100 0 847 248 \nQ 594 497 594 1153 \nL 594 3053 \nL 172 3053 \nL 172 3500 \nL 594 3500 \nL 594 4494 \nL 1172 4494 \nz\n\" transform=\"scale(0.015625)\"/>\n      <path id=\"DejaVuSans-72\" d=\"M 2631 2963 \nQ 2534 3019 2420 3045 \nQ 2306 3072 2169 3072 \nQ 1681 3072 1420 2755 \nQ 1159 2438 1159 1844 \nL 1159 0 \nL 581 0 \nL 581 3500 \nL 1159 3500 \nL 1159 2956 \nQ 1341 3275 1631 3429 \nQ 1922 3584 2338 3584 \nQ 2397 3584 2469 3576 \nQ 2541 3569 2628 3553 \nL 2631 2963 \nz\n\" transform=\"scale(0.015625)\"/>\n      <path id=\"DejaVuSans-62\" d=\"M 3116 1747 \nQ 3116 2381 2855 2742 \nQ 2594 3103 2138 3103 \nQ 1681 3103 1420 2742 \nQ 1159 2381 1159 1747 \nQ 1159 1113 1420 752 \nQ 1681 391 2138 391 \nQ 2594 391 2855 752 \nQ 3116 1113 3116 1747 \nz\nM 1159 2969 \nQ 1341 3281 1617 3432 \nQ 1894 3584 2278 3584 \nQ 2916 3584 3314 3078 \nQ 3713 2572 3713 1747 \nQ 3713 922 3314 415 \nQ 2916 -91 2278 -91 \nQ 1894 -91 1617 61 \nQ 1341 213 1159 525 \nL 1159 0 \nL 581 0 \nL 581 4863 \nL 1159 4863 \nL 1159 2969 \nz\n\" transform=\"scale(0.015625)\"/>\n      <path id=\"DejaVuSans-75\" d=\"M 544 1381 \nL 544 3500 \nL 1119 3500 \nL 1119 1403 \nQ 1119 906 1312 657 \nQ 1506 409 1894 409 \nQ 2359 409 2629 706 \nQ 2900 1003 2900 1516 \nL 2900 3500 \nL 3475 3500 \nL 3475 0 \nL 2900 0 \nL 2900 538 \nQ 2691 219 2414 64 \nQ 2138 -91 1772 -91 \nQ 1169 -91 856 284 \nQ 544 659 544 1381 \nz\nM 1991 3584 \nL 1991 3584 \nz\n\" transform=\"scale(0.015625)\"/>\n      <path id=\"DejaVuSans-6f\" d=\"M 1959 3097 \nQ 1497 3097 1228 2736 \nQ 959 2375 959 1747 \nQ 959 1119 1226 758 \nQ 1494 397 1959 397 \nQ 2419 397 2687 759 \nQ 2956 1122 2956 1747 \nQ 2956 2369 2687 2733 \nQ 2419 3097 1959 3097 \nz\nM 1959 3584 \nQ 2709 3584 3137 3096 \nQ 3566 2609 3566 1747 \nQ 3566 888 3137 398 \nQ 2709 -91 1959 -91 \nQ 1206 -91 779 398 \nQ 353 888 353 1747 \nQ 353 2609 779 3096 \nQ 1206 3584 1959 3584 \nz\n\" transform=\"scale(0.015625)\"/>\n      <path id=\"DejaVuSans-6e\" d=\"M 3513 2113 \nL 3513 0 \nL 2938 0 \nL 2938 2094 \nQ 2938 2591 2744 2837 \nQ 2550 3084 2163 3084 \nQ 1697 3084 1428 2787 \nQ 1159 2491 1159 1978 \nL 1159 0 \nL 581 0 \nL 581 3500 \nL 1159 3500 \nL 1159 2956 \nQ 1366 3272 1645 3428 \nQ 1925 3584 2291 3584 \nQ 2894 3584 3203 3211 \nQ 3513 2838 3513 2113 \nz\n\" transform=\"scale(0.015625)\"/>\n     </defs>\n     <use xlink:href=\"#DejaVuSans-71\"/>\n     <use xlink:href=\"#DejaVuSans-6b\" x=\"63.476562\"/>\n     <use xlink:href=\"#DejaVuSans-76\" x=\"121.386719\"/>\n     <use xlink:href=\"#DejaVuSans-20\" x=\"180.566406\"/>\n     <use xlink:href=\"#DejaVuSans-64\" x=\"212.353516\"/>\n     <use xlink:href=\"#DejaVuSans-69\" x=\"275.830078\"/>\n     <use xlink:href=\"#DejaVuSans-73\" x=\"303.613281\"/>\n     <use xlink:href=\"#DejaVuSans-74\" x=\"355.712891\"/>\n     <use xlink:href=\"#DejaVuSans-72\" x=\"394.921875\"/>\n     <use xlink:href=\"#DejaVuSans-69\" x=\"436.035156\"/>\n     <use xlink:href=\"#DejaVuSans-62\" x=\"463.818359\"/>\n     <use xlink:href=\"#DejaVuSans-75\" x=\"527.294922\"/>\n     <use xlink:href=\"#DejaVuSans-74\" x=\"590.673828\"/>\n     <use xlink:href=\"#DejaVuSans-69\" x=\"629.882812\"/>\n     <use xlink:href=\"#DejaVuSans-6f\" x=\"657.666016\"/>\n     <use xlink:href=\"#DejaVuSans-6e\" x=\"718.847656\"/>\n    </g>\n   </g>\n  </g>\n </g>\n <defs>\n  <clipPath id=\"p4ff8267eb9\">\n   <rect x=\"33.2875\" y=\"22.318125\" width=\"357.12\" height=\"266.112\"/>\n  </clipPath>\n </defs>\n</svg>\n",
      "image/png": "[encoded data removed]"
     },
     "metadata": {}
    }
   ],
   "source": [
    "import matplotlib.pyplot as plt\n",
    "y_val = torch.histc(qkv, bins=200, min=-3, max=3)\n",
    "x_val = np.arange(-1, 1, 0.01) *3\n",
    "plt.bar(x_val, y_val, align='center', color=['forestgreen'])\n",
    "plt.title('qkv distribution')"
   ]
  },
  {
   "cell_type": "code",
   "execution_count": 40,
   "metadata": {},
   "outputs": [],
   "source": [
    "num_heads = 8\n",
    "head_dim = d_model // num_heads\n",
    "qkv = qkv.reshape(batch_size, sequence_length, num_heads, 3* head_dim)"
   ]
  },
  {
   "cell_type": "code",
   "execution_count": 41,
   "metadata": {},
   "outputs": [
    {
     "output_type": "execute_result",
     "data": {
      "text/plain": [
       "torch.Size([1, 4, 8, 192])"
      ]
     },
     "metadata": {},
     "execution_count": 41
    }
   ],
   "source": [
    "qkv.shape"
   ]
  },
  {
   "cell_type": "code",
   "execution_count": 42,
   "metadata": {},
   "outputs": [
    {
     "output_type": "execute_result",
     "data": {
      "text/plain": [
       "torch.Size([1, 8, 4, 192])"
      ]
     },
     "metadata": {},
     "execution_count": 42
    }
   ],
   "source": [
    "qkv = qkv.permute(0,2,1,3) # [batch_size, num_heads, sequence_length, 3*head_dim]\n",
    "qkv.shape"
   ]
  },
  {
   "cell_type": "code",
   "execution_count": 43,
   "metadata": {},
   "outputs": [
    {
     "output_type": "execute_result",
     "data": {
      "text/plain": [
       "(torch.Size([1, 8, 4, 64]),\n",
       " torch.Size([1, 8, 4, 64]),\n",
       " torch.Size([1, 8, 4, 64]))"
      ]
     },
     "metadata": {},
     "execution_count": 43
    }
   ],
   "source": [
    "q, k, v = qkv.chunk(3, dim=-1)\n",
    "q.shape, k.shape, v.shape"
   ]
  },
  {
   "cell_type": "code",
   "execution_count": null,
   "metadata": {},
   "outputs": [],
   "source": []
  },
  {
   "source": [
    "# Attention mechanism\n",
    "\n",
    "## Self Attention for multiple heads\n",
    "\n",
    "for a single head:\n"
   ],
   "cell_type": "markdown",
   "metadata": {}
  },
  {
   "cell_type": "code",
   "execution_count": 45,
   "metadata": {},
   "outputs": [
    {
     "output_type": "execute_result",
     "data": {
      "text/plain": [
       "64"
      ]
     },
     "metadata": {},
     "execution_count": 45
    }
   ],
   "source": [
    "q.size()[-1]"
   ]
  },
  {
   "cell_type": "code",
   "execution_count": 46,
   "metadata": {},
   "outputs": [],
   "source": [
    "d_k =  q.size()[-1]\n",
    "scaled = torch.matmul(q, k.transpose(-2, -1)) /math.sqrt(d_k)"
   ]
  },
  {
   "cell_type": "code",
   "execution_count": null,
   "metadata": {},
   "outputs": [],
   "source": []
  }
 ]
}